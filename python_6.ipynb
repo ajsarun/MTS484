{
  "nbformat": 4,
  "nbformat_minor": 0,
  "metadata": {
    "colab": {
      "provenance": [],
      "toc_visible": true,
      "authorship_tag": "ABX9TyPgqHbh+5jdZSuBA4Wr1HZ2"
    },
    "kernelspec": {
      "name": "python3",
      "display_name": "Python 3"
    },
    "language_info": {
      "name": "python"
    }
  },
  "cells": [
    {
      "cell_type": "markdown",
      "source": [
        "# Chapter 6\n",
        "# Dictionary, Set and Frozen Set"
      ],
      "metadata": {
        "id": "gCE7oGKPBtbk"
      }
    },
    {
      "cell_type": "markdown",
      "source": [
        "## **Dictionary**\n",
        "\n",
        "A dictionary in Python is a versatile and powerful data structure designed to store collections of data in a specific format: key-value pairs.\n",
        "\n",
        "Think of it like a real-world dictionary. You have a word (the key), and its corresponding definition (the value). In Python, the keys act as unique identifiers for their associated values.\n",
        "\n",
        "**Core Characteristics:**\n",
        "\n",
        "- Key-Value Pairs: The fundamental building block. Each item consists of a key linked to its value.\n",
        "- Mutable: Dictionaries can be modified after they are created. You can add, remove, or change key-value pairs.\n",
        "- Unordered: The order in which you add items doesn't necessarily determine the order in which they are stored. (However, Python 3.7+ maintains insertion order)\n",
        "- Keys are Unique: Each key within a dictionary must be unique. No duplicates are allowed.\n",
        "- Flexible Data Types: Keys and values can be of different data types (strings, numbers, lists, even other dictionaries)."
      ],
      "metadata": {
        "id": "RHJhuHnSiyys"
      }
    },
    {
      "cell_type": "markdown",
      "source": [
        "### **Creating Dictionaries**\n",
        "You have two main ways:\n",
        "1. Curly Braces `{}`\n"
      ],
      "metadata": {
        "id": "rkMgts_jkM8Y"
      }
    },
    {
      "cell_type": "code",
      "source": [
        "my_dict = {\"name\": \"Alice\", \"age\": 30, \"city\": \"New York\"}\n",
        "print(my_dict)"
      ],
      "metadata": {
        "colab": {
          "base_uri": "https://localhost:8080/"
        },
        "id": "i4a10_NEkawO",
        "outputId": "bb8abfb7-0aa3-44a8-9509-80c58a8d3021"
      },
      "execution_count": null,
      "outputs": [
        {
          "output_type": "stream",
          "name": "stdout",
          "text": [
            "{'name': 'Alice', 'age': 30, 'city': 'New York'}\n"
          ]
        }
      ]
    },
    {
      "cell_type": "markdown",
      "source": [
        "2. `dict()` constructor"
      ],
      "metadata": {
        "id": "bvSbi3awkhRJ"
      }
    },
    {
      "cell_type": "code",
      "source": [
        "my_dict = dict(name=\"Bob\", age=25, city=\"London\")\n",
        "print(my_dict)"
      ],
      "metadata": {
        "colab": {
          "base_uri": "https://localhost:8080/"
        },
        "id": "bUmPlCaWknDu",
        "outputId": "8d1f1925-ac84-43d3-8a76-f2212bf6e00d"
      },
      "execution_count": null,
      "outputs": [
        {
          "output_type": "stream",
          "name": "stdout",
          "text": [
            "{'name': 'Bob', 'age': 25, 'city': 'London'}\n"
          ]
        }
      ]
    },
    {
      "cell_type": "markdown",
      "source": [
        "### **Accessing Values**\n",
        "\n",
        "Use the key within square brackets `[]`:"
      ],
      "metadata": {
        "id": "VX0sX79ylipR"
      }
    },
    {
      "cell_type": "code",
      "source": [
        "my_dict = {\"name\": \"Alice\", \"age\": 30, \"city\": \"New York\"}\n",
        "print(my_dict[\"name\"])  # Output: Alice"
      ],
      "metadata": {
        "colab": {
          "base_uri": "https://localhost:8080/"
        },
        "id": "s1cOTkoFlyZO",
        "outputId": "92e370e9-28f6-41e0-9cf9-b8e80be0e095"
      },
      "execution_count": null,
      "outputs": [
        {
          "output_type": "stream",
          "name": "stdout",
          "text": [
            "Alice\n"
          ]
        }
      ]
    },
    {
      "cell_type": "markdown",
      "source": [
        "### **Common Dictionary Operations**\n",
        "\n",
        "- Adding/Modifying:"
      ],
      "metadata": {
        "id": "_PLaTJobl977"
      }
    },
    {
      "cell_type": "code",
      "source": [
        "my_dict = {\"name\": \"Alice\", \"age\": 30, \"city\": \"New York\"}\n",
        "my_dict[\"job\"] = \"Engineer\"  # Adds a new key-value pair\n",
        "my_dict[\"age\"] = 31        # Modifies an existing value\n",
        "print (my_dict)"
      ],
      "metadata": {
        "colab": {
          "base_uri": "https://localhost:8080/"
        },
        "id": "4cc0sU5hmfk1",
        "outputId": "19442f9f-94b2-42e0-8f98-55ddd9e34c96"
      },
      "execution_count": null,
      "outputs": [
        {
          "output_type": "stream",
          "name": "stdout",
          "text": [
            "{'name': 'Alice', 'age': 31, 'city': 'New York', 'job': 'Engineer'}\n"
          ]
        }
      ]
    },
    {
      "cell_type": "markdown",
      "source": [
        "- Removing:"
      ],
      "metadata": {
        "id": "OPLPNUTDmrwX"
      }
    },
    {
      "cell_type": "code",
      "source": [
        "my_dict = {\"name\": \"Alice\", \"age\": 30, \"city\": \"New York\"}\n",
        "del my_dict[\"city\"]        # Removes a key-value pair\n",
        "print(my_dict)"
      ],
      "metadata": {
        "colab": {
          "base_uri": "https://localhost:8080/"
        },
        "id": "lgg3Kot1m0hV",
        "outputId": "ed9a6846-7545-4378-e4e6-d1707a9ee04e"
      },
      "execution_count": null,
      "outputs": [
        {
          "output_type": "stream",
          "name": "stdout",
          "text": [
            "{'name': 'Alice', 'age': 30}\n"
          ]
        }
      ]
    },
    {
      "cell_type": "markdown",
      "source": [
        "- Checking Existence:"
      ],
      "metadata": {
        "id": "Qu_pkDU-nDoZ"
      }
    },
    {
      "cell_type": "code",
      "source": [
        "my_dict = {\"name\": \"Alice\", \"age\": 30, \"city\": \"New York\"}\n",
        "if \"age\" in my_dict:\n",
        "    print(\"Age is present\")"
      ],
      "metadata": {
        "colab": {
          "base_uri": "https://localhost:8080/"
        },
        "id": "Jlh1iBR7nGuP",
        "outputId": "2a2b6df0-0342-4831-c67f-cb4129407da5"
      },
      "execution_count": null,
      "outputs": [
        {
          "output_type": "stream",
          "name": "stdout",
          "text": [
            "Age is present\n"
          ]
        }
      ]
    },
    {
      "cell_type": "markdown",
      "source": [
        "- Iterating:"
      ],
      "metadata": {
        "id": "HOa02c5pnT-9"
      }
    },
    {
      "cell_type": "code",
      "source": [
        "my_dict = {\"name\": \"Alice\", \"age\": 30, \"city\": \"New York\"}\n",
        "for key, value in my_dict.items():  # Iterate over key-value pairs\n",
        "    print(f\"{key}: {value}\")"
      ],
      "metadata": {
        "colab": {
          "base_uri": "https://localhost:8080/"
        },
        "id": "2oVG6zOlnXjt",
        "outputId": "20da72f7-8e93-4bf2-e280-26f6d8457150"
      },
      "execution_count": null,
      "outputs": [
        {
          "output_type": "stream",
          "name": "stdout",
          "text": [
            "name: Alice\n",
            "age: 30\n",
            "city: New York\n"
          ]
        }
      ]
    },
    {
      "cell_type": "markdown",
      "source": [
        "### Dictionary Methods\n",
        "\n",
        "`keys()`\n",
        "\n",
        "```\n",
        "def keys(self) -> dict_keys:\n",
        "```\n",
        "- Parameters: None\n",
        "- Return Type: dict_keys - A view object that displays a list of all the keys in the dictionary.\n"
      ],
      "metadata": {
        "id": "obkO90V_nfws"
      }
    },
    {
      "cell_type": "code",
      "source": [
        "my_dict = {\"name\": \"Alice\", \"age\": 30, \"city\": \"New York\"}\n",
        "keys = my_dict.keys()\n",
        "print(keys)"
      ],
      "metadata": {
        "colab": {
          "base_uri": "https://localhost:8080/"
        },
        "id": "MTGxSgUIopf7",
        "outputId": "222074fa-3f7f-4dee-9223-e3cbcc58cd9b"
      },
      "execution_count": null,
      "outputs": [
        {
          "output_type": "stream",
          "name": "stdout",
          "text": [
            "dict_keys(['name', 'age', 'city'])\n"
          ]
        }
      ]
    },
    {
      "cell_type": "markdown",
      "source": [
        "`values()`\n",
        "\n",
        "```\n",
        "def values(self) -> dict_values:\n",
        "\n",
        "```\n",
        "- Parameters: None\n",
        "- Return Type: dict_values - A view object that displays a list of all the values in the dictionary.\n"
      ],
      "metadata": {
        "id": "due2LIMepKA0"
      }
    },
    {
      "cell_type": "code",
      "source": [
        "my_dict = {\"name\": \"Alice\", \"age\": 30, \"city\": \"New York\"}\n",
        "values = my_dict.values()\n",
        "print(values)"
      ],
      "metadata": {
        "colab": {
          "base_uri": "https://localhost:8080/"
        },
        "id": "RzYY_Lvspl-I",
        "outputId": "0972102e-94fb-473d-8cfa-4ed26616c532"
      },
      "execution_count": null,
      "outputs": [
        {
          "output_type": "stream",
          "name": "stdout",
          "text": [
            "dict_values(['Alice', 30, 'New York'])\n"
          ]
        }
      ]
    },
    {
      "cell_type": "markdown",
      "source": [
        "`items()`\n",
        "\n",
        "```\n",
        "def items(self) -> dict_items:\n",
        "\n",
        "```\n",
        "\n",
        "- Parameters: None\n",
        "- Return Type: dict_items - A view object that displays a list of all the key-value pairs in the dictionary as tuples."
      ],
      "metadata": {
        "id": "VDpAfn7jpwxa"
      }
    },
    {
      "cell_type": "code",
      "source": [
        "my_dict = {\"name\": \"Alice\", \"age\": 30, \"city\": \"New York\"}\n",
        "items = my_dict.items()\n",
        "print(items)"
      ],
      "metadata": {
        "colab": {
          "base_uri": "https://localhost:8080/"
        },
        "id": "dXN2Hn3Ap7Eh",
        "outputId": "e6df5159-a616-462f-d636-9f98196395b4"
      },
      "execution_count": null,
      "outputs": [
        {
          "output_type": "stream",
          "name": "stdout",
          "text": [
            "dict_items([('name', 'Alice'), ('age', 30), ('city', 'New York')])\n"
          ]
        }
      ]
    },
    {
      "cell_type": "markdown",
      "source": [
        "`get()`\n",
        "\n",
        "```\n",
        "def get(self, key: Any, default: Any = None) -> Any:\n",
        "\n",
        "```\n",
        "- Parameters:\n",
        "  - key (Any): The key to look for in the dictionary.\n",
        "  - default (Any, optional): The value to return if the key is not found. The default value is None.\n",
        "-Return Type: The value associated with the specified key if the key is in the dictionary; otherwise, the default value.\n"
      ],
      "metadata": {
        "id": "bGeSJPa0qLr_"
      }
    },
    {
      "cell_type": "code",
      "source": [
        "my_dict = {\"name\": \"Alice\", \"age\": 30, \"city\": \"New York\"}\n",
        "value = my_dict.get(\"age\")\n",
        "print(value)\n",
        "value = my_dict.get(\"job\")\n",
        "print(value)\n",
        "value = my_dict.get(\"job\", \"Not Found\")\n",
        "print(value)"
      ],
      "metadata": {
        "colab": {
          "base_uri": "https://localhost:8080/"
        },
        "id": "Wj84v6oeqddd",
        "outputId": "65ce0b4a-cc8e-448a-dafe-6d33b1e5b802"
      },
      "execution_count": null,
      "outputs": [
        {
          "output_type": "stream",
          "name": "stdout",
          "text": [
            "30\n",
            "None\n",
            "Not Found\n"
          ]
        }
      ]
    },
    {
      "cell_type": "markdown",
      "source": [
        "`pop()`\n",
        "\n",
        "```\n",
        "def pop(self, key: Any, default: Any = None) -> Any:\n",
        "\n",
        "```\n",
        "\n",
        "- Parameters:\n",
        "  - key (Any): The key to be removed from the dictionary.\n",
        "  - default (Any, optional): The value to return if the key is not found. The default value is None.\n",
        "- Return Type: The value associated with the specified key if the key is in the dictionary; otherwise, the default value. If the default is not provided and the key is not found, a KeyError is raised."
      ],
      "metadata": {
        "id": "vWYAHk_rrby2"
      }
    },
    {
      "cell_type": "code",
      "source": [
        "my_dict = {\"name\": \"Alice\", \"age\": 30, \"city\": \"New York\"}\n",
        "value = my_dict.pop(\"age\")\n",
        "print(value)\n",
        "print(my_dict)\n",
        "value = my_dict.get(\"job\")\n",
        "print(value)\n",
        "value = my_dict.get(\"job\", \"Not Found\")\n",
        "print(value)"
      ],
      "metadata": {
        "colab": {
          "base_uri": "https://localhost:8080/"
        },
        "id": "KkODl-mhr03Q",
        "outputId": "1a54c831-1a32-4cd1-9725-17a4183539f9"
      },
      "execution_count": null,
      "outputs": [
        {
          "output_type": "stream",
          "name": "stdout",
          "text": [
            "30\n",
            "{'name': 'Alice', 'city': 'New York'}\n",
            "None\n",
            "Not Found\n"
          ]
        }
      ]
    },
    {
      "cell_type": "markdown",
      "source": [
        "`update()`\n",
        "\n",
        "```\n",
        "def update(self, other: Union[Dict[Any, Any], Iterable[Tuple[Any, Any]]]) -> None:\n",
        "\n",
        "```\n",
        "- Parameters:\n",
        "  -- other (Union[Dict[Any, Any], Iterable[Tuple[Any, Any]]]): Another dictionary or an iterable of key-value pairs to update the dictionary with.\n",
        "- Return Type: None\n"
      ],
      "metadata": {
        "id": "oga40gKXsqte"
      }
    },
    {
      "cell_type": "code",
      "source": [
        "my_dict = {\"a\": 1}\n",
        "my_dict.update({\"b\": 2, \"c\": 3}) #update with elements from another dictionary\n",
        "print(my_dict)  # Output: {'a': 1, 'b': 2, 'c': 3}\n",
        "\n",
        "my_dict.update([(\"d\", 4), (\"e\", 5)]) #update with elements from an iterable of key-value pairs\n",
        "print(my_dict)  # Output: {'a': 1, 'b': 2, 'c': 3, 'd': 4, 'e': 5}\n",
        "my_dict.update([[\"f\", 7], [\"g\", 8]]) #update with elements from an iterable of key-value pairs\n",
        "print(my_dict) # #update with elements from an iterable of key-value pairs"
      ],
      "metadata": {
        "colab": {
          "base_uri": "https://localhost:8080/"
        },
        "id": "EWLD3k2NteBE",
        "outputId": "b7c1c4e3-9eec-4b91-c6d2-ca954aa674bc"
      },
      "execution_count": null,
      "outputs": [
        {
          "output_type": "stream",
          "name": "stdout",
          "text": [
            "{'a': 1, 'b': 2, 'c': 3}\n",
            "{'a': 1, 'b': 2, 'c': 3, 'd': 4, 'e': 5}\n",
            "{'a': 1, 'b': 2, 'c': 3, 'd': 4, 'e': 5, 'f': 7, 'g': 8}\n"
          ]
        }
      ]
    },
    {
      "cell_type": "markdown",
      "source": [
        "### **Why Use Dictionaries?**\n",
        "\n",
        "- Efficient Lookup: Dictionaries are optimized for finding values based on their keys. This makes them excellent for tasks where you need quick access to data.\n",
        "- Data Organization: They offer a structured way to group related information.\n",
        "- Flexibility: The ability to use different data types for keys and values makes them adaptable to various scenarios."
      ],
      "metadata": {
        "id": "usCXPSNNuY-0"
      }
    },
    {
      "cell_type": "markdown",
      "source": [
        "### ExampleCounting Word Frequencies"
      ],
      "metadata": {
        "id": "M70E1HgWuidx"
      }
    },
    {
      "cell_type": "code",
      "source": [
        "text = \"This is a sample text to demonstrate word frequency counting.\"\n",
        "word_counts = {}\n",
        "for word in text.split():\n",
        "    if word in word_counts:\n",
        "        word_counts[word] += 1\n",
        "    else:\n",
        "        word_counts[word] = 1\n",
        "\n",
        "print(word_counts)\n"
      ],
      "metadata": {
        "colab": {
          "base_uri": "https://localhost:8080/"
        },
        "id": "76MaCJdhunZJ",
        "outputId": "f7cb4b0f-22b9-4c7f-b7d0-1eea1cb4316c"
      },
      "execution_count": null,
      "outputs": [
        {
          "output_type": "stream",
          "name": "stdout",
          "text": [
            "{'This': 1, 'is': 1, 'a': 1, 'sample': 1, 'text': 1, 'to': 1, 'demonstrate': 1, 'word': 1, 'frequency': 1, 'counting.': 1}\n"
          ]
        }
      ]
    },
    {
      "cell_type": "markdown",
      "source": [
        "### Exercise 6.1\n",
        "\n",
        "Assume we have the following students information\n",
        "```\n",
        "ID      Name       Midterm      Final     Project\n",
        "\n",
        "12345   John         25           35        10\n",
        "12346   Jane         26           34        12\n",
        "12347   Marry        29           30        10\n",
        "12348   Sam          18           24         8\n",
        "```\n",
        "\n",
        "Your tasks are:\n",
        "1. Create a dictionary to store this information\n",
        "1. Write a function to calculate total score of each student and add it to the dictionary.\n",
        "1. Write a function to calculate grade of each student using the following criteria A\" (90 or above), \"B\" (80-89), \"C\" (70-79), and \"F\" (below 70). Add this grade to the dictionary  \n",
        "1. Print student information\n",
        "\n",
        "Sample Output:\n",
        "\n",
        "```\n",
        "Student Information:\n",
        "--------------------------------------------------\n",
        "ID: 12345\n",
        "Name: John\n",
        "Midterm: 25\n",
        "Final: 35\n",
        "Project: 10\n",
        "Total: 70\n",
        "Grade: C\n",
        "--------------------------------------------------\n",
        "ID: 12346\n",
        "Name: Jane\n",
        "Midterm: 26\n",
        "Final: 34\n",
        "Project: 12\n",
        "Total: 72\n",
        "Grade: C\n",
        "--------------------------------------------------\n",
        "ID: 12347\n",
        "Name: Marry\n",
        "Midterm: 29\n",
        "Final: 30\n",
        "Project: 10\n",
        "Total: 69\n",
        "Grade: F\n",
        "--------------------------------------------------\n",
        "ID: 12348\n",
        "Name: Sam\n",
        "Midterm: 18\n",
        "Final: 24\n",
        "Project: 8\n",
        "Total: 50\n",
        "Grade: F\n",
        "--------------------------------------------------\n",
        "```\n",
        "\n",
        "\n",
        "\n"
      ],
      "metadata": {
        "id": "TY3k8hF5u030"
      }
    },
    {
      "cell_type": "code",
      "source": [
        "#exercise 6.1\n",
        "#your code here\n",
        "\n",
        "\n"
      ],
      "metadata": {
        "id": "NUsAcLSa1Ih_"
      },
      "execution_count": null,
      "outputs": []
    },
    {
      "cell_type": "markdown",
      "source": [
        "## Set\n",
        "\n",
        "In Python, a set is a built-in data type that represents an **unordered collection of unique elements**. Sets are **mutable**, meaning you can add or remove elements after a set has been created.\n",
        "\n",
        "**Key Characteristics:**\n",
        "\n",
        "- **Unordered**: Items in a set have no specific sequence or index. **You cannot access them by position**.\n",
        "- **Unique**: Each element within a set must be distinct. Duplicates are automatically removed.\n",
        "- **Mutable**: You can add or remove elements from a set after it's created.\n",
        "- **Heterogeneous**: Sets can contain elements of different data types (e.g., integers, strings, floats).\n",
        "\n"
      ],
      "metadata": {
        "id": "9ju-bxf0CDRJ"
      }
    },
    {
      "cell_type": "markdown",
      "source": [
        "### **Creating Sets:**\n",
        "\n",
        "There are two main ways to create a set:"
      ],
      "metadata": {
        "id": "xVcxyRNFCTva"
      }
    },
    {
      "cell_type": "code",
      "execution_count": null,
      "metadata": {
        "colab": {
          "base_uri": "https://localhost:8080/"
        },
        "id": "c3MWhInbA5JS",
        "outputId": "ab73ba05-a544-402e-efb1-0378f5393e82"
      },
      "outputs": [
        {
          "output_type": "stream",
          "name": "stdout",
          "text": [
            "{1, 2, 3.14, 3, 'apple'}\n",
            "{1, 2, 3}\n",
            "{'a', 'e', 'p', 'l'}\n"
          ]
        }
      ],
      "source": [
        "# Using curly braces\n",
        "my_set = {1, 2, 3, \"apple\", 3.14}\n",
        "\n",
        "# Using the set() constructor\n",
        "my_set2 = set([1, 2, 2, 3])  # Notice the duplicate '2' is removed\n",
        "\n",
        "# Notice the duplicate 'p' is removed,\n",
        "#in this case each characer is one element of the set since string is an\n",
        "#iterable object\n",
        "my_set3 = set(\"apple\")\n",
        "print(my_set)\n",
        "print(my_set2)\n",
        "print(my_set3)"
      ]
    },
    {
      "cell_type": "markdown",
      "source": [
        "**A set can not contain iterable objects that are mutable data types**"
      ],
      "metadata": {
        "id": "yE2cmyzfOAZI"
      }
    },
    {
      "cell_type": "code",
      "source": [
        "test = {[1,2,3,4], [5,6,7,8]} # This is not OK since list is mutable"
      ],
      "metadata": {
        "colab": {
          "base_uri": "https://localhost:8080/",
          "height": 141
        },
        "id": "vqrSV588GKfy",
        "outputId": "7a1a0c83-148a-41c0-becf-c8c97973b8eb"
      },
      "execution_count": null,
      "outputs": [
        {
          "output_type": "error",
          "ename": "TypeError",
          "evalue": "unhashable type: 'list'",
          "traceback": [
            "\u001b[0;31m---------------------------------------------------------------------------\u001b[0m",
            "\u001b[0;31mTypeError\u001b[0m                                 Traceback (most recent call last)",
            "\u001b[0;32m<ipython-input-11-896a18e9dd8d>\u001b[0m in \u001b[0;36m<cell line: 1>\u001b[0;34m()\u001b[0m\n\u001b[0;32m----> 1\u001b[0;31m \u001b[0mtest\u001b[0m \u001b[0;34m=\u001b[0m \u001b[0;34m{\u001b[0m\u001b[0;34m[\u001b[0m\u001b[0;36m1\u001b[0m\u001b[0;34m,\u001b[0m\u001b[0;36m2\u001b[0m\u001b[0;34m,\u001b[0m\u001b[0;36m3\u001b[0m\u001b[0;34m,\u001b[0m\u001b[0;36m4\u001b[0m\u001b[0;34m]\u001b[0m\u001b[0;34m,\u001b[0m \u001b[0;34m[\u001b[0m\u001b[0;36m5\u001b[0m\u001b[0;34m,\u001b[0m\u001b[0;36m6\u001b[0m\u001b[0;34m,\u001b[0m\u001b[0;36m7\u001b[0m\u001b[0;34m,\u001b[0m\u001b[0;36m8\u001b[0m\u001b[0;34m]\u001b[0m\u001b[0;34m}\u001b[0m \u001b[0;31m# This is not OK since list is mutable\u001b[0m\u001b[0;34m\u001b[0m\u001b[0;34m\u001b[0m\u001b[0m\n\u001b[0m",
            "\u001b[0;31mTypeError\u001b[0m: unhashable type: 'list'"
          ]
        }
      ]
    },
    {
      "cell_type": "code",
      "source": [
        "test = {(1,2,3,4), (5,6,7,8)} # This is OK since tuple is immutable\n",
        "print(test)"
      ],
      "metadata": {
        "colab": {
          "base_uri": "https://localhost:8080/"
        },
        "id": "AAHwd7N1O-aL",
        "outputId": "cefcfb06-8d9f-42e1-918e-455fec537b9b"
      },
      "execution_count": null,
      "outputs": [
        {
          "output_type": "stream",
          "name": "stdout",
          "text": [
            "{(1, 2, 3, 4)}\n"
          ]
        }
      ]
    },
    {
      "cell_type": "code",
      "source": [
        "a = 5\n",
        "b = 6\n",
        "test = {a,b}\n",
        "print(test)"
      ],
      "metadata": {
        "colab": {
          "base_uri": "https://localhost:8080/"
        },
        "id": "04-TjTgkOZFx",
        "outputId": "f26718e8-588c-4d10-b63e-b879567fc7b5"
      },
      "execution_count": null,
      "outputs": [
        {
          "output_type": "stream",
          "name": "stdout",
          "text": [
            "{5, 6}\n"
          ]
        }
      ]
    },
    {
      "cell_type": "markdown",
      "source": [
        "**Why mutable objects are not allowed in a set**\n",
        "\n",
        "**Hashing and Immutability:**\n",
        "\n",
        "Sets rely on hashing to efficiently manage and locate their elements. **Hashing is the process of converting an object into a unique numerical value (a hash code) that represents that object. This hash code is used to index the element within the set's internal structure.**\n",
        "\n",
        "To ensure consistent hashing and reliable element retrieval, the objects stored within a set must be immutable. **If an object's hash code were to change after being added to a set, the set would no longer be able to locate it correctly**. This would break the set's core functionality."
      ],
      "metadata": {
        "id": "YzatjfNZFMav"
      }
    },
    {
      "cell_type": "markdown",
      "source": [
        "### Common Set Operations\n",
        "\n",
        "- Adding Elements:"
      ],
      "metadata": {
        "id": "QLUN-NVlQU7L"
      }
    },
    {
      "cell_type": "code",
      "source": [
        "my_set = {1, 2, 3, \"apple\", 3.14}\n",
        "my_set.add(\"banana\")\n",
        "print(my_set)\n",
        "my_set.add(\"banana\") # The duplicated data will not be added\n",
        "print(my_set)"
      ],
      "metadata": {
        "colab": {
          "base_uri": "https://localhost:8080/"
        },
        "id": "S71ZlTesQdem",
        "outputId": "85c48364-9504-4a70-dfa7-d196bc0c6b7c"
      },
      "execution_count": null,
      "outputs": [
        {
          "output_type": "stream",
          "name": "stdout",
          "text": [
            "{1, 2, 3.14, 3, 'apple', 'banana'}\n",
            "{1, 2, 3.14, 3, 'apple', 'banana'}\n"
          ]
        }
      ]
    },
    {
      "cell_type": "markdown",
      "source": [
        "- Removing Elements:"
      ],
      "metadata": {
        "id": "tkOrDqDtR7UE"
      }
    },
    {
      "cell_type": "code",
      "source": [
        "my_set = {1, 2, 3, \"apple\", 3.14}\n",
        "my_set.remove(2)\n",
        "print(my_set)\n",
        "my_set.remove(2) # Raises an error if the element doesn't exist\n"
      ],
      "metadata": {
        "colab": {
          "base_uri": "https://localhost:8080/",
          "height": 193
        },
        "id": "mk9VLI_ESBkh",
        "outputId": "dd13d54f-9c03-486e-f896-fd4df0c7dc56"
      },
      "execution_count": null,
      "outputs": [
        {
          "output_type": "stream",
          "name": "stdout",
          "text": [
            "{1, 3.14, 3, 'apple'}\n"
          ]
        },
        {
          "output_type": "error",
          "ename": "KeyError",
          "evalue": "2",
          "traceback": [
            "\u001b[0;31m---------------------------------------------------------------------------\u001b[0m",
            "\u001b[0;31mKeyError\u001b[0m                                  Traceback (most recent call last)",
            "\u001b[0;32m<ipython-input-14-21d4e8128e4f>\u001b[0m in \u001b[0;36m<cell line: 4>\u001b[0;34m()\u001b[0m\n\u001b[1;32m      2\u001b[0m \u001b[0mmy_set\u001b[0m\u001b[0;34m.\u001b[0m\u001b[0mremove\u001b[0m\u001b[0;34m(\u001b[0m\u001b[0;36m2\u001b[0m\u001b[0;34m)\u001b[0m\u001b[0;34m\u001b[0m\u001b[0;34m\u001b[0m\u001b[0m\n\u001b[1;32m      3\u001b[0m \u001b[0mprint\u001b[0m\u001b[0;34m(\u001b[0m\u001b[0mmy_set\u001b[0m\u001b[0;34m)\u001b[0m\u001b[0;34m\u001b[0m\u001b[0;34m\u001b[0m\u001b[0m\n\u001b[0;32m----> 4\u001b[0;31m \u001b[0mmy_set\u001b[0m\u001b[0;34m.\u001b[0m\u001b[0mremove\u001b[0m\u001b[0;34m(\u001b[0m\u001b[0;36m2\u001b[0m\u001b[0;34m)\u001b[0m \u001b[0;31m# Raises an error if the element doesn't exist\u001b[0m\u001b[0;34m\u001b[0m\u001b[0;34m\u001b[0m\u001b[0m\n\u001b[0m",
            "\u001b[0;31mKeyError\u001b[0m: 2"
          ]
        }
      ]
    },
    {
      "cell_type": "code",
      "source": [
        "my_set = {1, 2, 3, \"apple\", 3.14}\n",
        "my_set.remove(2)\n",
        "print(my_set)\n",
        "my_set.discard(2)  # Safely removes the element, even if not present\n"
      ],
      "metadata": {
        "colab": {
          "base_uri": "https://localhost:8080/"
        },
        "id": "uBQ6zig7SEp-",
        "outputId": "a3a1b0db-ed6c-449b-9a3c-07700ae82229"
      },
      "execution_count": null,
      "outputs": [
        {
          "output_type": "stream",
          "name": "stdout",
          "text": [
            "{'apple', 1, 3.14, 3}\n"
          ]
        }
      ]
    },
    {
      "cell_type": "code",
      "source": [
        "my_set = {1, 2, 3, \"apple\", 3.14}\n",
        "my_set.pop()  # Removes and returns a random element, raise Error if a set is empty\n",
        "print(my_set)\n",
        "my_set.clear()  # Removes all elements from the set\n",
        "print(my_set)"
      ],
      "metadata": {
        "colab": {
          "base_uri": "https://localhost:8080/"
        },
        "id": "L0l4C1_Yeu43",
        "outputId": "253fc7ef-7c01-4222-c516-879dadaf4820"
      },
      "execution_count": null,
      "outputs": [
        {
          "output_type": "stream",
          "name": "stdout",
          "text": [
            "{1, 2, 3.14, 3}\n",
            "set()\n"
          ]
        }
      ]
    },
    {
      "cell_type": "markdown",
      "source": [
        "- Membership Testing:"
      ],
      "metadata": {
        "id": "B0p2mRInS4ls"
      }
    },
    {
      "cell_type": "code",
      "source": [
        "my_set = {1, 2, 3, \"apple\", 3.14}\n",
        "if \"apple\" in my_set:\n",
        "    print(\"Apple is in the set\")\n"
      ],
      "metadata": {
        "colab": {
          "base_uri": "https://localhost:8080/"
        },
        "id": "M9DFmRpOS6F3",
        "outputId": "9eff7ea6-90c4-4aca-967b-288676e4d4d2"
      },
      "execution_count": null,
      "outputs": [
        {
          "output_type": "stream",
          "name": "stdout",
          "text": [
            "Apple is in the set\n"
          ]
        }
      ]
    },
    {
      "cell_type": "markdown",
      "source": [
        "- Iterating Through a Set:"
      ],
      "metadata": {
        "id": "kqnU_54OW7HM"
      }
    },
    {
      "cell_type": "code",
      "source": [
        "my_set = {1, 2, 3, \"apple\", 3.14}\n",
        "for element in my_set:\n",
        "    print(element)"
      ],
      "metadata": {
        "colab": {
          "base_uri": "https://localhost:8080/"
        },
        "id": "2HtCJAYPW-J6",
        "outputId": "01e382be-fa7c-49b5-9fae-39d6686e606f"
      },
      "execution_count": null,
      "outputs": [
        {
          "output_type": "stream",
          "name": "stdout",
          "text": [
            "1\n",
            "2\n",
            "3.14\n",
            "3\n",
            "apple\n"
          ]
        }
      ]
    },
    {
      "cell_type": "markdown",
      "source": [
        "*Note:*\n",
        "\n",
        "No indexing or slicing is allowed in Sets."
      ],
      "metadata": {
        "id": "deLzlQo1g7Gt"
      }
    },
    {
      "cell_type": "markdown",
      "source": [
        "- Set Operations: Sets support mathematical operations like union, intersection, difference, and symmetric difference."
      ],
      "metadata": {
        "id": "_ZyshqXHXJKk"
      }
    },
    {
      "cell_type": "code",
      "source": [
        "set1 = {1, 2, 3}\n",
        "set2 = {3, 4, 5}\n",
        "\n",
        "union_set = set1.union(set2)         # {1, 2, 3, 4, 5}\n",
        "print(union_set)\n",
        "intersection_set = set1.intersection(set2)  # {3}\n",
        "print(intersection_set)\n",
        "difference_set = set1.difference(set2)  # {1, 2}\n",
        "print(difference_set)\n",
        "symmetric_difference_set = set1.symmetric_difference(set2)  # {1, 2, 4, 5}\n",
        "print(symmetric_difference_set)\n"
      ],
      "metadata": {
        "colab": {
          "base_uri": "https://localhost:8080/"
        },
        "id": "SCgnw-goXITg",
        "outputId": "7337a9ca-ff97-44d9-d6c3-7773d9df95ec"
      },
      "execution_count": null,
      "outputs": [
        {
          "output_type": "stream",
          "name": "stdout",
          "text": [
            "{1, 2, 3, 4, 5}\n",
            "{3}\n",
            "{1, 2}\n",
            "{1, 2, 4, 5}\n"
          ]
        }
      ]
    },
    {
      "cell_type": "code",
      "source": [
        "#use operator\n",
        "\n",
        "set1 = {1, 2, 3}\n",
        "set2 = {3, 4, 5}\n",
        "\n",
        "# Union\n",
        "print(set1 | set2)  # Output: {1, 2, 3, 4, 5}\n",
        "\n",
        "# Intersection\n",
        "print(set1 & set2)  # Output: {3}\n",
        "\n",
        "# Difference\n",
        "print(set1 - set2)  # Output: {1, 2}\n",
        "\n",
        "# Symmetric Difference\n",
        "print(set1 ^ set2)  # Output: {1, 2, 4, 5}\n"
      ],
      "metadata": {
        "colab": {
          "base_uri": "https://localhost:8080/"
        },
        "id": "BP3m4BBLZsKv",
        "outputId": "439cb897-6775-4fa1-8042-5a3b92c33511"
      },
      "execution_count": null,
      "outputs": [
        {
          "output_type": "stream",
          "name": "stdout",
          "text": [
            "{1, 2, 3, 4, 5}\n",
            "{3}\n",
            "{1, 2}\n",
            "{1, 2, 4, 5}\n"
          ]
        }
      ]
    },
    {
      "cell_type": "code",
      "source": [
        "#More Mathematical Set Operations\n",
        "set1 = {3, 4}\n",
        "set2 = {3, 4, 5}\n",
        "if set1.issubset(set2):\n",
        "    print(\"Set1 is a subset of Set2\")\n",
        "if set1.issuperset(set2):\n",
        "    print(\"Set1 is a superset of Set2\")\n",
        "if set1.isdisjoint(set2):\n",
        "    print(\"Set1 and Set2 have no common elements\")"
      ],
      "metadata": {
        "colab": {
          "base_uri": "https://localhost:8080/"
        },
        "id": "n_fUmWoTdw9O",
        "outputId": "fb0571c9-da8d-408e-d435-0bb9f00cc8e5"
      },
      "execution_count": null,
      "outputs": [
        {
          "output_type": "stream",
          "name": "stdout",
          "text": [
            "Set1 is a subset of Set2\n"
          ]
        }
      ]
    },
    {
      "cell_type": "markdown",
      "source": [
        "- Set Comprehensions:\n",
        "\n",
        "Similar to list comprehensions, you can use set comprehensions to create sets."
      ],
      "metadata": {
        "id": "fwNhbhW1bR0Z"
      }
    },
    {
      "cell_type": "code",
      "source": [
        "squared_set = {x**2 for x in range(10)}\n",
        "print(squared_set)  # Output: {0, 1, 4, 9, 16, 25, 36, 49, 64, 81}\n"
      ],
      "metadata": {
        "colab": {
          "base_uri": "https://localhost:8080/"
        },
        "id": "pQBXvA43bT1Q",
        "outputId": "9f78c09e-ac5d-4c59-afc1-e65ef321a744"
      },
      "execution_count": null,
      "outputs": [
        {
          "output_type": "stream",
          "name": "stdout",
          "text": [
            "{0, 1, 64, 4, 36, 9, 16, 49, 81, 25}\n"
          ]
        }
      ]
    },
    {
      "cell_type": "code",
      "source": [
        "#use built-in Python's function with set\n",
        "squared_set = {x**2 for x in range(10)}\n",
        "print(len(squared_set)) # number of elements in a set\n",
        "print(max(squared_set)) # maximum element in a set\n",
        "print(min(squared_set)) # minimum element in a set\n",
        "print(sum(squared_set)) # sum of elements in a set\n",
        "print(sorted(squared_set)) # sorted elements in a set\n",
        "sorted_squared_set = sorted(squared_set)\n",
        "print(type(sorted_squared_set)) #the data type is list"
      ],
      "metadata": {
        "colab": {
          "base_uri": "https://localhost:8080/"
        },
        "id": "8Y58JCLvbdt3",
        "outputId": "26e5aa68-ae93-4b30-fec2-9ecdfe3d704f"
      },
      "execution_count": null,
      "outputs": [
        {
          "output_type": "stream",
          "name": "stdout",
          "text": [
            "10\n",
            "81\n",
            "0\n",
            "285\n",
            "[0, 1, 4, 9, 16, 25, 36, 49, 64, 81]\n",
            "<class 'list'>\n"
          ]
        }
      ]
    },
    {
      "cell_type": "markdown",
      "source": [
        "### **When to use Sets:**\n",
        "\n",
        "- Eliminate Duplicates: Quickly remove redundant items from a collection.\n",
        "- Membership Testing: Efficiently check if an element exists within a large collection.\n",
        "- Mathematical Set Operations: Perform operations like finding common elements or unique elements between collections.\n"
      ],
      "metadata": {
        "id": "09bb5jIXglre"
      }
    },
    {
      "cell_type": "markdown",
      "source": [
        "### Exercise 6.2\n",
        "\n",
        "From the following list of email addresses\n",
        "\n",
        "```\n",
        "email_list = [\n",
        "    \"alice@example.com\", \"bob@example.com\", \"charlie@example.com\",\n",
        "    \"alice@example.com\", \"david@example.com\", \"bob@example.com\",\n",
        "    \"eve@example.com\", \"frank@example.com\", \"eve@example.com\"\n",
        "]\n",
        "```\n",
        "\n",
        "Your task is to:\n",
        "- Remove the duplicate email addresses.\n",
        "- Identify and print the unique email addresses.\n",
        "- Count and print how many unique email addresses are there.\n",
        "\n",
        "Sample output\n",
        "\n",
        "```\n",
        "Unique email addresses:\n",
        "eve@example.com\n",
        "bob@example.com\n",
        "alice@example.com\n",
        "david@example.com\n",
        "frank@example.com\n",
        "charlie@example.com\n",
        "Number of unique email addresses: 6\n",
        "```\n"
      ],
      "metadata": {
        "id": "yL9SRT6CfhoK"
      }
    },
    {
      "cell_type": "code",
      "source": [
        "#exercise 6.2\n",
        "#your code here\n",
        "\n"
      ],
      "metadata": {
        "id": "3DDdgz0Ff52G"
      },
      "execution_count": null,
      "outputs": []
    },
    {
      "cell_type": "markdown",
      "source": [
        "## **Frozen Sets**\n",
        "\n",
        "A frozenset in Python is an **immutable version of the built-in set type**. While a regular set is mutable, meaning you can add or remove elements from it, a frozenset is immutable and cannot be changed after it is created. This makes frozenset **hashable** and allows it to be **used as a key in dictionaries** or as an element in other sets, which is not possible with regular sets.\n",
        "\n",
        "**Characteristics of frozenset**\n",
        "- Immutable: Once a frozenset is created, you cannot add, remove, or change its elements.\n",
        "- Hashable: Since it is immutable, a frozenset can be used as a key in a dictionary or as an element of another set.\n",
        "- Unordered: Like sets, frozensets do not maintain any order of elements.\n",
        "- No Duplicates: frozenset does not allow duplicate elements.\n",
        "\n"
      ],
      "metadata": {
        "id": "1mWU9xlChquT"
      }
    },
    {
      "cell_type": "markdown",
      "source": [
        "### **Creating a frozenset**\n",
        "\n",
        "You create a frozen set using the built-in `frozenset()` function:"
      ],
      "metadata": {
        "id": "LcBNhiBoHGBs"
      }
    },
    {
      "cell_type": "code",
      "source": [
        "# Empty frozen set\n",
        "empty_set = frozenset()\n",
        "print(empty_set)\n",
        "\n",
        "# From a list\n",
        "numbers = frozenset([1, 2, 3, 4])\n",
        "print(numbers)\n",
        "\n",
        "# From a string\n",
        "chars = frozenset(\"hello\")\n",
        "print(chars)\n",
        "\n",
        "# From a set\n",
        "s = {1, 2, 3}\n",
        "fs = frozenset(s)\n",
        "print(fs)\n"
      ],
      "metadata": {
        "colab": {
          "base_uri": "https://localhost:8080/"
        },
        "id": "zl1mG3jwHgQb",
        "outputId": "33b44ea8-60f1-4483-f825-d6dd0571365b"
      },
      "execution_count": null,
      "outputs": [
        {
          "output_type": "stream",
          "name": "stdout",
          "text": [
            "frozenset()\n",
            "frozenset({1, 2, 3, 4})\n",
            "frozenset({'o', 'l', 'h', 'e'})\n",
            "frozenset({1, 2, 3})\n"
          ]
        }
      ]
    },
    {
      "cell_type": "markdown",
      "source": [
        "### **Operations on Frozen Sets**\n",
        "\n",
        "Although you can't modify a frozen set directly, you can perform standard set operations like:\n",
        "\n",
        "- `union()`\n",
        "- `intersection()`\n",
        "- `difference()`\n",
        "- `symmetric_difference()`\n",
        "- `issubset()`\n",
        "- `issuperset()`\n",
        "- `isdisjoint()`\n",
        "\n",
        "\n",
        "\n"
      ],
      "metadata": {
        "id": "6Sc4sFSoIHpI"
      }
    },
    {
      "cell_type": "code",
      "source": [
        "set1 = frozenset({1, 2, 3})\n",
        "set2 = frozenset({3, 4, 5})\n",
        "\n",
        "union_set = set1.union(set2)         # {1, 2, 3, 4, 5}\n",
        "print(union_set)\n",
        "intersection_set = set1.intersection(set2)  # {3}\n",
        "print(intersection_set)\n",
        "difference_set = set1.difference(set2)  # {1, 2}\n",
        "print(difference_set)\n",
        "symmetric_difference_set = set1.symmetric_difference(set2)  # {1, 2, 4, 5}\n",
        "print(symmetric_difference_set)"
      ],
      "metadata": {
        "colab": {
          "base_uri": "https://localhost:8080/"
        },
        "id": "FEasYQoYJFH3",
        "outputId": "ce5d9390-750f-471d-cb2a-2c2870afc162"
      },
      "execution_count": null,
      "outputs": [
        {
          "output_type": "stream",
          "name": "stdout",
          "text": [
            "frozenset({1, 2, 3, 4, 5})\n",
            "frozenset({3})\n",
            "frozenset({1, 2})\n",
            "frozenset({1, 2, 4, 5})\n"
          ]
        }
      ]
    },
    {
      "cell_type": "code",
      "source": [
        "#use operator\n",
        "\n",
        "set1 = frozenset({1, 2, 3})\n",
        "set2 = frozenset({3, 4, 5})\n",
        "\n",
        "# Union\n",
        "print(set1 | set2)  # Output: {1, 2, 3, 4, 5}\n",
        "\n",
        "# Intersection\n",
        "print(set1 & set2)  # Output: {3}\n",
        "\n",
        "# Difference\n",
        "print(set1 - set2)  # Output: {1, 2}\n",
        "\n",
        "# Symmetric Difference\n",
        "print(set1 ^ set2)  # Output: {1, 2, 4, 5}"
      ],
      "metadata": {
        "colab": {
          "base_uri": "https://localhost:8080/"
        },
        "id": "NwtoRG1TJrei",
        "outputId": "dc361f50-c25a-4903-e51b-24b42178e697"
      },
      "execution_count": null,
      "outputs": [
        {
          "output_type": "stream",
          "name": "stdout",
          "text": [
            "frozenset({1, 2, 3, 4, 5})\n",
            "frozenset({3})\n",
            "frozenset({1, 2})\n",
            "frozenset({1, 2, 4, 5})\n"
          ]
        }
      ]
    },
    {
      "cell_type": "code",
      "source": [
        "#More Mathematical Set Operations\n",
        "set1 = frozenset({3, 4})\n",
        "set2 = frozenset({3, 4, 5})\n",
        "if set1.issubset(set2):\n",
        "    print(\"Set1 is a subset of Set2\")\n",
        "if set1.issuperset(set2):\n",
        "    print(\"Set1 is a superset of Set2\")\n",
        "if set1.isdisjoint(set2):\n",
        "    print(\"Set1 and Set2 have no common elements\")"
      ],
      "metadata": {
        "colab": {
          "base_uri": "https://localhost:8080/"
        },
        "id": "Jj_eQUZRKTep",
        "outputId": "5d150401-6013-4127-96ed-609ed28192c0"
      },
      "execution_count": null,
      "outputs": [
        {
          "output_type": "stream",
          "name": "stdout",
          "text": [
            "Set1 is a subset of Set2\n"
          ]
        }
      ]
    },
    {
      "cell_type": "markdown",
      "source": [
        "### **Case Study using Frozen Sets**\n",
        "\n",
        "**Managing User Permissions**"
      ],
      "metadata": {
        "id": "Zka9-zxAVFJL"
      }
    },
    {
      "cell_type": "code",
      "source": [
        "#defining Permissions\n",
        "ADMIN_PERMISSIONS = frozenset([\"create_user\", \"delete_user\", \"edit_settings\"])\n",
        "EDITOR_PERMISSIONS = frozenset([\"edit_content\", \"publish_content\"])\n",
        "VIEWER_PERMISSIONS = frozenset([\"view_content\"])\n",
        "\n",
        "#Assigning Permissions to Users:\n",
        "user_permissions = {\n",
        "    \"Alice\": ADMIN_PERMISSIONS,\n",
        "    \"Bob\": EDITOR_PERMISSIONS,\n",
        "    \"Carol\": VIEWER_PERMISSIONS,\n",
        "}\n",
        "\n",
        "def has_permission(user, permission):\n",
        "    return permission in user_permissions.get(user, frozenset()) #empty frozen set return False\n",
        "\n",
        "# Example usage\n",
        "if has_permission(\"Alice\", \"delete_user\"):\n",
        "  print(\"Alice has permission to delete a user.\")\n",
        "else:\n",
        "  print(\"Alice has no permission to delete a user.\")\n",
        "    # Display error message\n",
        "\n"
      ],
      "metadata": {
        "colab": {
          "base_uri": "https://localhost:8080/"
        },
        "id": "u-Po4qKtRb0R",
        "outputId": "d60a1bd2-2811-49ae-a3dd-8b99ef33ff50"
      },
      "execution_count": null,
      "outputs": [
        {
          "output_type": "stream",
          "name": "stdout",
          "text": [
            "Alice has permission to delete a user.\n"
          ]
        }
      ]
    },
    {
      "cell_type": "markdown",
      "source": [
        "**Why Frozen Sets Work Well Here**\n",
        "- Immutability: Permissions are unlikely to change frequently, so making them immutable with frozen sets ensures consistency and prevents accidental modifications.\n",
        "- Efficient Membership Testing: Checking if a user has a specific permission  is a fast operation with sets.\n"
      ],
      "metadata": {
        "id": "wCX1tTjPYiD0"
      }
    },
    {
      "cell_type": "markdown",
      "source": [
        "### Exercise 6.3\n",
        "\n",
        "You are tasked with developing a system to manage course enrollments for students. Each student can enroll in multiple courses, but the **list of courses each student is enrolled in should not change once it is set**. **Use a frozenset to represent the courses each student is enrolled** in and perform various operations based on this data.\n",
        "\n",
        "**Instructions**\n",
        "1. Create a dictionary to store student names and their enrolled courses using frozenset.\n",
        "1. Write a function enroll_student that takes the dictionary, a student name, and a list of courses, then adds the student and their courses to the dictionary.\n",
        "1. Write a function find_students_in_course that takes the dictionary and a course name, and returns a list of students enrolled in that course.\n",
        "1. Output the entire student_courses dictionary for clarity\n",
        "\n",
        "Sample Input Data\n",
        "```\n",
        "'Alice', ['Math', 'Science', 'History']\n",
        "'Bob', ['Math', 'Art', 'History']\n",
        "'Charlie', ['Math', 'Science']\n",
        "'Diana', ['Art', 'History']\n",
        "```\n",
        "\n",
        "Sample Output\n",
        "\n",
        "```\n",
        "Students enrolled in Math: ['Alice', 'Bob', 'Charlie']\n",
        "{'Alice': frozenset({'History', 'Math', 'Science'}), 'Bob': frozenset({'History', 'Math', 'Art'}), 'Charlie': frozenset({'Math', 'Science'}), 'Diana': frozenset({'History', 'Art'})}\n",
        "```"
      ],
      "metadata": {
        "id": "MZ2H02lFdimb"
      }
    },
    {
      "cell_type": "code",
      "source": [
        "#Exercise 6.3\n",
        "#Your code here\n",
        "\n",
        "\n"
      ],
      "metadata": {
        "id": "Q7Ehx5jLVbcY"
      },
      "execution_count": null,
      "outputs": []
    }
  ]
}