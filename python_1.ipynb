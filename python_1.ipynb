{
  "nbformat": 4,
  "nbformat_minor": 0,
  "metadata": {
    "colab": {
      "provenance": [],
      "toc_visible": true,
      "authorship_tag": "ABX9TyMnVrJtA7TTQdySgIFc2MH/"
    },
    "kernelspec": {
      "name": "python3",
      "display_name": "Python 3"
    },
    "language_info": {
      "name": "python"
    }
  },
  "cells": [
    {
      "cell_type": "markdown",
      "source": [
        "# Chapter 1\n",
        "# Python Comments, Data Types, Variables, print and input function, and Operators"
      ],
      "metadata": {
        "id": "M0vV-8afW9s2"
      }
    },
    {
      "cell_type": "markdown",
      "source": [
        "## **Comments**\n",
        "\n",
        "Comments are lines of text within your code that are completely ignored by the Python interpreter. They're meant for humans, not machines. Their purpose is to clarify your code, explain its logic, provide context, or leave notes for yourself or other developers.\n",
        "\n",
        "###Why use comments?\n",
        "\n",
        "1. Readability: Comments make your code easier to understand, especially when revisiting it later or when others are reading it.\n",
        "1. Documentation: Comments can serve as in-code documentation, explaining the purpose of functions, classes, or complex algorithms.\n",
        "1. Debugging: Comments can temporarily disable parts of your code during\n",
        "testing or troubleshooting.\n",
        "\n",
        "###How to write comments in Python\n",
        "\n",
        "Python offers two main types of comments:\n",
        "\n",
        "- Single-line comments: These begin with a hash symbol (#) and continue until the end of the line."
      ],
      "metadata": {
        "id": "PnowkLRrugEm"
      }
    },
    {
      "cell_type": "code",
      "source": [
        "# This is a single-line comment explaining the calculation below\n",
        "result = 42  # Assign the value 42 to the variable 'result'\n"
      ],
      "metadata": {
        "id": "3LqXQMPIvPre"
      },
      "execution_count": null,
      "outputs": []
    },
    {
      "cell_type": "markdown",
      "source": [
        "- Multi-line comments (Docstrings): Although Python doesn't have a specific multi-line comment syntax, you can use triple quotes (''' or \"\"\") to create multi-line strings that act as comments, especially for documenting functions, classes, or modules."
      ],
      "metadata": {
        "id": "a0BZUhKVvWNO"
      }
    },
    {
      "cell_type": "code",
      "source": [
        "def calculate_area(length, width):\n",
        "    \"\"\"\n",
        "    This function calculates the area of a rectangle.\n",
        "\n",
        "    Args:\n",
        "        length: The length of the rectangle.\n",
        "        width: The width of the rectangle.\n",
        "\n",
        "    Returns:\n",
        "        The area of the rectangle.\n",
        "    \"\"\"\n",
        "    area = length * width\n",
        "    return area\n"
      ],
      "metadata": {
        "id": "bDlTYoJDvdrm"
      },
      "execution_count": null,
      "outputs": []
    },
    {
      "cell_type": "markdown",
      "source": [
        "## **Data Types**\n",
        "## What are Data Types?\n",
        "\n",
        "Think of data types as **labels** or **categories** for the different kinds of information you'll work with. Just like we have different words for numbers, letters, and true/false statements, Python has different types to store and handle these various forms of data.\n",
        "\n",
        "## Why Do Data Types Matter?\n",
        "\n",
        "- **Storage:** Different types of data require different amounts of space in your computer's memory. Integers (whole numbers) are compact, while strings (text) can be much longer.\n",
        "-  **Operations:** Data types dictate what you can do with your data. You can't divide a word by two, but you can divide a number!\n",
        "-  **Efficiency:** Python can work with your code more efficiently if it knows what kind of data it's dealing with.\n",
        "\n",
        "\n"
      ],
      "metadata": {
        "id": "TrD4xkbs7TPb"
      }
    },
    {
      "cell_type": "markdown",
      "source": [
        "### Key Python Data Types\n",
        "Here's a quick overview of the most important data types you'll encounter:\n",
        "\n",
        "1. Numeric Types:\n",
        "- int (Integers): Whole numbers (positive, negative, or zero).\n",
        "\n",
        "Example: `age = 25`\n",
        "- float (Floating-point numbers): Numbers with decimal points.\n",
        "\n",
        "Example: `price = 19.99`\n",
        "\n",
        "2. Text Type:\n",
        "str (Strings): Sequences of characters, enclosed in quotes.\n",
        "\n",
        "Example: `name = \"Alice\"`\n",
        "\n",
        "3. Boolean Type:\n",
        "bool (Booleans): Represents logical values: True or False.\n",
        "\n",
        "Example: `is_student = True`\n",
        "\n",
        "4. Sequence Types:\n",
        "\n",
        "- list: An ordered collection of items (any data type) that can be changed.\n",
        "\n",
        "Example: `colors = [\"red\", \"green\", \"blue\"]`\n",
        "\n",
        "- tuple: An ordered collection of items (any data type) that cannot be changed.\n",
        "\n",
        "Example: `coordinates = (37.7749, -122.4194)`\n",
        "\n",
        "5. Mapping Type:\n",
        "\n",
        "dict (Dictionary): A collection of key-value pairs, where each key is associated with a value.\n",
        "\n",
        "Example: `student = {\"name\": \"Alice\", \"age\": 25, \"major\": \"Data Science\"}`\n",
        "\n",
        "\n",
        "In this notebook we will use 4 data types as follows:\n",
        "\n",
        "1. int\n",
        "2. float\n",
        "3. boolean\n",
        "4. string\n"
      ],
      "metadata": {
        "id": "qQwJgaOgA5Yj"
      }
    },
    {
      "cell_type": "markdown",
      "source": [
        "## **Literals**\n",
        "\n",
        "The actual values you write directly into your code are called **literals**. They're the building blocks of your data and they represent themselves. For instance:\n",
        "\n",
        "- Numeric Literals: Numbers like `42`, `-15`, `3.14159`.\n",
        "- String Literals: Text enclosed in quotes, like `\"Hello, world!\"`, `\"Data Science\"`, or `'Python'`.\n",
        "- Boolean Literals: The logical values `True` and `False`."
      ],
      "metadata": {
        "id": "qz_vZ55Gqtde"
      }
    },
    {
      "cell_type": "markdown",
      "source": [
        "## **Type checking in Python**\n",
        "- type() function => Tells the data type\n"
      ],
      "metadata": {
        "id": "OOFAoBZdDcEq"
      }
    },
    {
      "cell_type": "code",
      "execution_count": null,
      "metadata": {
        "colab": {
          "base_uri": "https://localhost:8080/"
        },
        "id": "eyuxm6RY7NTu",
        "outputId": "956d9b1a-022d-460d-fa19-e37b69cf94a4"
      },
      "outputs": [
        {
          "output_type": "stream",
          "name": "stdout",
          "text": [
            "<class 'int'>\n",
            "<class 'float'>\n",
            "<class 'bool'>\n",
            "<class 'bool'>\n",
            "<class 'str'>\n",
            "<class 'str'>\n"
          ]
        }
      ],
      "source": [
        "print(type(5))\n",
        "print(type(4.5))\n",
        "print(type(True))\n",
        "print(type(False))\n",
        "print(type(\"Hello\"))\n",
        "print(type('World'))"
      ]
    },
    {
      "cell_type": "markdown",
      "source": [
        "## **Variables**\n",
        "\n",
        "## **Variables: Your Data Containers**\n",
        "\n",
        "Imagine variables as labeled boxes or containers where you can store different types of data. They're like the buckets, jars, and shelves you'd use to organize things in your kitchen.\n",
        "\n",
        "  \n",
        "\n",
        "Each variable has:\n",
        "\n",
        "1. A Name:  You choose the name, making it easy to identify what's inside the container. A good name describes the data it holds (e.g., student_name, temperature, is_raining).\n",
        "\n",
        "2. A Value: This is the actual data you store in the container. It could be a number, text, a list of items, or any other Python data type.\n",
        "\n",
        "## **Why Use Variables**\n",
        "\n",
        "Data that will be processed in a program must be stored in memory. Each memory area has its address number. Without using the variable concept, the memory address must be specified to access the data. This makes the program harder to write because programmers have to remember the memory address of each data item in the program.\n",
        "\n",
        "Using variables also has the following benefits:\n",
        "\n",
        "- Organization: Variables make your code easier to read and understand. Instead of using raw numbers or text everywhere, you use meaningful names.\n",
        "- Reusability: You can access and use the data stored in a variable multiple times without having to type it out again and again.\n",
        "- Flexibility: You can change the value of a variable as your program runs. This is essential for handling dynamic data that changes over time."
      ],
      "metadata": {
        "id": "l3p4YyJyE4Eb"
      }
    },
    {
      "cell_type": "code",
      "source": [
        "#Without Variables\n",
        "print(\"Name: Tony Woodsome\", \"age =\", 74, \"Disease: Covid-19\")\n",
        "#do something\n",
        "print(\"Name: Ing Shin\", \"age =\", 35,\"Disease: N/A\")\n"
      ],
      "metadata": {
        "id": "x5iDyuDRESD-",
        "colab": {
          "base_uri": "https://localhost:8080/"
        },
        "outputId": "6eb8c31a-20a0-4702-926b-2302c348c04e"
      },
      "execution_count": null,
      "outputs": [
        {
          "output_type": "stream",
          "name": "stdout",
          "text": [
            "Name: Tony Woodsome age = 74 Disease: Covid-19\n",
            "Name: Ing Shin age = 35 Disease: N/A\n"
          ]
        }
      ]
    },
    {
      "cell_type": "code",
      "source": [
        "#With Variables\n",
        "name = \"Tony Woodsome\"\n",
        "age = 74\n",
        "disease = \"Covid-19\"\n",
        "print(\"Name:\", name, \"age =\", age, \"Disease:\", disease)\n",
        "name = \"Ing Shin\"\n",
        "age = 35\n",
        "disease = \"N/A\"\n",
        "print(\"Name:\", name, \"age =\", age, \"Disease:\", disease)"
      ],
      "metadata": {
        "id": "b6ux2-5yHAK7",
        "colab": {
          "base_uri": "https://localhost:8080/"
        },
        "outputId": "b7a45a50-3192-4feb-80f1-54d855794b5c"
      },
      "execution_count": null,
      "outputs": [
        {
          "output_type": "stream",
          "name": "stdout",
          "text": [
            "Name: Tony Woodsome age = 74 Disease: Covid-19\n",
            "Name: Ing Shin age = 35 Disease: N/A\n"
          ]
        }
      ]
    },
    {
      "cell_type": "markdown",
      "source": [
        "### **Creating and Using Variables in Python**\n",
        "\n",
        "Python makes it super easy to work with variables. There's no need to declare their type beforehand. This is called **implicit** declaration.\n",
        "\n",
        "Many programming languages, such as C, are **explicit** declaration, where variables must be declared with their types before they can be used. For example, in C language, you must declare the variable 'a' as follows before you can use it in the program.  \n",
        "\n",
        "`int a;`\n",
        "\n",
        "`a = 5;`\n",
        "\n",
        "In this example the data type of 'a' is integer and its value is 5.\n",
        "\n",
        "For Python you can just simply write:\n",
        "\n",
        "`a = 5`\n",
        "\n",
        "Now the type of 'a' is implicitly an integer and its value is 5."
      ],
      "metadata": {
        "id": "7LxNSJ0_H12T"
      }
    },
    {
      "cell_type": "code",
      "source": [
        "a = 5\n",
        "print(f\"a = {a} \", \"type of a = \", type(a))"
      ],
      "metadata": {
        "colab": {
          "base_uri": "https://localhost:8080/"
        },
        "id": "ah0uijWUHc0M",
        "outputId": "6b77a3dc-b4da-499b-bc9a-61c93bce1d34"
      },
      "execution_count": null,
      "outputs": [
        {
          "output_type": "stream",
          "name": "stdout",
          "text": [
            "a = 5  type of a =  <class 'int'>\n"
          ]
        }
      ]
    },
    {
      "cell_type": "markdown",
      "source": [
        "## Dynamic and Static Typing\n",
        "\n",
        "- Static typing is a feature in programming languages where the type of a variable is known at **compile-time** instead of at run-time. This means that  type checks are performed during the compilation process, which helps **catch type-related errors early and can improve performance**. Languages like Java, C, and C++ use static typing.\n",
        "- Dynamic typing is a feature in programming languages where the type of a variable is determined at **run-time** rather than at compile-time. This allows variables to hold values of any type and change types as needed during execution, offering **greater flexibility** but potentially leading to **runtime type errors**. Languages like **Python**, JavaScript, and Ruby use dynamic typing, which simplifies code by eliminating the need for explicit type declarations but requires more careful handling to avoid type-related issues.\n",
        "\n",
        "Python automatically determines the data type of a variable based on the value you assign to it. You can change the type by assigning a different value later. Please be reminded that from the previous code 'a' is an integer"
      ],
      "metadata": {
        "id": "ndobVFYauSsT"
      }
    },
    {
      "cell_type": "code",
      "source": [
        "a = 'Now string'\n",
        "print(\"a = \", a, \"type of a = \", type(a))"
      ],
      "metadata": {
        "colab": {
          "base_uri": "https://localhost:8080/"
        },
        "id": "waX7na3Zu04u",
        "outputId": "c706b752-f6e9-4e98-b82c-fe73e5245877"
      },
      "execution_count": null,
      "outputs": [
        {
          "output_type": "stream",
          "name": "stdout",
          "text": [
            "a =  Now string type of a =  <class 'str'>\n"
          ]
        }
      ]
    },
    {
      "cell_type": "markdown",
      "source": [
        "In summary, **Python uses implicit declaration to determine the data type of a variable. It also uses dynamic typing**, in that the data type of that variable can be changed at runtime. However, **implicit declaration does not imply dynamic typing**. Programming languages such as Java and modern C++ support the implicit declaration but are static-type languages. Let's see the Java code fragment below:\n",
        "\n",
        "\n",
        "```\n",
        "/*\n",
        "For the variable declaration below, the data type of 'a' is an integer based on the value assigned to 'a'.\n",
        "However, this data type is determined by the compiler at compile-time.\n",
        "*/\n",
        "var a = 5;  \n",
        "...\n",
        "\n",
        "a = \"Hello\" //this will cause compilation-error\n",
        "```\n",
        "\n",
        "\n",
        "In the above example, `a` is implicitly assigned an integer datatype. However, Java is a static typing language, so changing the type of `a` to string later in the same scope causes a compilation error.\n",
        "\n"
      ],
      "metadata": {
        "id": "v52k7LhxvdJk"
      }
    },
    {
      "cell_type": "markdown",
      "source": [
        "## Naming rules\n",
        "\n",
        "- Variable names must start with a letter (a-z, A-Z) or an underscore (_).\n",
        "- They can contain letters, numbers (0-9), and underscores.\n",
        "- Names are case-sensitive (age is different from Age).\n",
        "- Reserved words are not allowed\n",
        "\n",
        "*Note:*\n",
        "\n",
        "These naming rules can be applied for naming any identifiers such as function and class names."
      ],
      "metadata": {
        "id": "gR0Ailr5sz17"
      }
    },
    {
      "cell_type": "code",
      "source": [
        "is_ok = True\n",
        "student1 = \"John Doe\"\n",
        "num = 5\n",
        "Num = 6 #Num is not the same variable as num\n",
        "#1student = \"Marry Jane\"   #error, start with number\n",
        "#for = 56 #for is a reserved word"
      ],
      "metadata": {
        "id": "zpYxdZ2pMwMO"
      },
      "execution_count": null,
      "outputs": []
    },
    {
      "cell_type": "markdown",
      "source": [
        "## Type Conversion Functions:\n",
        "Change data from one type to another (if possible).\n"
      ],
      "metadata": {
        "id": "WyN6WyMBHBu-"
      }
    },
    {
      "cell_type": "code",
      "source": [
        "text_number = '1234'\n",
        "print('text_number =', text_number, type(text_number))\n",
        "#convert from string to integer\n",
        "int_number = int(text_number)\n",
        "print('int_number =', int_number, type(int_number))\n",
        "#convert from string to float\n",
        "float_number = float(text_number)\n",
        "print('float_number =', float_number, type(float_number))\n"
      ],
      "metadata": {
        "colab": {
          "base_uri": "https://localhost:8080/"
        },
        "id": "qUdm-g9yHKDp",
        "outputId": "d4303247-904c-411e-9857-66af0f95c4be"
      },
      "execution_count": null,
      "outputs": [
        {
          "output_type": "stream",
          "name": "stdout",
          "text": [
            "text_number = 1234 <class 'str'>\n",
            "int_number = 1234 <class 'int'>\n",
            "float_number = 1234.0 <class 'float'>\n"
          ]
        }
      ]
    },
    {
      "cell_type": "code",
      "source": [
        "number = 12345.6\n",
        "int_number = int(number)\n",
        "print('number =', number, 'int_number=', int_number) #the decimal point will be removed, not rounded"
      ],
      "metadata": {
        "colab": {
          "base_uri": "https://localhost:8080/"
        },
        "id": "XdgxK2i3JaoJ",
        "outputId": "72fd66f9-be86-47c1-e7ea-a26bc944f370"
      },
      "execution_count": null,
      "outputs": [
        {
          "output_type": "stream",
          "name": "stdout",
          "text": [
            "number = 12345.6 int_number= 12345\n"
          ]
        }
      ]
    },
    {
      "cell_type": "markdown",
      "source": [
        "## **print() function**\n",
        "The print() function is your primary tool for displaying output to the console (or potentially other destinations like files). It takes the objects you provide, converts them to strings (if necessary), and outputs them in a formatted way.\n",
        "The print() function also shows many function features. First let's tale a look at its function prototype.\n",
        "\n",
        "`def print(*objects, sep=' ', end='\\n', file=sys.stdout, flush=False)`\n",
        "\n",
        "- `*objects`: This indicates that the function can accept a **variable number of arguments** (the objects you want to print). The asterisk (*) is used to pack these arguments into a tuple named objects within the function. This allows us to pass any number of data that we want to print by separating them using ','\n",
        "- `sep=' '`: This is a default argument with a default value of a single space. It specifies the separator to be inserted between the printed objects. This is why each of our data is separated by a space.\n",
        "- `end='\\n'`: This is another default argument with a default value of a newline character (\\n). It determines what is appended at the end of the printed output. This is why the output will be printed on separate lines when we use two print() functions.\n",
        "- `file=sys.stdout`: This sets the default output destination to the standard output stream (typically your console). sys.stdout is an object representing this stream.\n",
        "- `flush=False`: This keyword argument, defaulting to False, controls whether the output buffer is flushed immediately (meaning the output is written without waiting for buffering).\n",
        "\n",
        "*Note:*\n",
        "\n",
        "The print() function use the concept of variable number of arguments and  default arguments which will be discussed later."
      ],
      "metadata": {
        "id": "rNUAb-sW7rkY"
      }
    },
    {
      "cell_type": "code",
      "source": [
        "name = \"Tony Woodsome\"\n",
        "age = 74\n",
        "disease = \"Covid-19\"\n",
        "#using all defalut arguments\n",
        "print(\"Name:\", name, \"age =\", age, \"Disease:\", disease)"
      ],
      "metadata": {
        "colab": {
          "base_uri": "https://localhost:8080/"
        },
        "id": "4W9PF3bPD0CB",
        "outputId": "4af5798e-6d06-4b1b-bf5e-21c3305cfcc6"
      },
      "execution_count": null,
      "outputs": [
        {
          "output_type": "stream",
          "name": "stdout",
          "text": [
            "Name: Tony Woodsome age = 74 Disease: Covid-19\n"
          ]
        }
      ]
    },
    {
      "cell_type": "code",
      "source": [
        "name = \"Tony Woodsome\"\n",
        "age = 74\n",
        "disease = \"Covid-19\"\n",
        "#change the value of separator to ','\n",
        "print(\"Name:\", name, \"age =\", age, \"Disease:\", disease, sep=',')"
      ],
      "metadata": {
        "colab": {
          "base_uri": "https://localhost:8080/"
        },
        "outputId": "36dbabed-196b-4395-8a8d-c61fe3c788ab",
        "id": "mkb7QT3PEoru"
      },
      "execution_count": null,
      "outputs": [
        {
          "output_type": "stream",
          "name": "stdout",
          "text": [
            "Name:,Tony Woodsome,age =,74,Disease:,Covid-19\n"
          ]
        }
      ]
    },
    {
      "cell_type": "code",
      "source": [
        "print('Hello')\n",
        "print('World')\n",
        "#change end of line to a space\n",
        "print('Hello', end = ' ')\n",
        "print('World')"
      ],
      "metadata": {
        "colab": {
          "base_uri": "https://localhost:8080/"
        },
        "id": "3pvyHSefE8I3",
        "outputId": "eb1a6017-0902-471d-d9ff-df1af34cc974"
      },
      "execution_count": null,
      "outputs": [
        {
          "output_type": "stream",
          "name": "stdout",
          "text": [
            "Hello\n",
            "World\n",
            "Hello World\n"
          ]
        }
      ]
    },
    {
      "cell_type": "markdown",
      "source": [
        "## **f-strings**\n",
        "\n",
        "# What are f-strings?\n",
        "F-strings (short for \"formatted string literals\") are a powerful and convenient way to embed expressions directly within strings. They were introduced in **Python 3.6** and have quickly become the preferred method for string formatting due to their simplicity and readability.\n",
        "#How do f-strings work?\n",
        "\n",
        "- Prefix: F-strings are identified by the letter 'f' (or 'F') placed immediately before the opening quotation mark of a string.\n",
        "- Expressions: Inside the string, you can enclose any valid Python expression within curly braces {}. These expressions are evaluated at runtime, and their results are inserted into the string."
      ],
      "metadata": {
        "id": "OAP9UE974RUf"
      }
    },
    {
      "cell_type": "code",
      "source": [
        "#f-string example\n",
        "name = \"Tony Woodsome\"\n",
        "age = 74\n",
        "disease = \"Covid-19\"\n",
        "#normal string\n",
        "print(\"Name:\", name, \"age =\", age, \"Disease:\", disease)\n",
        "#using f-strings\n",
        "print(f\"Name: {name} age = {age} Disease: {disease}\")"
      ],
      "metadata": {
        "colab": {
          "base_uri": "https://localhost:8080/"
        },
        "id": "0s7ciXTR5Wth",
        "outputId": "1fac70ef-cd67-43d0-c86b-ca27e2f2a182"
      },
      "execution_count": null,
      "outputs": [
        {
          "output_type": "stream",
          "name": "stdout",
          "text": [
            "Name: Tony Woodsome age = 74 Disease: Covid-19\n",
            "Name: Tony Woodsome age = 74 Disease: Covid-19\n"
          ]
        }
      ]
    },
    {
      "cell_type": "code",
      "source": [
        "#You can also set the output format such as width and number of decimal point\n",
        "\n",
        "number = 120.3456789345\n",
        "print(f\"number = {number:7.3f}\")\n",
        "print(f\"number = {number:10.4f}\")\n",
        "print(f\"number = {number:.4f}\")\n"
      ],
      "metadata": {
        "colab": {
          "base_uri": "https://localhost:8080/"
        },
        "id": "m26_B7jm1Ct8",
        "outputId": "fff615e8-5a8a-4b3f-fcac-b8d354e5e500"
      },
      "execution_count": null,
      "outputs": [
        {
          "output_type": "stream",
          "name": "stdout",
          "text": [
            "number = 120.346\n",
            "number =   120.3457\n",
            "number = 120.3457\n"
          ]
        }
      ]
    },
    {
      "cell_type": "markdown",
      "source": [
        "`7.3f`:\n",
        "\n",
        "- 7 indicates the total width of the field, including the decimal point and the digits.\n",
        "- .3 indicates that the number should be formatted to three decimal places.\n",
        "- f specifies that the number is a floating-point number.\n",
        "\n",
        "So, the output in the first line shows 3 decimal digits and does the round-up since the fourth digit is greater than 5.\n",
        "\n",
        "The output in the second line adds two leading spaces to make the output's width 10 as we set the width of the field to 10.\n",
        "\n",
        "You do not need to specify the width as shown in the third line."
      ],
      "metadata": {
        "id": "5lDPH1t82YAZ"
      }
    },
    {
      "cell_type": "code",
      "source": [
        "number = 1234\n",
        "print(f\"number = {number:d}\")\n",
        "print(f\"number = {number:6d}\")"
      ],
      "metadata": {
        "colab": {
          "base_uri": "https://localhost:8080/"
        },
        "id": "bi1wssTE6hCs",
        "outputId": "0ea767b7-29a2-4a02-e201-e808ae76550e"
      },
      "execution_count": null,
      "outputs": [
        {
          "output_type": "stream",
          "name": "stdout",
          "text": [
            "number = 1234\n",
            "number =   1234\n"
          ]
        }
      ]
    },
    {
      "cell_type": "markdown",
      "source": [
        "For integer numbers, we use `d` to specify the integer. The number in front of `d` indicates the field width."
      ],
      "metadata": {
        "id": "Mn6-3Z1i7KOK"
      }
    },
    {
      "cell_type": "markdown",
      "source": [
        "## **input() function**\n",
        "The input() function is your gateway to interacting with the user. It pauses the execution of your program, displays a prompt to the user (if provided), and waits for the user to type something and press Enter. The text entered by the user is then returned as a string by the input() function. The function prototype is as follows:\n",
        "\n",
        "`def input(prompt=None) -> str:`\n",
        "\n",
        "- The `prompt` parameter has a default value of None, meaning you don't have to provide it if you don't want to display a specific prompt to the user.\n",
        "- `-> str`:\n",
        "This part of the prototype (introduced in Python 3.5) is called a type hint. It indicates that the input() function is expected to return a value of type str (string). This helps tools like code editors and type checkers understand your code better, but **it doesn't enforce the return type during runtime**.\n",
        "\n"
      ],
      "metadata": {
        "id": "tfRl7VmkGKlr"
      }
    },
    {
      "cell_type": "code",
      "source": [
        "number_str = input('Please enter a number')\n",
        "print(f'number_str= {number_str}, data type = {type(number_str)}') #The data type is string"
      ],
      "metadata": {
        "colab": {
          "base_uri": "https://localhost:8080/"
        },
        "id": "akJoXJf6FJnT",
        "outputId": "f2546be7-ed57-4ffc-e280-b287cded2ca2"
      },
      "execution_count": null,
      "outputs": [
        {
          "output_type": "stream",
          "name": "stdout",
          "text": [
            "Please enter a number12345\n",
            "number_str= 12345, data type = <class 'str'>\n"
          ]
        }
      ]
    },
    {
      "cell_type": "code",
      "source": [
        "#We can use type conversion function to convert the input data\n",
        "number = int(input('Please enter a number'))\n",
        "print(f'number= {number}, data type = {type(number)}')"
      ],
      "metadata": {
        "colab": {
          "base_uri": "https://localhost:8080/"
        },
        "id": "tVQHJmbqR5nR",
        "outputId": "f37155db-0ccc-4925-bef0-e2fa365ac1e0"
      },
      "execution_count": null,
      "outputs": [
        {
          "output_type": "stream",
          "name": "stdout",
          "text": [
            "Please enter a number12345\n",
            "number= 12345, data type = <class 'int'>\n"
          ]
        }
      ]
    },
    {
      "cell_type": "markdown",
      "source": [
        "## **Exercise 1.1**\n",
        "\n",
        "Write a program to ask a user to enter his/her name and nickname. Then, the computer prints the greeting sentence. The example output of the program is as follows:\n",
        "\n",
        "```\n",
        "computer: What is your name? `Prayuth`\n",
        "\n",
        "computer: Hello Prayuth nice to meet you.\n",
        "\n",
        "computer: What is your nick name? `Too`\n",
        "\n",
        "computer: Too, what a lovely nick name.\n",
        "```\n"
      ],
      "metadata": {
        "id": "YS-n6BqFGdEE"
      }
    },
    {
      "cell_type": "code",
      "source": [
        "#Exercise 1.1\n",
        "#your code here\n",
        "\n",
        "\n",
        "\n",
        "\n",
        "\n",
        "\n",
        "\n"
      ],
      "metadata": {
        "id": "kbc9NDzeHfx5"
      },
      "execution_count": null,
      "outputs": []
    },
    {
      "cell_type": "markdown",
      "source": [
        "## **Exercise 1.2**\n",
        "\n",
        "Write a python program that has 4 variables to store the value of, first name, last name, age and weight. You must name your variables “first_name”, “last_name”, “age”, and “weight” respectively. The data types must be “string”, “string”, “int”, and “double” respectively. the program then prints all information in seperated lines. The example output of the program is as follows:\n",
        "```\n",
        "Enter your first name John\n",
        "Enter your last name Wick\n",
        "Enter your age 35\n",
        "Enter your weight 56.67\n",
        "Name: John Wick\n",
        "Age: 35\n",
        "Weight: 56.67\n",
        "```\n"
      ],
      "metadata": {
        "id": "4nWowppktkw4"
      }
    },
    {
      "cell_type": "code",
      "source": [
        "#Exercise 1.2\n",
        "#your code here\n",
        "\n",
        "\n",
        "\n",
        "\n",
        "\n",
        "\n",
        "\n"
      ],
      "metadata": {
        "id": "Ee_bNR5AuZKp"
      },
      "execution_count": null,
      "outputs": []
    },
    {
      "cell_type": "markdown",
      "source": [
        "## **Operators**\n",
        "\n",
        "## What are operators?\n",
        "\n",
        "In Python (and other programming languages), operators are special symbols or words that perform actions on values or variablesm, these values or varaiables are called operand.\n",
        "\n",
        "For example\n",
        "\n",
        "`a + 35`\n",
        "\n",
        "- a and 35 are operands\n",
        "- \\+ is operator\n",
        "\n",
        "## Binary Operator\n",
        "  Act on two operands. Almost all operators are binary operators.\n",
        "  - Examples\n",
        "\n",
        "    `a * b`\n",
        "\n",
        "    'a ** 2'\n",
        "\n",
        "## Unary Operator\n",
        "\n",
        "  Act on one operand.\n",
        "  - Examples\n",
        "\n",
        "  `-x`\n",
        "\n",
        "  `not True`\n",
        "\n",
        "## Key Types of Python Operators\n",
        "\n",
        "1.   Arithmetic Operators:\n",
        "  - \\- (unary -)\n",
        "  - \\+ (unary +)\n",
        "  - \\** (exponential)\n",
        "  - \\+ (addition)\n",
        "  - \\- (subtraction)\n",
        "  - \\* (multiplication)\n",
        "  - / (division)\n",
        "  - // (floor division) => return the the largest integer less than or equal to the division result.\n",
        "  - % (modulo) => the remainder of x  / y\n",
        "  \n",
        "1.  Assignment Operators:\n",
        "  - Used to assign values to variables.\n",
        "  - The most common is the\n",
        "    - simple equal sign (=)\n",
        "    - but Python also has compound assignment operators (augmented assignment operator) for combining some operators with assignment (e.g., +=, -=, *=, /=).\n",
        "    - Example:\n",
        "```\n",
        "weight = 75.4\n",
        "weight += 2.3  # same as weight = weight + 2.3\n",
        "```\n",
        "\n",
        "1.   Comparison Operators:\n",
        "     - Allow you to compare two values and return a Boolean result (True or False).\n",
        "    - These are crucial for controlling the flow of your code (we'll talk about that more when you learn about conditional statements).\n",
        "    - Common examples include:\n",
        "      - == (equal to)\n",
        "      - != (not equal to)\n",
        "      - \\> (greater than)\n",
        "      - \\< (less than)\n",
        "      - \\>= (greater than or equal to)\n",
        "      - \\<= (less than or equal to)\n",
        "1.   Logical Operators:\n",
        "  - Work on Boolean values (True or False).\n",
        "  - You can combine multiple comparisons using logical operators to build more complex conditions.\n",
        "  - The main logical operators are:\n",
        "      - and (both conditions must be True)\n",
        "      - or (at least one condition must be True)\n",
        "      - not (reverses the truth value of a condition)\n",
        "1.   Membership Operators:\n",
        "  - Check if a value is present in a sequence (like a list, string, or tuple).\n",
        "  - Examples:\n",
        "    - in (returns True if the value is found)\n",
        "    - not in (returns True if the value is not found)"
      ],
      "metadata": {
        "id": "9OG1NnMPxSI7"
      }
    },
    {
      "cell_type": "code",
      "source": [
        "#Arithmetic operators\n",
        "number1 = 5\n",
        "number2 = 2\n",
        "print(f'Addition {number1} + {number2} = {number1 + number2}')\n",
        "print(f'Subtraction {number1} - {number2} = {number1 - number2}')\n",
        "print(f'Multiplication {number1} * {number2} = {number1 * number2}')\n",
        "print(f'Division {number1} / {number2} = {number1 / number2}')\n",
        "print(f'Floor Division {number1} // {number2} = {number1 // number2}')\n",
        "print(f'Modulo {number1} % {number2} = {number1 % number2}')\n",
        "print(f'Unary - {-number1}')\n",
        "print(f'Exponential {number1 ** number2}')"
      ],
      "metadata": {
        "colab": {
          "base_uri": "https://localhost:8080/"
        },
        "id": "ot8_YXMsSbpe",
        "outputId": "aab0dc3e-89dc-4c99-9d88-2d32ea449a85"
      },
      "execution_count": null,
      "outputs": [
        {
          "output_type": "stream",
          "name": "stdout",
          "text": [
            "Addition 5 + 2 = 7\n",
            "Subtraction 5 - 2 = 3\n",
            "Multiplication 5 * 2 = 10\n",
            "Division 5 / 2 = 2.5\n",
            "Floor Division 5 // 2 = 2\n",
            "Modulo 5 % 2 = 1\n",
            "Unary - -5\n",
            "Exponential 25\n"
          ]
        }
      ]
    },
    {
      "cell_type": "code",
      "source": [
        "#Assignment operators\n",
        "a = 23\n",
        "b = 6\n",
        "a %= b # 23 / 6 is 3 with the remainder of 5, and this remainder is then assigned to 'a'\n",
        "print(f'a = {a}')\n",
        "c = a\n",
        "print(f'c = {c}')\n",
        "c += b\n",
        "print(f'c = {c}')\n",
        "c *= a\n",
        "print(f'c = {c}')\n",
        "c /= a\n",
        "print(f'c = {c}')"
      ],
      "metadata": {
        "colab": {
          "base_uri": "https://localhost:8080/"
        },
        "id": "c2Ej-hPT3Net",
        "outputId": "3f635f4d-7325-4f40-b0dd-385e3a5b8b89"
      },
      "execution_count": null,
      "outputs": [
        {
          "output_type": "stream",
          "name": "stdout",
          "text": [
            "a = 5\n",
            "c = 5\n",
            "c = 11\n",
            "c = 55\n",
            "c = 11.0\n"
          ]
        }
      ]
    },
    {
      "cell_type": "code",
      "source": [
        "#Comparison operators\n",
        "a = 5\n",
        "b = 6\n",
        "print(a == b)\n",
        "print(a != b)\n",
        "print(a < b)\n",
        "print(a <= b)\n",
        "print(a > b)\n",
        "print(a >= b)"
      ],
      "metadata": {
        "colab": {
          "base_uri": "https://localhost:8080/"
        },
        "id": "98lrfdR88P6I",
        "outputId": "70b4e022-a441-4499-cc77-44684924ac75"
      },
      "execution_count": null,
      "outputs": [
        {
          "output_type": "stream",
          "name": "stdout",
          "text": [
            "False\n",
            "True\n",
            "True\n",
            "True\n",
            "False\n",
            "False\n"
          ]
        }
      ]
    },
    {
      "cell_type": "code",
      "source": [
        "#logical operators\n",
        "a = 5\n",
        "b = 6\n",
        "print(a == b and a < b)\n",
        "print(a == b or a < b)\n",
        "print(not a == b and a < b)"
      ],
      "metadata": {
        "colab": {
          "base_uri": "https://localhost:8080/"
        },
        "id": "N--kXMAfDp4_",
        "outputId": "200cf4db-39d9-4f99-edcf-d11dbaa016e9"
      },
      "execution_count": null,
      "outputs": [
        {
          "output_type": "stream",
          "name": "stdout",
          "text": [
            "False\n",
            "True\n",
            "True\n"
          ]
        }
      ]
    },
    {
      "cell_type": "code",
      "source": [
        "#Python also allow  chaining of comparison operators\n",
        "print(4 <= a <= 7)\n",
        "#The result above is the same as\n",
        "print(4 <= a and a <= 7)\n",
        "#More about chaining of comparison operatos\n",
        "a = 5\n",
        "b = 6\n",
        "c = 7\n",
        "print(a < b > c)\n",
        "#is the same as\n",
        "print(a < b and b > c)"
      ],
      "metadata": {
        "colab": {
          "base_uri": "https://localhost:8080/"
        },
        "id": "28Q2k1wA_lSy",
        "outputId": "d0b5711f-faca-47f4-b698-b388fa33037e"
      },
      "execution_count": null,
      "outputs": [
        {
          "output_type": "stream",
          "name": "stdout",
          "text": [
            "True\n",
            "True\n",
            "False\n",
            "False\n"
          ]
        }
      ]
    },
    {
      "cell_type": "code",
      "source": [
        "a = 10\n",
        "if 4 <= a or a <= 7:\n",
        "    print(\"Hello\")\n",
        "print(\"good day\")\n",
        "\n"
      ],
      "metadata": {
        "colab": {
          "base_uri": "https://localhost:8080/"
        },
        "id": "26ZoF1XWaINy",
        "outputId": "05fcb26b-7603-4b01-a113-2c756da55007"
      },
      "execution_count": null,
      "outputs": [
        {
          "output_type": "stream",
          "name": "stdout",
          "text": [
            "Hello\n",
            "good day\n"
          ]
        }
      ]
    },
    {
      "cell_type": "code",
      "source": [
        "#Membership operators\n",
        "numbers = [5, 12, 8, 21, 3] #data type of the varialbe 'number' is list, list will be discussed later\n",
        "print(8 in numbers) #8 is in the list\n",
        "print(10 not in numbers) #10 is not in the list\n",
        "sentence = \"The quick brown fox jumps over the lazy dog\"\n",
        "print(\"fox\" in sentence) #'fox' is in the sentence\n",
        "print(\"dog\" not in sentence) #'dog' is in the sentence\n"
      ],
      "metadata": {
        "colab": {
          "base_uri": "https://localhost:8080/"
        },
        "id": "otqnfsr5DaUA",
        "outputId": "b0e42186-06bb-435c-c996-161138f73155"
      },
      "execution_count": null,
      "outputs": [
        {
          "output_type": "stream",
          "name": "stdout",
          "text": [
            "True\n",
            "True\n",
            "True\n",
            "False\n"
          ]
        }
      ]
    },
    {
      "cell_type": "markdown",
      "source": [
        "### **Operator Precedence**\n",
        "\n",
        "## What is Operator Precedence?\n",
        "\n",
        "Operator precedence is like a set of rules that determines the order in which operations are performed in an expression that has multiple operators. If you don't follow the correct order, you might get unexpected results.\n",
        "\n",
        "Consider this expression:\n",
        "\n",
        "`result = 5 + 3 * 2`\n",
        "\n",
        "If you do not know the operator precedence, you might go from left to right and might think that the result is `16`\n",
        "\n",
        "Let's run the code"
      ],
      "metadata": {
        "id": "8yaf6ebRWGb8"
      }
    },
    {
      "cell_type": "code",
      "source": [],
      "metadata": {
        "id": "MhAVwzdsAQIO"
      },
      "execution_count": null,
      "outputs": []
    },
    {
      "cell_type": "code",
      "source": [
        "result = 5 + 3 * 2\n",
        "print(result)"
      ],
      "metadata": {
        "colab": {
          "base_uri": "https://localhost:8080/"
        },
        "id": "wMgiI_u5Fsxt",
        "outputId": "c7a74a63-2a7d-4918-a934-ee9f7000c1c7"
      },
      "execution_count": null,
      "outputs": [
        {
          "output_type": "stream",
          "name": "stdout",
          "text": [
            "11\n"
          ]
        }
      ]
    },
    {
      "cell_type": "markdown",
      "source": [
        "As you see the result is 11. This is because multiplication has higher precedence than addition, Python will calculate 3 * 2 first (6), and then add 5, resulting in 11."
      ],
      "metadata": {
        "id": "iBb6ES81X5up"
      }
    },
    {
      "cell_type": "markdown",
      "source": [
        "### **Precedence Table**\n",
        "\n",
        "Here's a simplified version of Python's operator precedence table, from highest to lowest precedence:\n",
        "\n",
        "| Precedence Level | Operator Type                    | Operators                                      | Associativity |\n",
        "|------------------|----------------------------------|------------------------------------------------|---------------|\n",
        "| 1                | Parentheses (Grouping)           | ()                                             | Left-to-right |\n",
        "| 2                | Exponentiation                   | **                                             | Right-to-left |\n",
        "| 3                | Unary Positive/Negative          | +x, -x                                         | Right-to-left |\n",
        "| 4                | Multiplication, Division, Modulo | *, /, //, %                                    | Left-to-right |\n",
        "| 5                | Addition, Subtraction            | +, -                                           | Left-to-right |\n",
        "| 6                | Comparison, Membership, Identity | ==, !=, >, <, >=, <=, in, not in, is, is not | Left-to-right |\n",
        "| 7                | Logical NOT                      | not                                            | Right-to-left |\n",
        "| 8                | Logical AND                      | and                                            | Left-to-right |\n",
        "| 9                | Logical OR                       | or                                             | Left-to-right |\n",
        "| 10               | Assignment                       | =, +=, -=, *=, /=, %=, etc.                  | only '=' has right-to-left |\n",
        "\n",
        "### What is Associativity?\n",
        "- Associativity: Grouping Operators of Equal Precedence\n",
        "\n",
        "  When an expression has multiple operators with the same precedence level, associativity determines the order in which they are evaluated. It tells you whether to group operators from left to right (left-associative) or from right to left (right-associative).\n",
        "\n",
        "- Left-to-Right Associativity (Most Common)\n",
        "\n",
        "  Most operators in Python are left-associative. This means that when operators of equal precedence appear in an expression, they are grouped and evaluated from left to right.\n",
        "\n",
        "- Examples:\n",
        "\n",
        "  - Arithmetic: `5 - 3 + 2` is evaluated as (5 - 3) + 2 = 4\n",
        "\n",
        "- Right-to-Left Associativity (Less Common)\n",
        "\n",
        "  Some operators, like exponentiation (**) and unary (-,+), are right-associative. This means they are grouped and evaluated from right to left.\n",
        "\n",
        "- Examples:\n",
        "\n",
        "  - Exponentiation: `2 ** 3 ** 2` is evaluated as 2 ** (3 ** 2) = 512\n",
        "  \n",
        "- Non-Associative Operators\n",
        "\n",
        "  Some operators, like **comparison chaining** (x < y < z) and **augmented assignment** (x += y += z) are non-associative. This means they have specific rules for evaluation that cannot be expressed as simple left-to-right or right-to-left grouping. Actually augmented assignment cannot be chained together.\n",
        "\n",
        "*Note:*\n",
        "- `is` and `is not` are identity operators and will be discussed later.\n",
        "- Some operators, such as slicing, have not been discussed here; they will be discussed later.\n",
        "- Use Parentheses: When in doubt, use parentheses to explicitly control the order and associativity of operations.\n"
      ],
      "metadata": {
        "id": "A_nd9evBYXbb"
      }
    },
    {
      "cell_type": "code",
      "source": [
        "result = 3 ** 2 + 5 * (10 - 7)\n",
        "print(result)"
      ],
      "metadata": {
        "colab": {
          "base_uri": "https://localhost:8080/"
        },
        "id": "Yp8yxJG6Xz6k",
        "outputId": "08ae3633-03ac-4c9e-c60b-5a7aea04c924"
      },
      "execution_count": null,
      "outputs": [
        {
          "output_type": "stream",
          "name": "stdout",
          "text": [
            "24\n"
          ]
        }
      ]
    },
    {
      "cell_type": "markdown",
      "source": [
        "The above arithmetic expression works as follows:\n",
        "\n",
        "1.  (10 - 7) = 3 (Parentheses have the highest precedence)\n",
        "1.  3 ** 2 = 9 (Exponentiation comes next)\n",
        "1.  5 * 3 = 15 (Multiplication is evaluated before addition)\n",
        "1.  9 + 15 = 24 (Finally, the addition is performed)"
      ],
      "metadata": {
        "id": "yTRJRA6p8DFQ"
      }
    },
    {
      "cell_type": "markdown",
      "source": [
        "For the following examples, try to find the output and run the program to check your answer."
      ],
      "metadata": {
        "id": "IWO_WLq79H5I"
      }
    },
    {
      "cell_type": "code",
      "source": [
        "x = 10\n",
        "y = 5\n",
        "\n",
        "result = x * 2 > y + 7\n",
        "print(result)\n"
      ],
      "metadata": {
        "id": "F4P8V_tw8cwJ"
      },
      "execution_count": null,
      "outputs": []
    },
    {
      "cell_type": "code",
      "source": [
        "age = 35\n",
        "has_license = True\n",
        "can_rent_car = age >= 25 and has_license\n",
        "print(can_rent_car)\n"
      ],
      "metadata": {
        "id": "oT6LVwUX9tyW",
        "colab": {
          "base_uri": "https://localhost:8080/"
        },
        "outputId": "2be7ef70-ef9a-4844-839c-93595b27f888"
      },
      "execution_count": null,
      "outputs": [
        {
          "output_type": "stream",
          "name": "stdout",
          "text": [
            "True\n"
          ]
        }
      ]
    },
    {
      "cell_type": "code",
      "source": [
        "points = 80\n",
        "points += (100 - points) * 0.2\n",
        "print(points)\n"
      ],
      "metadata": {
        "id": "7kTDv_Qe-tDp",
        "colab": {
          "base_uri": "https://localhost:8080/"
        },
        "outputId": "2d1f12db-6e9a-44f9-9f81-e4955cbc165c"
      },
      "execution_count": null,
      "outputs": [
        {
          "output_type": "stream",
          "name": "stdout",
          "text": [
            "84.0\n"
          ]
        }
      ]
    },
    {
      "cell_type": "markdown",
      "source": [
        "## Exercise 1.3\n",
        "\n",
        "Write a program to ask a user to enter degree in fahrenhiet, then the program calculates the degree to celsius.\n",
        "\n",
        "The formula to convert fahrenheit to celsius is as follows:\n",
        "\n",
        "`celcius = (5/9) * (fahrenheit -32)`\n",
        "\n",
        "The example output of the program is as follows:\n",
        "\n",
        "```\n",
        "Enter degree in fahrenhiet 34\n",
        "34.0 fahrenheit = 1.11 celcius\n",
        "```\n"
      ],
      "metadata": {
        "id": "XuqMASv4sx52"
      }
    },
    {
      "cell_type": "code",
      "source": [
        "#Exercise 1.3\n",
        "#your code here\n",
        "\n",
        "\n",
        "\n",
        "\n",
        "\n",
        "\n",
        "\n"
      ],
      "metadata": {
        "id": "PlkBXwrHy1kv"
      },
      "execution_count": null,
      "outputs": []
    },
    {
      "cell_type": "markdown",
      "source": [
        "## Exercise 1.4\n",
        "\n",
        "Write a program that asks a user to enter the width and height of a rectangle (in integer) and calculate its area and perimeter.\n",
        "\n",
        "The example output of the program is as follows:\n",
        "\n",
        "```\n",
        "Enter width of a rectangle 5\n",
        "Enter height of a rectangle 4\n",
        "The rectangle with width: 5 and height: 4\n",
        "Area: 20\n",
        "Perimeter: 18\n",
        "```\n"
      ],
      "metadata": {
        "id": "OAaecYqU71B2"
      }
    },
    {
      "cell_type": "markdown",
      "source": [],
      "metadata": {
        "id": "GyR4y50qDgxP"
      }
    },
    {
      "cell_type": "code",
      "source": [
        "#Exercise 1.4\n",
        "#your code here\n",
        "\n",
        "\n",
        "\n",
        "\n",
        "\n",
        "\n",
        "\n"
      ],
      "metadata": {
        "id": "Mfegz2E_Dloq"
      },
      "execution_count": null,
      "outputs": []
    }
  ]
}