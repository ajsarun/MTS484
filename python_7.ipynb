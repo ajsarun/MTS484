{
  "nbformat": 4,
  "nbformat_minor": 0,
  "metadata": {
    "colab": {
      "provenance": [],
      "toc_visible": true,
      "authorship_tag": "ABX9TyNoTW/2QFKMlVscozLL+dpC"
    },
    "kernelspec": {
      "name": "python3",
      "display_name": "Python 3"
    },
    "language_info": {
      "name": "python"
    }
  },
  "cells": [
    {
      "cell_type": "markdown",
      "source": [
        "#Chapter 7\n",
        "#Exception Handling and File Processing"
      ],
      "metadata": {
        "id": "hFsz3F2CaMIC"
      }
    },
    {
      "cell_type": "markdown",
      "source": [
        "## **Exception Handling**\n",
        "\n",
        "Exception handling in Python is a way to handle errors that occur during the execution of a program. It allows a program to continue running or to fail gracefully by catching and managing exceptions. Here’s a detailed explanation:\n",
        "\n"
      ],
      "metadata": {
        "id": "am68SRw73ZI0"
      }
    },
    {
      "cell_type": "markdown",
      "source": [
        "### **Basics of Exception Handling**\n",
        "\n",
        "- Exception: An exception is **an event that disrupts the normal flow of the program**. It occurs during runtime and can be caused by various reasons, such as invalid user input, file not found, division by zero, etc.\n",
        "\n",
        "- try: The try block contains the code that might throw an exception. If an exception occurs within this block, it is passed to the except block for handling.\n",
        "\n",
        "- except: The except block catches and handles the exception. You can specify different except blocks to handle different types of exceptions.\n",
        "\n",
        "- else: The else block executes if the code in the try block does not raise an exception.\n",
        "\n",
        "- finally: The finally block executes regardless of whether an exception occurred or not. It is typically used for cleanup actions, such as closing files or releasing resources."
      ],
      "metadata": {
        "id": "GpNOJ9d68bA1"
      }
    },
    {
      "cell_type": "markdown",
      "source": [
        "###**Syntax**\n",
        "\n",
        "```\n",
        "try:\n",
        "    # Code that may raise an exception\n",
        "    \n",
        "except SomeException as e:\n",
        "    # Code that runs if the exception occurs\n",
        "    \n",
        "else:\n",
        "    # Code that runs if no exception occurs\n",
        "    \n",
        "finally:\n",
        "    # Code that runs no matter what\n",
        "    \n",
        "\n",
        "```\n",
        "\n"
      ],
      "metadata": {
        "id": "O72pnVtg8V1K"
      }
    },
    {
      "cell_type": "markdown",
      "source": [
        "### **Examples**"
      ],
      "metadata": {
        "id": "inbE356z8tIR"
      }
    },
    {
      "cell_type": "code",
      "source": [
        "try:\n",
        "    numerator = 10\n",
        "    denominator = 0\n",
        "    result = numerator / denominator\n",
        "except ZeroDivisionError as e: #e contains the error message\n",
        "    print(f\"Error {e}: Division by zero is not allowed. \")\n",
        "else:\n",
        "    print(\"The result is\", result)\n",
        "finally:\n",
        "    print(\"This will execute no matter what.\")\n"
      ],
      "metadata": {
        "colab": {
          "base_uri": "https://localhost:8080/"
        },
        "id": "JIWDkqcj8xn7",
        "outputId": "0e3a37b4-f21e-4076-b3b1-c49475fc9346"
      },
      "execution_count": null,
      "outputs": [
        {
          "output_type": "stream",
          "name": "stdout",
          "text": [
            "Error division by zero: Division by zero is not allowed. \n",
            "This will execute no matter what.\n"
          ]
        }
      ]
    },
    {
      "cell_type": "markdown",
      "source": [
        "In this example:\n",
        "\n",
        "- The try block attempts to perform division.\n",
        "- The except block catches the ZeroDivisionError and prints an error message.\n",
        "- The else block would execute if no exception occurred (in this case, it won't).\n",
        "- The finally block will execute regardless of whether an exception occurred or not.\n",
        "\n",
        "*Note:*\n",
        "\n",
        "`else` and `finally` are optional."
      ],
      "metadata": {
        "id": "fobpMza_9Zf6"
      }
    },
    {
      "cell_type": "code",
      "source": [
        "try:\n",
        "    numerator = 10\n",
        "    denominator = 0\n",
        "    result = numerator / denominator\n",
        "    print(\"The result is\", result)  #we can put print result statement here\n",
        "    #if no error occurs, the program will continue till the end of the try block\n",
        "    #and skip the except block, and go to the else block if present.\n",
        "except ZeroDivisionError as e:\n",
        "    print(\"Error: Division by zero is not allowed.\")\n",
        "finally:\n",
        "    print(\"This will execute no matter what.\")\n"
      ],
      "metadata": {
        "colab": {
          "base_uri": "https://localhost:8080/"
        },
        "id": "J2a8G2ZC9sVA",
        "outputId": "53c2bd52-efdc-4efa-ced4-75fa236cd05b"
      },
      "execution_count": null,
      "outputs": [
        {
          "output_type": "stream",
          "name": "stdout",
          "text": [
            "Error: Division by zero is not allowed.\n",
            "This will execute no matter what.\n"
          ]
        }
      ]
    },
    {
      "cell_type": "code",
      "source": [
        "try:\n",
        "    numerator = 10\n",
        "    denominator = 2 #the deniminator is not 0, so no exception\n",
        "    result = numerator / denominator\n",
        "    print(\"The result is\", result)\n",
        "    #if no error occurs, the program will continue till the end of the try block\n",
        "    #and skip the except block, and go to the else block if present.\n",
        "except ZeroDivisionError as e:\n",
        "    print(\"Error: Division by zero is not allowed.\")\n",
        "else:\n",
        "    print(\"Yeah no error\")\n",
        "finally:\n",
        "    print(\"This will execute no matter what.\")"
      ],
      "metadata": {
        "colab": {
          "base_uri": "https://localhost:8080/"
        },
        "id": "CnPGy0A_-ucc",
        "outputId": "63d280b9-8f1f-40ea-cc31-a791c93b45b9"
      },
      "execution_count": null,
      "outputs": [
        {
          "output_type": "stream",
          "name": "stdout",
          "text": [
            "The result is 5.0\n",
            "Yeah no error\n",
            "This will execute no matter what.\n"
          ]
        }
      ]
    },
    {
      "cell_type": "markdown",
      "source": [
        "### **Control Flow of Exception**\n",
        "\n",
        "The previous examples show the control flow in exception, but let's summarize it again.\n",
        "\n",
        "1. Entering the try Block:\n",
        "\n",
        "- The program enters the try block and begins executing the statements inside it.\n",
        "\n",
        "2. Exception Occurs:\n",
        "\n",
        "- If an exception occurs during the execution of any statement within the try block, the remaining statements in the try block are skipped.\n",
        "- The control is immediately transferred to the first matching except block.\n",
        "\n",
        "3. Handling the Exception:\n",
        "\n",
        "- If an except block matching the type of exception is found, the statements inside that except block are executed.\n",
        "- If no matching except block is found, the exception is propagated up the call stack, and the program may terminate if it is not caught elsewhere.\n",
        "\n",
        "4. No Exception Occurs:\n",
        "\n",
        "- If no exception occurs in the try block, the control flow moves to the else block (if present).\n",
        "- The else block is executed after the try block if no exceptions were raised.\n",
        "\n",
        "5. Executing the finally Block:\n",
        "\n",
        "- The finally block is executed no matter what, whether an exception occurred or not.\n",
        "- This block is typically used for cleanup actions, such as closing files or releasing resources.\n",
        "\n",
        "6. Exiting the try-except Structure:\n",
        "\n",
        "- After executing the except or else block (whichever is applicable), the control moves to the finally block (if present).\n",
        "- Once the finally block is executed, the control moves to the statement following the entire try-except structure.\n"
      ],
      "metadata": {
        "id": "-2H4lKM6_of8"
      }
    },
    {
      "cell_type": "markdown",
      "source": [
        "### **Common Exceptions**\n",
        "\n",
        "Some common built-in exceptions in Python include:\n",
        "\n",
        "- `IndexError`: Raised when a sequence subscript is out of range.\n",
        "- `KeyError`: Raised when a dictionary key is not found.\n",
        "- `TypeError`: Raised when an operation is performed on an inappropriate type.\n",
        "- `ValueError`: Raised when a function receives an argument of the right type but inappropriate value.\n",
        "- `FileNotFoundError`: Raised when a file or directory is requested but doesn’t exist."
      ],
      "metadata": {
        "id": "geCcdNLgDvN5"
      }
    },
    {
      "cell_type": "markdown",
      "source": [
        "#### **Index Error**\n",
        "An `IndexError` occurs when you try to access an index that is out of the range of a list or other sequence."
      ],
      "metadata": {
        "id": "eDVVedvUEk4E"
      }
    },
    {
      "cell_type": "code",
      "source": [
        "try:\n",
        "    my_list = [1, 2, 3]\n",
        "    print(my_list[5])  # Trying to access an index that doesn't exist\n",
        "except IndexError as e:\n",
        "    print(f\"IndexError: {e}\")"
      ],
      "metadata": {
        "colab": {
          "base_uri": "https://localhost:8080/"
        },
        "id": "eyyjY54NEpii",
        "outputId": "ba4e93cb-0eeb-449e-af3a-16ad52801317"
      },
      "execution_count": null,
      "outputs": [
        {
          "output_type": "stream",
          "name": "stdout",
          "text": [
            "IndexError: list index out of range\n"
          ]
        }
      ]
    },
    {
      "cell_type": "markdown",
      "source": [
        "#### **KeyError**\n",
        "\n",
        "A `KeyError` occurs when you try to access a dictionary key that doesn't exist."
      ],
      "metadata": {
        "id": "M1Bh1kn6Ex6Y"
      }
    },
    {
      "cell_type": "code",
      "source": [
        "try:\n",
        "    my_dict = {'a': 1, 'b': 2}\n",
        "    print(my_dict['c'])  # Trying to access a key that doesn't exist\n",
        "except KeyError as e:\n",
        "    print(f\"KeyError: {e}\")\n"
      ],
      "metadata": {
        "colab": {
          "base_uri": "https://localhost:8080/"
        },
        "id": "dKGVl5wGE_P9",
        "outputId": "f61d4716-dfcd-4287-adc2-a134f662d157"
      },
      "execution_count": null,
      "outputs": [
        {
          "output_type": "stream",
          "name": "stdout",
          "text": [
            "KeyError: 'c'\n"
          ]
        }
      ]
    },
    {
      "cell_type": "markdown",
      "source": [
        "#### **Type Error**\n",
        "\n",
        "A `TypeError` occurs when an operation or function is applied to an object of inappropriate type."
      ],
      "metadata": {
        "id": "VBo191wQFtFt"
      }
    },
    {
      "cell_type": "code",
      "source": [
        "try:\n",
        "    result = '2' + 3  # Trying to add a string and an integer\n",
        "except TypeError as e:\n",
        "    print(f\"TypeError: {e}\")\n"
      ],
      "metadata": {
        "colab": {
          "base_uri": "https://localhost:8080/"
        },
        "id": "lAnoNTCPGvAf",
        "outputId": "dd5c66a6-3f2a-4500-e9dd-b41830a0a467"
      },
      "execution_count": null,
      "outputs": [
        {
          "output_type": "stream",
          "name": "stdout",
          "text": [
            "TypeError: can only concatenate str (not \"int\") to str\n"
          ]
        }
      ]
    },
    {
      "cell_type": "markdown",
      "source": [
        "#### **Value Error**\n",
        "\n",
        "A `ValueError` occurs when a function receives an argument of the correct type but with an inappropriate value.\n"
      ],
      "metadata": {
        "id": "0lh6JkLWG15m"
      }
    },
    {
      "cell_type": "code",
      "source": [
        "try:\n",
        "    number = int(\"abc\")  # Trying to convert a non-numeric string to an integer\n",
        "except ValueError as e:\n",
        "    print(f\"ValueError: {e}\")\n"
      ],
      "metadata": {
        "colab": {
          "base_uri": "https://localhost:8080/"
        },
        "id": "Cgyly89mHfpm",
        "outputId": "d0c67376-8b56-4c9a-f015-9ec86ef356cd"
      },
      "execution_count": null,
      "outputs": [
        {
          "output_type": "stream",
          "name": "stdout",
          "text": [
            "ValueError: invalid literal for int() with base 10: '12.56'\n"
          ]
        }
      ]
    },
    {
      "cell_type": "markdown",
      "source": [
        "Explanation:\n",
        "In this example, the `int()` function expects a string that can be converted to an integer. Passing the string \"abc\", which cannot be converted to an integer, raises a `ValueError`."
      ],
      "metadata": {
        "id": "P-jVUsVnH4XB"
      }
    },
    {
      "cell_type": "markdown",
      "source": [
        "### **Handle Multiple Exceptions**\n"
      ],
      "metadata": {
        "id": "8_AnmRNjIRLu"
      }
    },
    {
      "cell_type": "code",
      "source": [
        "try:\n",
        "    # IndexError\n",
        "    my_list = [1, 2, 3]\n",
        "    print(my_list[5])  # Out of range index\n",
        "\n",
        "    # KeyError\n",
        "    my_dict = {'a': 1, 'b': 2}\n",
        "    print(my_dict['c'])  # Non-existent key\n",
        "\n",
        "    # TypeError\n",
        "    result = '2' + 3  # Adding string and integer\n",
        "\n",
        "    # ValueError\n",
        "    number = int(\"abc\")  # Invalid conversion\n",
        "except IndexError as e:\n",
        "    print(f\"IndexError: {e}\")\n",
        "except KeyError as e:\n",
        "    print(f\"KeyError: {e}\")\n",
        "except TypeError as e:\n",
        "    print(f\"TypeError: {e}\")\n",
        "except ValueError as e:\n",
        "    print(f\"ValueError: {e}\")\n"
      ],
      "metadata": {
        "colab": {
          "base_uri": "https://localhost:8080/"
        },
        "id": "OWPfld7_KStM",
        "outputId": "1471ee3d-26fc-4d82-996f-14d90031505b"
      },
      "execution_count": null,
      "outputs": [
        {
          "output_type": "stream",
          "name": "stdout",
          "text": [
            "IndexError: list index out of range\n"
          ]
        }
      ]
    },
    {
      "cell_type": "markdown",
      "source": [
        "Explanation:\n",
        "\n",
        "- The IndexError is raised first, and the corresponding except block catches and prints the error.\n",
        "- If the IndexError didn't occur, the KeyError would be the next to occur, and so on.\n",
        "- Each except block handles its specific exception type."
      ],
      "metadata": {
        "id": "UitWJKfQKb5b"
      }
    },
    {
      "cell_type": "markdown",
      "source": [
        "### **Custom Exceptions**\n",
        "\n",
        "You can also define your own exceptions by creating a new class that inherits from the Exception class. The details about inheritance will be discussed in the Object-Oriented Programming chapter."
      ],
      "metadata": {
        "id": "oQZpzW5gLCfm"
      }
    },
    {
      "cell_type": "code",
      "source": [
        "class NotEvenNumberError(Exception):\n",
        "    pass\n",
        "try:\n",
        "    number = 5\n",
        "    if number % 2 != 0:\n",
        "        raise NotEvenNumberError(\"The number is not even.\")  # Raise the custom exception\n",
        "except NotEvenNumberError as e:\n",
        "    print(e)"
      ],
      "metadata": {
        "colab": {
          "base_uri": "https://localhost:8080/"
        },
        "id": "x0aP0UBINgcU",
        "outputId": "e3d34583-5be1-41d6-b887-7760979a5ae5"
      },
      "execution_count": null,
      "outputs": [
        {
          "output_type": "stream",
          "name": "stdout",
          "text": [
            "The number is not even.\n"
          ]
        }
      ]
    },
    {
      "cell_type": "markdown",
      "source": [
        "### **Conclusion**\n",
        "Exception handling is a powerful feature in Python that helps in building robust and error-tolerant programs. By using try, except, else, and finally blocks effectively, you can manage errors gracefully and ensure your program behaves as expected under various conditions."
      ],
      "metadata": {
        "id": "Zh1p1M4BMBFv"
      }
    },
    {
      "cell_type": "markdown",
      "source": [
        "### **Exercise 7.1**\n",
        "\n",
        "Create a program that performs the following tasks:\n",
        "\n",
        "1. Accept User Input:\n",
        "\n",
        "- Prompt the user to enter a number and store it in a list.\n",
        "- Allow the user to enter multiple numbers until they type 'done'.\n",
        "- If a user enters data that is not a number, the program will show the error message and allow the user to enter the data again.\n",
        "\n",
        "2. Process the List:\n",
        "\n",
        "- Print the list of numbers.\n",
        "- Prompt the user to enter an index to access an element from the list, until they type 'done'.\n",
        "- Print the element at the specified index.\n",
        "- If the user enters an index that is not a number or an index that is not in\n",
        "the range of the list, show the proper error message, and allow them to enter the data again.\n",
        "\n",
        "Sample Output\n",
        "```\n",
        "Enter a number (or type 'done' to finish): 15.5\n",
        "Enter a number (or type 'done' to finish): r\n",
        "Invalid input. Please enter a valid number.\n",
        "Enter a number (or type 'done' to finish): 16\n",
        "Enter a number (or type 'done' to finish): 2\n",
        "Enter a number (or type 'done' to finish): 8.r\n",
        "Invalid input. Please enter a valid number.\n",
        "Enter a number (or type 'done' to finish): 9\n",
        "Enter a number (or type 'done' to finish): done\n",
        "List of numbers: [15.5, 16.0, 2.0, 9.0]\n",
        "Enter an index to access an element from the list (or type 'done' to finish): 1\n",
        "Element at index 1: 16.0\n",
        "Enter an index to access an element from the list (or type 'done' to finish): 7\n",
        "IndexError: Index out of range.\n",
        "Enter an index to access an element from the list (or type 'done' to finish): t\n",
        "ValueError: Invalid index. Please enter an integer.\n",
        "Enter an index to access an element from the list (or type 'done' to finish): 0\n",
        "Element at index 0: 15.5\n",
        "Enter an index to access an element from the list (or type 'done' to finish): done\n",
        "```"
      ],
      "metadata": {
        "id": "Kw07GzvlOYnl"
      }
    },
    {
      "cell_type": "code",
      "source": [
        "#Exercise 7.1\n",
        "#Your code here\n",
        "\n"
      ],
      "metadata": {
        "id": "HS8v5Xrm3iWy"
      },
      "execution_count": null,
      "outputs": []
    },
    {
      "cell_type": "markdown",
      "source": [
        "## File Processing\n",
        "\n",
        "File processing in Python involves reading from and writing to files stored on your system. Python provides built-in functions and modules to handle these operations efficiently.\n"
      ],
      "metadata": {
        "id": "nwTqO1yAq7V6"
      }
    },
    {
      "cell_type": "markdown",
      "source": [
        "### **Setting Up Environment**\n",
        "\n",
        "To continue working with files under Google Colab, I recommend you mount your Google Drive to Colab by runnig the following cell.\n"
      ],
      "metadata": {
        "id": "RNxOZfHoN2-w"
      }
    },
    {
      "cell_type": "code",
      "source": [
        "from google.colab import drive\n",
        "drive.mount('/content/drive')"
      ],
      "metadata": {
        "colab": {
          "base_uri": "https://localhost:8080/"
        },
        "id": "9rBo0ZhzPUtM",
        "outputId": "e0cf9108-d1f6-4906-c248-d37d64458855"
      },
      "execution_count": null,
      "outputs": [
        {
          "output_type": "stream",
          "name": "stdout",
          "text": [
            "Drive already mounted at /content/drive; to attempt to forcibly remount, call drive.mount(\"/content/drive\", force_remount=True).\n"
          ]
        }
      ]
    },
    {
      "cell_type": "markdown",
      "source": [
        "Now you can access your file using the following path format `drive/MyDrive/[folder name]/filename`\n",
        "\n",
        "For example, if you want to access the file `test.txt` in the folder `file_processing`. You use `drive/MyDrive/file_processing/test.txt`\n",
        "\n",
        "To follow along with this notebook, I recommend creating a folder named `file_processing` under the `My Drive` folder on your Google Drive.\n",
        "\n",
        "*Note:*\n",
        "\n",
        "If you do not do the above step, you can access the file using only the file name, for example, `test.txt.` However, the file will be deleted after you end the Notebook session."
      ],
      "metadata": {
        "id": "6Bu4z7UFPhiK"
      }
    },
    {
      "cell_type": "markdown",
      "source": [
        "### **Openning a File**\n",
        "\n",
        "To open a file in Python, you use the `open()` function, which returns a file object. This function requires at least one argument, the name of the file you want to open. It can also take an optional second argument to specify the mode in which the file should be opened.\n",
        "\n",
        "**File Modes:**\n",
        "\n",
        "- `r`: Read (default mode). Opens the file for reading.\n",
        "- `w`: Write. Opens the file for writing (creates a new file or truncates an existing file).\n",
        "- `a`: Append. Opens the file for appending.\n",
        "- `b`: Binary mode. Used in conjunction with other modes (e.g., 'rb' or 'wb').\n",
        "- `+`: Updating (read and write). Used in conjunction with other modes (e.g., 'r+', 'w+').\n",
        "\n",
        "**Example**\n",
        "```\n",
        "file = open('example.txt', 'r') #open the file for reading\n",
        "\n",
        "```"
      ],
      "metadata": {
        "id": "PCDnOP-sM7MR"
      }
    },
    {
      "cell_type": "markdown",
      "source": [
        "### **Closing a File**\n",
        "\n",
        "It is important to close a file after you are done with it to free up system resources. You can close a file using the `close()` method.\n",
        "\n",
        "Example:\n",
        "\n",
        "```\n",
        "file = open('example.txt', 'r')\n",
        "# Perform file operations\n",
        "file.close()\n",
        "\n",
        "```\n",
        "Using the with statement is a better practice because it ensures the file is properly closed even if an exception occurs.\n",
        "\n",
        "Example:\n",
        "```\n",
        "with open('example.txt', 'r') as file:\n",
        "    content = file.read()\n",
        "# No need to explicitly close the file\n",
        "\n",
        "```\n"
      ],
      "metadata": {
        "id": "jtOR9pzAWAfG"
      }
    },
    {
      "cell_type": "markdown",
      "source": [
        "### **Writing to a file**\n",
        "\n",
        "To write data to a file, you can use:\n",
        "\n",
        "- `write(string)`: Writes the string to the file.\n",
        "- `writelines(lines)`: Writes a list of strings to the file."
      ],
      "metadata": {
        "id": "RLxBR5QYSlT-"
      }
    },
    {
      "cell_type": "code",
      "execution_count": null,
      "metadata": {
        "id": "MnfiWhwxaJdq"
      },
      "outputs": [],
      "source": [
        "with open('drive/MyDrive/file_processing/example.txt', 'w') as file:\n",
        "#with open('example.txt', 'w') as file:\n",
        "    file.write('Hello, World!\\n')\n",
        "    file.writelines(['Line 1\\n', 'Line 2\\n'])"
      ]
    },
    {
      "cell_type": "markdown",
      "source": [
        "You can access your Google Drive folder to check whether the file has been created and to view its contents.  "
      ],
      "metadata": {
        "id": "44dYWqFmTgWK"
      }
    },
    {
      "cell_type": "markdown",
      "source": [
        "### **Reading from a file**\n",
        "\n",
        "There are several methods to read data from a file:\n",
        "\n",
        "- `read(size)`: Reads size bytes from the file. If size is omitted, it reads the entire file.\n",
        "- `readline()`: Reads a single line from the file.\n",
        "- `readlines()`: Reads all lines in the file and returns them as a list of strings."
      ],
      "metadata": {
        "id": "2YV1EDUeVH_d"
      }
    },
    {
      "cell_type": "code",
      "source": [
        "with open('drive/MyDrive/file_processing/example.txt', 'r') as file:\n",
        "#with open('example.txt', 'r') as file:\n",
        "    content = file.read()\n",
        "    print(content)\n",
        "    print(type(content))\n"
      ],
      "metadata": {
        "colab": {
          "base_uri": "https://localhost:8080/"
        },
        "id": "xwQseTzoVh1y",
        "outputId": "98a63090-b062-4203-bbee-6e62dcf61eaa"
      },
      "execution_count": null,
      "outputs": [
        {
          "output_type": "stream",
          "name": "stdout",
          "text": [
            "Hello, World!\n",
            "Line 1\n",
            "Line 2\n",
            "\n",
            "<class 'str'>\n"
          ]
        }
      ]
    },
    {
      "cell_type": "code",
      "source": [
        "with open('drive/MyDrive/file_processing/example.txt', 'r') as file:\n",
        "#with open('example.txt', 'r') as file:\n",
        "    content = file.read(5) #reads the first 5 characters\n",
        "    print(content)\n"
      ],
      "metadata": {
        "colab": {
          "base_uri": "https://localhost:8080/"
        },
        "id": "mQrv9Rr3Yr6f",
        "outputId": "21dcc796-e1cd-4744-a627-e9067165cad0"
      },
      "execution_count": null,
      "outputs": [
        {
          "output_type": "stream",
          "name": "stdout",
          "text": [
            "Hello\n"
          ]
        }
      ]
    },
    {
      "cell_type": "code",
      "source": [
        "with open('drive/MyDrive/file_processing/example.txt', 'r') as file:\n",
        "#with open('example.txt', 'r') as file:\n",
        "    content = file.readline() #reads the first line\n",
        "    print(content)"
      ],
      "metadata": {
        "colab": {
          "base_uri": "https://localhost:8080/"
        },
        "id": "NXTWqzLfY0PW",
        "outputId": "eafb3f1c-a5ee-4dc8-dea5-ae867d349540"
      },
      "execution_count": null,
      "outputs": [
        {
          "output_type": "stream",
          "name": "stdout",
          "text": [
            "Hello, World!\n",
            "\n"
          ]
        }
      ]
    },
    {
      "cell_type": "code",
      "source": [
        "with open('drive/MyDrive/file_processing/example.txt', 'r') as file:\n",
        "#with open('example.txt', 'r') as file:\n",
        "    content = file.readlines() #read all lines, content is now +a list of string\n",
        "    print(content)"
      ],
      "metadata": {
        "colab": {
          "base_uri": "https://localhost:8080/"
        },
        "id": "fTc8Hna1Y-eE",
        "outputId": "6ae3f36c-de50-48df-8d2b-eddb1c6675f0"
      },
      "execution_count": null,
      "outputs": [
        {
          "output_type": "stream",
          "name": "stdout",
          "text": [
            "['Hello, World!\\n', 'Line 1\\n', 'Line 2\\n']\n"
          ]
        }
      ]
    },
    {
      "cell_type": "markdown",
      "source": [
        "### **Open a File for Appending**"
      ],
      "metadata": {
        "id": "WRx10Z6fZrsA"
      }
    },
    {
      "cell_type": "code",
      "source": [
        "#The `w` mode truncate the existing contents\n",
        "with open('drive/MyDrive/file_processing/example.txt', 'r') as file:\n",
        "#with open('example.txt', 'r') as file:\n",
        "    content = file.readlines() #read all lines, content is now +a list of string\n",
        "    print(content)\n",
        "with open('drive/MyDrive/file_processing/example.txt', 'w') as file:\n",
        "#with open('example.txt', 'w') as file:\n",
        "    file.writelines(['Line 1\\n', 'Line 2\\n Line3\\n'])\n",
        "with open('drive/MyDrive/file_processing/example.txt', 'r') as file:\n",
        "#with open('example.txt', 'r') as file:\n",
        "    content = file.readlines() #read all lines, content is now +a list of string\n",
        "    print(content)"
      ],
      "metadata": {
        "colab": {
          "base_uri": "https://localhost:8080/"
        },
        "id": "5XShZNWbZzNX",
        "outputId": "5c8a5f26-b505-4b84-dfb0-70b309d2fe7f"
      },
      "execution_count": null,
      "outputs": [
        {
          "output_type": "stream",
          "name": "stdout",
          "text": [
            "['Hello, World!\\n', 'Line 1\\n', 'Line 2\\n']\n",
            "['Line 1\\n', 'Line 2\\n', ' Line3\\n']\n"
          ]
        }
      ]
    },
    {
      "cell_type": "markdown",
      "source": [
        "You can see that if the `w` mode is used, the new data has replaced the old data of the existing file. To append the data to the existing file we use `a` mode."
      ],
      "metadata": {
        "id": "VViArO2QaMoh"
      }
    },
    {
      "cell_type": "code",
      "source": [
        "#To preserve the existing contents using `a` mode\n",
        "with open('drive/MyDrive/file_processing/example.txt', 'r') as file:\n",
        "#with open('example.txt', 'r') as file:\n",
        "    content = file.readlines() #read all lines, content is now +a list of string\n",
        "    print(content)\n",
        "with open('drive/MyDrive/file_processing/example.txt', 'a') as file:\n",
        "#with open('example.txt', 'a') as file:\n",
        "    file.writelines(['Line 4\\n', 'Line 5\\n Line6\\n'])\n",
        "with open('drive/MyDrive/file_processing/example.txt', 'r') as file:\n",
        "#with open('example.txt', 'r') as file:\n",
        "    content = file.readlines() #read all lines, content is now +a list of string\n",
        "    print(content)"
      ],
      "metadata": {
        "colab": {
          "base_uri": "https://localhost:8080/"
        },
        "id": "KratCMMVbAWW",
        "outputId": "fc78a7e1-66d6-4312-cbce-42d13815a619"
      },
      "execution_count": null,
      "outputs": [
        {
          "output_type": "stream",
          "name": "stdout",
          "text": [
            "['Line 1\\n', 'Line 2\\n', ' Line3\\n']\n",
            "['Line 1\\n', 'Line 2\\n', ' Line3\\n', 'Line 4\\n', 'Line 5\\n', ' Line6\\n']\n"
          ]
        }
      ]
    },
    {
      "cell_type": "markdown",
      "source": [
        "### **Updating existing Contents in a File**"
      ],
      "metadata": {
        "id": "8nHCYh1PccF6"
      }
    },
    {
      "cell_type": "code",
      "source": [
        "#Using `r+` mode\n",
        "#If we want to modfy the existing contents\n",
        "with open('drive/MyDrive/file_processing/example.txt', 'r+') as file:\n",
        "#with open('example.txt', 'r+') as file:\n",
        "    content = file.readlines()\n",
        "    print(\"Original Content:\")\n",
        "    print(content)\n",
        "\n",
        "    # Move the file pointer to the beginning of the file\n",
        "    file.seek(0)\n",
        "    # Update the second line\n",
        "    content[1] = \"Updated Line 2\\n\"\n",
        "    # Write the updated content back to the file\n",
        "    file.writelines(content)\n",
        "    # Truncate the file to the current size to remove any leftover lines\n",
        "    file.truncate()\n",
        "with open('drive/MyDrive/file_processing/example.txt', 'r') as file:\n",
        "#with open('example.txt', 'r') as file:\n",
        "    updated_content = file.readlines()\n",
        "    print(\"Updated Content:\")\n",
        "    print(updated_content)\n"
      ],
      "metadata": {
        "colab": {
          "base_uri": "https://localhost:8080/"
        },
        "id": "0Ka9-g_fdL62",
        "outputId": "afc127fc-566f-4235-9b02-2f2677e6a43e"
      },
      "execution_count": null,
      "outputs": [
        {
          "output_type": "stream",
          "name": "stdout",
          "text": [
            "Original Content:\n",
            "['Line 1\\n', 'Line 2\\n', ' Line3\\n', 'Line 4\\n', 'Line 5\\n', ' Line6\\n']\n",
            "Updated Content:\n",
            "['Line 1\\n', 'Updated Line 2\\n', ' Line3\\n', 'Line 4\\n', 'Line 5\\n', ' Line6\\n']\n"
          ]
        }
      ]
    },
    {
      "cell_type": "code",
      "source": [
        "# Using 'w+' mode\n",
        "with open('drive/MyDrive/file_processing/example.txt', 'w+') as file:\n",
        "#with open('example.txt', 'w+') as file:\n",
        "    # Since 'w+' truncates the file, we need to write the initial content again\n",
        "    # Actually we do nout use it this way.\n",
        "    file.writelines(['Line 1\\n', 'updated Line 2\\n, Line3\\n, Line4\\n, Line5\\n, Line6\\n'])\n",
        "    # Move the file pointer to the beginning of the file\n",
        "    file.seek(0)\n",
        "    content = file.readlines()\n",
        "    print(\"Original Content:\")\n",
        "    print(content)\n",
        "\n",
        "    # Move the file pointer to the beginning of the file again\n",
        "    file.seek(0)\n",
        "    # Update the second line\n",
        "    content[2] = \"Updated Line 3\\n\"\n",
        "    # Write the updated content back to the file\n",
        "    file.writelines(content)\n",
        "    # Truncate the file to the current size to remove any leftover lines\n",
        "    file.truncate()\n",
        "\n",
        "with open('drive/MyDrive/file_processing/example.txt', 'r') as file:\n",
        "#with open('example.txt', 'r') as file:\n",
        "    updated_content = file.readlines()\n",
        "    print(\"Updated Content:\")\n",
        "    print(updated_content)\n"
      ],
      "metadata": {
        "colab": {
          "base_uri": "https://localhost:8080/"
        },
        "id": "vsf8q14Ri-Wf",
        "outputId": "fbaa3396-7ad6-4598-e79b-1f888530795f"
      },
      "execution_count": null,
      "outputs": [
        {
          "output_type": "stream",
          "name": "stdout",
          "text": [
            "Original Content:\n",
            "['Line 1\\n', 'updated Line 2\\n', ', Line3\\n', ', Line4\\n', ', Line5\\n', ', Line6\\n']\n",
            "Updated Content:\n",
            "['Line 1\\n', 'updated Line 2\\n', 'Updated Line 3\\n', ', Line4\\n', ', Line5\\n', ', Line6\\n']\n"
          ]
        }
      ]
    },
    {
      "cell_type": "markdown",
      "source": [
        "Using `'w+'` mode might seem counterintuitive at first since it truncates the file, removing all previous content. However, using `'w+'` has a benefit over `'w'` in that `'w+'` allows you to read the file after writing to it. This can be useful if you need to confirm the content you just wrote or process it further without closing and reopening the file. For instance, if you're generating data, writing it to a file, and then immediately needing to read and process it, `'w+'` can facilitate this.\n",
        "\n",
        "Example:"
      ],
      "metadata": {
        "id": "PQTTb83Ub7Ls"
      }
    },
    {
      "cell_type": "code",
      "source": [
        "report_data = \"Report for July 26, 2024\\nSummary of today's activities...\"\n",
        "\n",
        "# Generate the report\n",
        "with open('drive/MyDrive/file_processing/daily_report.txt', 'w+') as file:\n",
        "#with open('daily_report.txt', 'w+') as file:\n",
        "    # Write the new report data\n",
        "    file.write(report_data)\n",
        "\n",
        "    # Move the file pointer to the beginning to read the content\n",
        "    file.seek(0)\n",
        "    # Read and verify the content\n",
        "    verified_content = file.read()\n",
        "    print(\"Verified Content:\")\n",
        "    print(verified_content)\n"
      ],
      "metadata": {
        "colab": {
          "base_uri": "https://localhost:8080/"
        },
        "id": "sNVWVvzXxHIK",
        "outputId": "79fd6823-dcf0-49c4-c5e2-66a20fc78089"
      },
      "execution_count": null,
      "outputs": [
        {
          "output_type": "stream",
          "name": "stdout",
          "text": [
            "Verified Content:\n",
            "Report for July 26, 2024\n",
            "Summary of today's activities...\n"
          ]
        }
      ]
    },
    {
      "cell_type": "markdown",
      "source": [
        "We can use `'a+` mode if we need to read and append the data to a file."
      ],
      "metadata": {
        "id": "bnC2aaJsBjv6"
      }
    },
    {
      "cell_type": "code",
      "source": [
        "# Using 'a+' mode\n",
        "with open('drive/MyDrive/file_processing/example.txt', 'a+') as file:\n",
        "#with open('example.txt', 'a+') as file:\n",
        "    # Move the file pointer to the beginning of the file\n",
        "    file.seek(0)\n",
        "    content = file.readlines()\n",
        "    print(\"Original Content:\")\n",
        "    print(content)\n",
        "    # add new lines\n",
        "    file.writelines('Line7\\n')\n",
        "    # Truncate the file to the current size to remove any leftover lines\n",
        "    file.truncate()\n",
        "\n",
        "with open('drive/MyDrive/file_processing/example.txt', 'r') as file:\n",
        "#with open('example.txt', 'r') as file:\n",
        "    updated_content = file.readlines()\n",
        "    print(\"Updated Content:\")\n",
        "    print(updated_content)"
      ],
      "metadata": {
        "colab": {
          "base_uri": "https://localhost:8080/"
        },
        "id": "HQ-lg_vhAJ7L",
        "outputId": "c612c640-3156-4dc6-dcfd-53eda5edff58"
      },
      "execution_count": null,
      "outputs": [
        {
          "output_type": "stream",
          "name": "stdout",
          "text": [
            "Original Content:\n",
            "['Line 1\\n', 'updated Line 2\\n', 'Updated Line 3\\n', ', Line4\\n', ', Line5\\n', ', Line6\\n']\n",
            "Updated Content:\n",
            "['Line 1\\n', 'updated Line 2\\n', 'Updated Line 3\\n', ', Line4\\n', ', Line5\\n', ', Line6\\n', 'Line7\\n']\n"
          ]
        }
      ]
    },
    {
      "cell_type": "markdown",
      "source": [
        "**Summary**\n",
        "\n",
        "While `'r+'` is useful for updating existing files without truncating their content, `'w+'` is beneficial when you need to ensure a clean slate and also need the ability to read the file immediately after writing to it. The choice between `'r+'` and `'w+'` depends on the specific requirements of your file operations."
      ],
      "metadata": {
        "id": "4IS251kf2uq7"
      }
    },
    {
      "cell_type": "markdown",
      "source": [
        "### **Binary Files**\n",
        "\n",
        "When dealing with binary files, you need to use the binary mode. Reading and writing are similar to text files but involve byte objects."
      ],
      "metadata": {
        "id": "oEHd_-SnJ5jd"
      }
    },
    {
      "cell_type": "code",
      "source": [
        "# Writing binary data\n",
        "with open('drive/MyDrive/file_processing/example.bin', 'wb') as file:\n",
        "#with open('example.bin', 'wb') as file:\n",
        "    #file.write(b'\\x00\\xFF\\x00\\xFF')\n",
        "    file.write(b'Hello World')\n",
        "\n",
        "# Reading binary data\n",
        "with open('drive/MyDrive/file_processing/example.bin', 'rb') as file:\n",
        "#with open('example.bin', 'rb') as file:\n",
        "    data = file.read()\n",
        "    print(data)\n",
        "    print(data.decode('utf-8'))\n",
        "    print(data.hex())\n",
        "    print(type(data))"
      ],
      "metadata": {
        "colab": {
          "base_uri": "https://localhost:8080/"
        },
        "id": "U07kWBHaKH6r",
        "outputId": "1dfc27a4-a98f-4af1-f62d-359c2b7502bb"
      },
      "execution_count": null,
      "outputs": [
        {
          "output_type": "stream",
          "name": "stdout",
          "text": [
            "b'Hello World'\n",
            "Hello World\n",
            "48656c6c6f20576f726c64\n",
            "<class 'bytes'>\n"
          ]
        }
      ]
    },
    {
      "cell_type": "markdown",
      "source": [
        "### **Some File Methods and Attributes**\n",
        "\n",
        "- `file.closed`: Returns True if the file is closed.\n",
        "- `file.mode`: Returns the mode in which the file was opened.\n",
        "- `file.name`: Returns the name of the file."
      ],
      "metadata": {
        "id": "Nd_q0zxRMlFg"
      }
    },
    {
      "cell_type": "code",
      "source": [
        "file = open('drive/MyDrive/file_processing/example.txt', 'r')\n",
        "#file = open('example.txt', 'r')\n",
        "print(file.name)   # Output: example.txt\n",
        "print(file.mode)   # Output: r\n",
        "file.close()\n",
        "print(file.closed) # Output: True\n"
      ],
      "metadata": {
        "colab": {
          "base_uri": "https://localhost:8080/"
        },
        "id": "rJt533gyM3SR",
        "outputId": "8d757ba0-bff2-4af6-c2df-03991a824113"
      },
      "execution_count": null,
      "outputs": [
        {
          "output_type": "stream",
          "name": "stdout",
          "text": [
            "drive/MyDrive/file_processing/example.txt\n",
            "r\n",
            "True\n"
          ]
        }
      ]
    },
    {
      "cell_type": "markdown",
      "source": [
        "### **File Processing with Exception Handling**\n"
      ],
      "metadata": {
        "id": "5VWfR7WKPFaU"
      }
    },
    {
      "cell_type": "code",
      "source": [
        "try:\n",
        "    with open('drive/MyDrive/file_processing/newfile.txt', 'r') as file:\n",
        "    #with open('newfile.txt', 'r') as file:\n",
        "        content = file.read()\n",
        "        print(content)\n",
        "except FileNotFoundError:\n",
        "    print(\"The file was not found.\")\n",
        "except IOError:\n",
        "    print(\"An error occurred while reading the file.\")\n",
        "else:\n",
        "    print(\"File read successfully.\")\n",
        "finally:\n",
        "    print(\"Finished file read operation.\")\n"
      ],
      "metadata": {
        "colab": {
          "base_uri": "https://localhost:8080/"
        },
        "id": "p-1eiyI2PTUl",
        "outputId": "34743b8e-570c-4b97-9be0-5bcaa8d164b3"
      },
      "execution_count": null,
      "outputs": [
        {
          "output_type": "stream",
          "name": "stdout",
          "text": [
            "The file was not found.\n",
            "Finished file read operation.\n"
          ]
        }
      ]
    },
    {
      "cell_type": "code",
      "source": [
        "try:\n",
        "    with open('drive/MyDrive/file_processing/newfile.txt', 'w') as file:\n",
        "        file.write(\"Hello, World!\\n\")\n",
        "except IOError:\n",
        "    print(\"An error occurred while writing to the file.\")\n",
        "else:\n",
        "    print(\"File written successfully.\")\n",
        "finally:\n",
        "    print(\"Finished file write operation.\")\n"
      ],
      "metadata": {
        "colab": {
          "base_uri": "https://localhost:8080/"
        },
        "id": "c5xloTq9Qr4F",
        "outputId": "40b0ebbf-e81c-44b5-fc6e-4991547f44e8"
      },
      "execution_count": null,
      "outputs": [
        {
          "output_type": "stream",
          "name": "stdout",
          "text": [
            "File written successfully.\n",
            "Finished file write operation.\n"
          ]
        }
      ]
    },
    {
      "cell_type": "code",
      "source": [
        "class CustomFileError(Exception):\n",
        "    pass\n",
        "\n",
        "try:\n",
        "    with open('drive/MyDrive/file_processing/newfile.txt', 'w') as file:\n",
        "    #with open('drive/MyDrive/file_processing/newfile.txt', 'r') as file:\n",
        "        if file.readable():\n",
        "            content = file.read()\n",
        "            print(content)\n",
        "        else:\n",
        "            raise CustomFileError(\"File is not readable.\")\n",
        "except FileNotFoundError:\n",
        "    print(\"The file was not found.\")\n",
        "except CustomFileError as custom_error:\n",
        "    print(f\"Custom error: {custom_error}\")\n",
        "except Exception as e:\n",
        "    print(f\"An unexpected error occurred: {e}\")\n",
        "\n"
      ],
      "metadata": {
        "colab": {
          "base_uri": "https://localhost:8080/"
        },
        "id": "bvqmDmx5SeVP",
        "outputId": "2abb9b90-3e26-4ec1-95d9-2ff00b9eae6e"
      },
      "execution_count": null,
      "outputs": [
        {
          "output_type": "stream",
          "name": "stdout",
          "text": [
            "Custom error: File is not readable.\n"
          ]
        }
      ]
    },
    {
      "cell_type": "markdown",
      "source": [
        "## Exercise 7.2\n",
        "*Note:*\n",
        "1. You are not allowed to use the `csv` module.\n",
        "1. You must handle necessary exceptions.\n",
        "\n",
        "Write a Python program to ask users to enter employee information, including employee ID, first name, last name, and salary. Users can keep entering information about each employee until they enter 0 for the employee ID. Your program must check the correctness of the input data. For example, if users enter non-numeric data for salary, the program must show the error message and ask users to enter the salary information again. Each employee's information is stored as a list item, and a comma separates each field.\n",
        "\n",
        "After users finish entering the employee information, the program writes all employee information into a .csv file named 'employee.csv.'\n",
        "\n"
      ],
      "metadata": {
        "id": "TxEu6dEWYcC3"
      }
    },
    {
      "cell_type": "code",
      "source": [
        "# Exercise 7.2\n",
        "#Your code here\n",
        "\n",
        "\n"
      ],
      "metadata": {
        "id": "y_XCbWQcYgTV"
      },
      "execution_count": null,
      "outputs": []
    },
    {
      "cell_type": "markdown",
      "source": [
        "## **Exercise 7.3**\n",
        "*Note:*\n",
        "1. You are not allowed to use the `csv` module.\n",
        "1. You must handle necessary exceptions.\n",
        "\n",
        "Write a Python program to read the employee.csv file in exercise 8.2 and display the information in the format shown in the following example.\n",
        "\n",
        "```\n",
        "Emp Id     First Name   Last Name    Salary    \n",
        "12345      John         Wick         123456.78\n",
        "12346      Marry        Jane         45678.89  \n",
        "```"
      ],
      "metadata": {
        "id": "7FmIbQ7Sm48p"
      }
    },
    {
      "cell_type": "code",
      "source": [
        "# Exercise 7.3\n",
        "#Your code here\n",
        "\n"
      ],
      "metadata": {
        "id": "vp_xTphLm8vT"
      },
      "execution_count": null,
      "outputs": []
    },
    {
      "cell_type": "markdown",
      "source": [
        "## **Exercise 7.4**\n",
        "\n",
        "*Note:*\n",
        "\n",
        "1. In this exercise you are not allowed to use the `csv` module.\n",
        "1. You must handle necessary exceptions.\n",
        "\n",
        "One task in data science is data cleansing, which involves removing incorrectly formatted data to ensure only correct data is left for further processing without issues. In this problem, students will practice basic data cleansing by reading data from a CSV file named `rawemployee.csv` which contains the following data:\n",
        "\n",
        "```\n",
        "12345,John,Henry,456789.50\n",
        "1234a6,Anthony,Hopkins,56789.50\n",
        "12347,Clark,Kent,78956.75\n",
        "12348,Steve,Rogers,78956.75\n",
        "12349,Tony,5896.78\n",
        "12350,Bruce,Willis,890123.56\n",
        "12351,Marray,Jane,Watson,890123.56\n",
        "12352,Bruno, Mars, 567u890.23\n",
        "12353, Taylor, Sw12ft, 69854.17\n",
        "\n",
        "```\n",
        "This data is for employees and should consist of four fields: employeeId, firstName, lastName, and salary. The employeeId should be an integer and the salary should be a decimal number. From the given data, students will notice the following errors:\n",
        "\n",
        "- Line 2: 1234a6,Anthony,Hopkins,56789.50 has an error in the first field (employeeId), containing the character 'a', making it not an integer.\n",
        "- Line 5: 12349,Tony,5896.78 is missing one field, having only three fields instead of four.\n",
        "- Line 7: 12351,Marray,Jane,Watson,890123.56 has one extra field, having five fields instead of four.\n",
        "- Line 8: 12352,Bruno, Mars, 567u890.23 has an error in the salary field, containing the character 'u'.\n",
        "- Line 9: 12353, Taylor, Sw12ft, 69854.17 has an error in the lastName field, containing the numbers '12'.\n",
        "\n",
        "The student's program should clean the data by writing only the correct data to a new file named `cleanedemployee.csv`, which should contain the following data:\n",
        "\n",
        "```\n",
        "12345,John,Henry,456789.50\n",
        "12347,Clark,Kent,78956.75\n",
        "12348,Steve,Rogers,78956.75\n",
        "12350,Bruce,Willis,890123.56\n",
        "\n",
        "```\n",
        "\n",
        "Additionally, the program should record the reasons for excluding incorrect data in a file named `errorlog.txt`. The error log for this example would contain the following entries:\n",
        "\n",
        "```\n",
        "line:2,error type: \"Data type mismatch\",data:\"1234a6,Anthony,Hopkins,56789.50\"\n",
        "line:5,error type: \"Number of Fields mismatch\",data:\"12349,Tony,5896.78\"\n",
        "line:7,error type: \"Number of Fields mismatch\",data:\"12350,Marray,Jane,Watson,890123.56\"\n",
        "line:8,error type: \"Data type mismatch\",data:\"12352,Bruno, Mars, 567u890.23\"\n",
        "line:9,error type: \"Data type mismatch\",data:\"12353, Taylor, Sw12ft, 69854.17\"\n",
        "\n",
        "```\n",
        "\n",
        "The format of the errorlog.txt file should show the line number of the error in the data file, the error type, and the data of that line. This helps users easily understand what data is incorrect and why.\n",
        "\n",
        "In this program, students must create their Exception Class named NumberOfFieldsException, which will be raised if the number of fields in the data is incorrect.\n",
        "\n",
        "The program should conclude by summarizing the number of lines written to the new file out of the total number of lines in the original file and naming the file used to record errors. For example, the program should print the following message based on the sample problem:\n",
        "\n",
        "```\n",
        "4 out of 9 rows from rawemployee.csv were written to cleanedemployee.csv, see errorlog.txt for incorrect row(s)\n",
        "\n",
        "```\n",
        "\n",
        "In addition, the contents of the file `cleanedemployee.csv` and `errorlog.txt` ,must be printed for verification\n",
        "\n",
        "```\n",
        "Cleaned Data:\n",
        "12345,John,Henry,456789.50\n",
        "12347,Clark,Kent,78956.75\n",
        "12348,Steve,Rogers,78956.75\n",
        "12350,Bruce,Willis,890123.56\n",
        "```\n",
        "```\n",
        "Error Log:\n",
        "line:2,error type: 'Data type mismatch',data:'1234a6,Anthony,Hopkins,56789.5'\n",
        "line:5,error type: 'Number of Fields mismatch',data:'12349,Tony,5896.78'\n",
        "line:7,error type: 'Number of Fields mismatch',data:'12351,Marray,Jane,Watson,890123.56'\n",
        "line:8,error type: 'Data type mismatch',data:'12352,Bruno,Mars,567u890.23'\n",
        "line:9,error type: 'Data type mismatch',data:'12353,Taylor,Sw12ft,69854.17'\n",
        "```\n",
        "\n",
        "To summarize, this program reads data from `rawemployee.csv`, which contains errors, writes only the correct data to `cleanedemployee.csv`, and records the incorrect lines and their errors in `errorlog.txt`. Finally, it displays a message summarizing how many lines were written to the new file out of the total number of lines in the original file.\n",
        "\n",
        "Recommendation:\n",
        "1. In the except block, students can instruct the program to write the error details to errorlog.txt before continuing to process the next line from rawemployee.csv.\n",
        "1. String functions such as `isdigit()` and `isalpha ()` can be used to validate the data.\n"
      ],
      "metadata": {
        "id": "ovi8dx8YqoYT"
      }
    },
    {
      "cell_type": "code",
      "source": [
        "# Exercise 7.4\n",
        "#Your code here\n",
        "\n"
      ],
      "metadata": {
        "id": "oXVLAk-8rL1E"
      },
      "execution_count": null,
      "outputs": []
    }
  ]
}