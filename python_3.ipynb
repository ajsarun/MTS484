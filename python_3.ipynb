{
  "nbformat": 4,
  "nbformat_minor": 0,
  "metadata": {
    "colab": {
      "provenance": [],
      "toc_visible": true,
      "authorship_tag": "ABX9TyNaS2Jpbe6PTLTfU0zqah5w"
    },
    "kernelspec": {
      "name": "python3",
      "display_name": "Python 3"
    },
    "language_info": {
      "name": "python"
    }
  },
  "cells": [
    {
      "cell_type": "markdown",
      "source": [
        "# Chapter 3\n",
        "# Introduction to Iterable Objects and String Data Type"
      ],
      "metadata": {
        "id": "HDZfHX5vqgTj"
      }
    },
    {
      "cell_type": "markdown",
      "source": [
        "# **What is an Iterable Object**\n",
        "\n",
        "In Python, an iterable object is a collection of elements that you can loop over or iterate through one element at a time.  In simpler terms, it's anything you can use a for loop on.\n",
        "\n",
        "## **Key characteristics of iterables:**\n",
        "\n",
        "- Loopable: The primary defining feature is the ability to be used in a for loop.\n",
        "- Element Access: Iterables provide a way to access their elements sequentially.\n",
        "- Not Necessarily Indexable: While many iterables (like lists or tuples) are indexable (meaning you can access elements by their position), not all iterables have to be.\n",
        "\n",
        "## **Common Examples of Iterables:**\n",
        "\n",
        "- Sequences: Lists, tuples, strings\n",
        "- Collections: Sets, dictionaries (you iterate over the keys by default)\n",
        "- File objects: You can iterate over the lines in a file\n",
        "- Generators: Functions that produce a sequence of values on the fly\n",
        "\n",
        "In this chapter, we will discuss one common data types that is also iterable that is `String`.\n",
        "\n",
        "\n",
        "## **Why Iterables Are Important:**\n",
        "\n",
        "\n",
        "- Efficiency: Iterating over an iterable often avoids loading all elements into memory at once, which can be crucial for large datasets.\n",
        "- Flexibility: You can work with various types of data using a consistent iteration pattern.\n",
        "- Composability: You can create your own iterables to represent custom sequences or streams of data.\n",
        "\n",
        "\n",
        "\n",
        "\n",
        "\n",
        "\n"
      ],
      "metadata": {
        "id": "l-y1r2ZWuewk"
      }
    },
    {
      "cell_type": "markdown",
      "source": [
        "## **Mutability and Immutibility**\n",
        "\n",
        "### Core Concept\n",
        "\n",
        "The key difference lies in whether an object's value can be changed after it's created:\n",
        "\n",
        "- Mutable objects: You can modify their content without creating a new object. Think of it like a whiteboard where you can erase and rewrite.\n",
        "- Immutable objects: Their value is fixed once created. Changing them results in a new object altogether. Imagine a printed book – you can't alter the words on the page.\n",
        "\n",
        "\n",
        "**Python Examples**\n",
        "\n",
        "| Type          | Mutability | Explanation                                                                                                                                           |\n",
        "|---------------|------------|-------------------------------------------------------------------------------------------------------------------------------------------------------|\n",
        "| Lists         | Mutable    | You can add, remove, or change elements within the list.                                                                                              |\n",
        "| Dictionaries  | Mutable    | You can add, remove, or update key-value pairs.                                                                                                       |\n",
        "| Sets          | Mutable    | You can add or remove elements from the set.                                                                                                          |\n",
        "| Numbers       | Immutable  | When you change a number's value (e.g., x = 5; x = 6), you are creating a new number object and reassigning the variable.                              |\n",
        "| Strings       | Immutable  | You can't change characters within a string. Operations that modify a string will always create a new string object.                                   |\n",
        "| Tuples        | Immutable  | Once a tuple is created, its elements cannot be changed. You must create a new tuple to change its contents.                                           |\n",
        "| Frozensets    | Immutable  | A frozenset is an immutable version of a set. Once created, elements cannot be added or removed.                                                      |\n",
        "| Booleans      | Immutable  | Boolean values (True and False) are immutable. When you change a boolean value, you are creating a new boolean object and reassigning the variable.    |\n",
        "\n",
        "##Why does this matter?\n",
        "\n",
        "- Memory efficiency: Immutable objects can sometimes be more memory-efficient since multiple variables can reference the same object if they have the same value.\n",
        "- Thread safety: Immutable objects are inherently thread-safe because their values can't change unexpectedly, making them easier to use in concurrent programs.\n",
        "- Predictability: Immutable objects lead to more predictable code since you don't have to worry about their values being modified elsewhere in your program.\n"
      ],
      "metadata": {
        "id": "VQQR4OxB1Idj"
      }
    },
    {
      "cell_type": "markdown",
      "source": [
        "## Immutable in Numbers\n",
        "\n",
        "Consider the following Python Code\n",
        "\n",
        "```\n",
        "a = 5\n",
        "b = 6\n",
        "a = 7\n",
        "```\n",
        "\n",
        "The following pictures shows what happened in memory step by step when the above code is executed.\n",
        "\n",
        "![number_immutable1.png](data:image/png;base64,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)\n",
        "\n",
        "1. Step 1: When the statement `a = 5` is executed, an integer object storing `5` is created and `a` points to that object.\n",
        "\n",
        "![number_immutable2.png](data:image/png;base64,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)\n",
        "\n",
        "2. Step 2: When the statement `b = 5` is executed, since there exist the integer object string `5` then `b` can point to that object.\n",
        "\n",
        "![number_immutable3.png](data:image/png;base64,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)\n",
        "\n",
        "\n",
        "3. Step 3: When the statement `a = 7` is executed since a number is immutable, so `7` will not store to the existing object instead a new integer  storing `5` is created and `a` points to that object.\n",
        "\n",
        "\n",
        "**If Python's number is not immutable, the third statement will also change the value of `b` to `7`, which is not what we want.**"
      ],
      "metadata": {
        "id": "SUqPFH_-1kKW"
      }
    },
    {
      "cell_type": "markdown",
      "source": [
        "# **String**\n",
        "\n",
        "## **What is a String?**\n",
        "\n",
        "A string is a sequence of characters enclosed within single quotes (' ') or double quotes (\" \"). Strings are used to represent text data in Python.\n",
        "\n",
        "\n",
        "## **Creating Strings**\n",
        "\n",
        "You can create strings in Python by enclosing characters in either single or double quotes:"
      ],
      "metadata": {
        "id": "cDWKBzwjxX3I"
      }
    },
    {
      "cell_type": "code",
      "execution_count": null,
      "metadata": {
        "colab": {
          "base_uri": "https://localhost:8080/"
        },
        "id": "PEhYbTLYqXa-",
        "outputId": "809e44be-0f54-47f1-cc39-052e6c830788"
      },
      "outputs": [
        {
          "output_type": "stream",
          "name": "stdout",
          "text": [
            "Hello, World!\n",
            "Hello, Python!\n"
          ]
        }
      ],
      "source": [
        "# Single quotes\n",
        "string1 = 'Hello, World!'\n",
        "\n",
        "# Double quotes\n",
        "string2 = \"Hello, Python!\"\n",
        "\n",
        "print(string1)\n",
        "print(string2)\n"
      ]
    },
    {
      "cell_type": "markdown",
      "source": [
        "One benefit of using both double quotes and single quotes is that you can easily specify a string that contains either a single quote or a double quote."
      ],
      "metadata": {
        "id": "gVOiLIz2yxl7"
      }
    },
    {
      "cell_type": "code",
      "source": [
        "string1 = \"Hello 'World!'\"  #we need the word World! to be in single quote\n",
        "\n",
        "string2 = 'Hello, \"Python!\"' #we need the word Python! to be in double quotes\n",
        "\n",
        "print(string1)\n",
        "print(string2)\n"
      ],
      "metadata": {
        "colab": {
          "base_uri": "https://localhost:8080/"
        },
        "id": "nvqdOhhwyssk",
        "outputId": "f073bc4b-05d8-4380-a2d8-721fdff9abef"
      },
      "execution_count": null,
      "outputs": [
        {
          "output_type": "stream",
          "name": "stdout",
          "text": [
            "Hello 'World!'\n",
            "Hello, \"Python!\"\n"
          ]
        }
      ]
    },
    {
      "cell_type": "markdown",
      "source": [
        "You can use triple quotations if you need both single quotes and double quotes in a string."
      ],
      "metadata": {
        "id": "twjlEbgcYiHd"
      }
    },
    {
      "cell_type": "code",
      "source": [
        "string1 ='''Do you know \"Who\" I'm'''\n",
        "print(string1)\n",
        "string2 = \"\"\"Do you know \"Who\" I'm\"\"\"\n",
        "print(string2)\n"
      ],
      "metadata": {
        "colab": {
          "base_uri": "https://localhost:8080/"
        },
        "id": "8aHiDOS-Y95R",
        "outputId": "520f5132-7d13-41bd-f623-9145e8c9cce1"
      },
      "execution_count": null,
      "outputs": [
        {
          "output_type": "stream",
          "name": "stdout",
          "text": [
            "Do you know \"Who\" I'm\n",
            "Do you know \"Who\" I'm\n"
          ]
        }
      ]
    },
    {
      "cell_type": "markdown",
      "source": [
        "You can use escape sequence (`\\`)"
      ],
      "metadata": {
        "id": "3alrklOrZerN"
      }
    },
    {
      "cell_type": "code",
      "source": [
        "string1 ='Do you know \\\"Who\\\" I\\'m'\n",
        "print(string1)\n",
        "string2 = \"Do you know \\\"Who\\\" I\\'m\"\n",
        "print(string2)"
      ],
      "metadata": {
        "colab": {
          "base_uri": "https://localhost:8080/"
        },
        "id": "Kkk0HTlJZmF0",
        "outputId": "dc5e7640-23de-4d45-fa61-e5742ca4652c"
      },
      "execution_count": null,
      "outputs": [
        {
          "output_type": "stream",
          "name": "stdout",
          "text": [
            "Do you know \"Who\" I'm\n",
            "Do you know \"Who\" I'm\n"
          ]
        }
      ]
    },
    {
      "cell_type": "markdown",
      "source": [
        "## **Multiline Strings**\n",
        "\n",
        "For strings that span multiple lines, you can use triple quotes (`''' '''` or `\"\"\" \"\"\"`):"
      ],
      "metadata": {
        "id": "4RMV9vNRz86t"
      }
    },
    {
      "cell_type": "code",
      "source": [
        "multiline_string = '''This is a\n",
        "multiline string.'''\n",
        "print(multiline_string)"
      ],
      "metadata": {
        "colab": {
          "base_uri": "https://localhost:8080/"
        },
        "id": "uf6N0OFy0Lwe",
        "outputId": "653bc2b0-027c-40c8-d551-3c74022a39be"
      },
      "execution_count": null,
      "outputs": [
        {
          "output_type": "stream",
          "name": "stdout",
          "text": [
            "This is a\n",
            "multiline string.\n"
          ]
        }
      ]
    },
    {
      "cell_type": "markdown",
      "source": [
        "\n",
        "## **Accessing Characters in a String**\n",
        "\n",
        "Strings are indexed, meaning each character in the string has a position number (index). Indexing starts at 0.\n",
        "\n"
      ],
      "metadata": {
        "id": "0og07qDg2TDG"
      }
    },
    {
      "cell_type": "code",
      "source": [
        "example = \"Python\"\n",
        "\n",
        "# Accessing characters\n",
        "print(example[0])  # Output: 'P'\n",
        "print(example[1])  # Output: 'y'\n",
        "\n",
        "# Negative indexing\n",
        "print(example[-1])  # Output: 'n'\n",
        "print(example[-2])  # Output: 'o'\n"
      ],
      "metadata": {
        "colab": {
          "base_uri": "https://localhost:8080/"
        },
        "id": "paKLCBu52fRj",
        "outputId": "e3e4962c-a1c3-4d3c-f77b-b68fce2e0b76"
      },
      "execution_count": null,
      "outputs": [
        {
          "output_type": "stream",
          "name": "stdout",
          "text": [
            "P\n",
            "y\n",
            "n\n",
            "o\n"
          ]
        }
      ]
    },
    {
      "cell_type": "markdown",
      "source": [
        "*Note:*\n",
        "\n",
        "Python uses a negative index to access each string character from the end of a string, where the last character index is -1 and so on, as shown in the above example.\n"
      ],
      "metadata": {
        "id": "15CcPbXe2jxP"
      }
    },
    {
      "cell_type": "markdown",
      "source": [
        "## **Slicing Strings**\n",
        "\n",
        "You can get a substring by slicing the original string. The syntax is `[start:end]` where `start` is the index to begin from (**inclusive**) and `end` is the index to stop at (**exclusive**)."
      ],
      "metadata": {
        "id": "r3StLkSY3Ccm"
      }
    },
    {
      "cell_type": "code",
      "source": [
        "example = \"Data Science\"\n",
        "\n",
        "# Slicing\n",
        "print(example[0:4])  # Output: 'Data', from index 0 to 3\n",
        "print(example[5:12]) # Output: 'Science', from index 5 to 11\n",
        "\n",
        "# Omitting start or end\n",
        "print(example[:4])   # Output: 'Data'. from the first index to the third index\n",
        "print(example[5:])   # Output: 'Science', from index 5 to the end of the string\n"
      ],
      "metadata": {
        "colab": {
          "base_uri": "https://localhost:8080/"
        },
        "id": "gfu4iSz13az4",
        "outputId": "9afae37f-2129-41bc-e50e-a5af0420415c"
      },
      "execution_count": null,
      "outputs": [
        {
          "output_type": "stream",
          "name": "stdout",
          "text": [
            "Data\n",
            "Science\n",
            "Data\n",
            "Science\n"
          ]
        }
      ]
    },
    {
      "cell_type": "markdown",
      "source": [
        "## **String Methods**\n",
        "Python provides many built-in methods to manipulate strings. Here are a few commonly used ones:\n",
        "\n",
        "- `upper()`: Converts all characters to uppercase.\n",
        "- `lower()`: Converts all characters to lowercase.\n",
        "- `strip()`: Removes any leading and trailing whitespace.\n",
        "- `replace(old, new)`: Replaces occurrences of old substring with new.\n",
        "- `split(separator)`: Splits the string into a list of substrings based on the separator."
      ],
      "metadata": {
        "id": "v_430xy636fv"
      }
    },
    {
      "cell_type": "code",
      "source": [
        "text = \"  Hello, Python!  \"\n",
        "\n",
        "print(text.upper())       # Output: '  HELLO, PYTHON!  '\n",
        "print(text.lower())       # Output: '  hello, python!  '\n",
        "print(text.strip())       # Output: 'Hello, Python!'\n",
        "print(text.replace(\"Python\", \"World\"))  # Output: '  Hello, World!  '\n",
        "print(text.split(\",\"))    # Output: ['  Hello', ' Python!  ']\n",
        "\n",
        "text = \"  Hello, Python! Python! Python!\"\n",
        "print(text.replace(\"Python\", \"World\")) #Output: Hello, World! World! World!\n",
        "print(text.replace(\"Python\", \"World\", 1)) #Output: Hello, World! Python! Python!. Only the first ocurrence will be replaced\n",
        "print(text.replace(\"Python\", \"World\", 2)) #Output: Hello, World! World! Python!. The first two ocurrences will be replaced\n",
        "\n"
      ],
      "metadata": {
        "colab": {
          "base_uri": "https://localhost:8080/"
        },
        "id": "7rpXqSSp4TGg",
        "outputId": "afc81884-ac10-4e57-fee8-47378dbf27a4"
      },
      "execution_count": null,
      "outputs": [
        {
          "output_type": "stream",
          "name": "stdout",
          "text": [
            "  HELLO, PYTHON!  \n",
            "  hello, python!  \n",
            "Hello, Python!\n",
            "  Hello, World!  \n",
            "['  Hello', ' Python!  ']\n",
            "  Hello, World! World! World!\n",
            "  Hello, World! Python! Python!\n",
            "  Hello, World! World! Python!\n"
          ]
        }
      ]
    },
    {
      "cell_type": "markdown",
      "source": [
        "*Note:*\n",
        "1. The functions do not change the value of the original string (in this example `text`).\n",
        "1. String functions like `replace()` and `split()` have default parameters  "
      ],
      "metadata": {
        "id": "4_O5D0Hk8uFv"
      }
    },
    {
      "cell_type": "markdown",
      "source": [
        "The complete function prototype of the `replace()` function is as follows.\n",
        "\n",
        "`str.replace(old, new, count=-1)`\n",
        "\n",
        "- `old` (required): The substring you want to replace.\n",
        "- `new` (required): The new substring that will replace the old one.\n",
        "- `count` (optional): The maximum number of occurrences to replace. If not specified (or set to -1), all occurrences are replaced.\n",
        "\n",
        "Return Value:\n",
        "\n",
        "` A new string with the specified replacements made.\n",
        "\n",
        "The complete function prototype of the `split` function is as follows.\n",
        "\n",
        "`str.split(sep=None, maxsplit=-1)`\n",
        "\n",
        "Parameters:\n",
        "\n",
        "- `sep` (optional): The delimiter string to split on. If not provided (or set to None), consecutive whitespace characters are treated as separators, and empty strings are removed from the result.\n",
        "- `maxsplit` (optional): The maximum number of splits to perform. If not specified (or set to -1), all possible splits are made.\n",
        "\n",
        "Return Value:\n",
        "\n",
        "- A list of the resulting substrings.\n"
      ],
      "metadata": {
        "id": "6NN61Bvy9nHZ"
      }
    },
    {
      "cell_type": "code",
      "source": [
        "\n",
        "text = \"This is a test string\"\n",
        "words = text.split()\n",
        "print(words)  # Output: [\"This\", \"is\", \"a\", \"test\", \"string\"]\n",
        "\n",
        "numbers = \"10,20,30,40\"\n",
        "num_list = numbers.split(\",\")\n",
        "print(num_list)  # Output: [\"10\", \"20\", \"30\", \"40\"]\n",
        "\n",
        "text = \"This is the first apple. There is another apple here.\"\n",
        "parts = text.split(\"apple\", 1)  # Split at most once\n",
        "print(parts)  # Output: ['This is the first ', '. There is another apple here.']\n",
        "\n"
      ],
      "metadata": {
        "colab": {
          "base_uri": "https://localhost:8080/"
        },
        "id": "lP7TsGekAMnZ",
        "outputId": "719ac050-8df0-4890-f918-6995392709af"
      },
      "execution_count": null,
      "outputs": [
        {
          "output_type": "stream",
          "name": "stdout",
          "text": [
            "['This', 'is', 'a', 'test', 'string']\n",
            "['10', '20', '30', '40']\n",
            "['This is the first ', '. There is another apple here.']\n"
          ]
        }
      ]
    },
    {
      "cell_type": "markdown",
      "source": [
        "## Method Chaining\n",
        "\n",
        "We can create a chain of the string methods to make the program shorter and easier to read and write as follows:"
      ],
      "metadata": {
        "id": "er3acRMmy7A7"
      }
    },
    {
      "cell_type": "code",
      "source": [
        "#method chaining\n",
        "text = \"  Hello, Python!  \"\n",
        "print(text.upper().strip()) # Output: 'HELLO, PYTHON!'\n"
      ],
      "metadata": {
        "colab": {
          "base_uri": "https://localhost:8080/"
        },
        "id": "THQ24fI9yYSW",
        "outputId": "b3619932-d5b1-4f53-8bc6-568aed8cf5a8"
      },
      "execution_count": null,
      "outputs": [
        {
          "output_type": "stream",
          "name": "stdout",
          "text": [
            "HELLO, PYTHON!\n"
          ]
        }
      ]
    },
    {
      "cell_type": "code",
      "source": [
        "#without method chaining\n",
        "text = \"  Hello, Python!  \"\n",
        "upper_text = text.upper()\n",
        "stripped_text = upper_text.strip()\n",
        "print(stripped_text) # Output: 'HELLO, PYTHON!'"
      ],
      "metadata": {
        "colab": {
          "base_uri": "https://localhost:8080/"
        },
        "id": "3UTi0YYHzdNu",
        "outputId": "9f1d9fbf-f0f5-42bf-9981-40aa21d48704"
      },
      "execution_count": null,
      "outputs": [
        {
          "output_type": "stream",
          "name": "stdout",
          "text": [
            "HELLO, PYTHON!\n"
          ]
        }
      ]
    },
    {
      "cell_type": "markdown",
      "source": [
        "There are many more specialized string methods exist in Python. You can find a complete reference in the [W3Schools:](https://www.w3schools.com/python/python_ref_string.asp)"
      ],
      "metadata": {
        "id": "58jUYFjyA0iM"
      }
    },
    {
      "cell_type": "markdown",
      "source": [
        "## **String Concatenation**\n",
        "\n",
        "You can concatenate (combine) strings using the `+` operator."
      ],
      "metadata": {
        "id": "qw161x9bB5-d"
      }
    },
    {
      "cell_type": "code",
      "source": [
        "str1 = \"Data\"\n",
        "str2 = \"Science\"\n",
        "\n",
        "combined = str1 + \" \" + str2\n",
        "print(combined)  # Output: 'Data Science'\n"
      ],
      "metadata": {
        "colab": {
          "base_uri": "https://localhost:8080/"
        },
        "id": "DF_J60jLC2HV",
        "outputId": "a265372c-5d8b-4603-dece-9355c8cd570f"
      },
      "execution_count": null,
      "outputs": [
        {
          "output_type": "stream",
          "name": "stdout",
          "text": [
            "Data Science\n"
          ]
        }
      ]
    },
    {
      "cell_type": "markdown",
      "source": [
        "*Note:*\n",
        "\n",
        "Python does not allow `+` to concat a string to other data types. For example\n",
        "the following statement works perfectly fine in Java as the return type of string `+` something is a string.\n",
        "\n",
        "```\n",
        "String str1 = \"Thank you\";\n",
        "int times = 3;\n",
        "String result = str1 + \" \" + times + \" times\";\n",
        "```\n",
        "\n",
        "However, this will cause an error in Python."
      ],
      "metadata": {
        "id": "y1F0kEncDV7z"
      }
    },
    {
      "cell_type": "code",
      "source": [
        "str1 = \"Thank you\";\n",
        "times = 3;\n",
        "result = str1 + \" \" + times + \" times\"\n",
        "print(result)"
      ],
      "metadata": {
        "colab": {
          "base_uri": "https://localhost:8080/",
          "height": 176
        },
        "id": "BwhODIJWFMCN",
        "outputId": "4468e4f3-f383-4be0-ffc2-a981f4a9747a"
      },
      "execution_count": null,
      "outputs": [
        {
          "output_type": "error",
          "ename": "TypeError",
          "evalue": "can only concatenate str (not \"int\") to str",
          "traceback": [
            "\u001b[0;31m---------------------------------------------------------------------------\u001b[0m",
            "\u001b[0;31mTypeError\u001b[0m                                 Traceback (most recent call last)",
            "\u001b[0;32m<ipython-input-20-652aa7a01a6e>\u001b[0m in \u001b[0;36m<cell line: 3>\u001b[0;34m()\u001b[0m\n\u001b[1;32m      1\u001b[0m \u001b[0mstr1\u001b[0m \u001b[0;34m=\u001b[0m \u001b[0;34m\"Thank you\"\u001b[0m\u001b[0;34m;\u001b[0m\u001b[0;34m\u001b[0m\u001b[0;34m\u001b[0m\u001b[0m\n\u001b[1;32m      2\u001b[0m \u001b[0mtimes\u001b[0m \u001b[0;34m=\u001b[0m \u001b[0;36m3\u001b[0m\u001b[0;34m;\u001b[0m\u001b[0;34m\u001b[0m\u001b[0;34m\u001b[0m\u001b[0m\n\u001b[0;32m----> 3\u001b[0;31m \u001b[0mresult\u001b[0m \u001b[0;34m=\u001b[0m \u001b[0mstr1\u001b[0m \u001b[0;34m+\u001b[0m \u001b[0;34m\" \"\u001b[0m \u001b[0;34m+\u001b[0m \u001b[0mtimes\u001b[0m \u001b[0;34m+\u001b[0m \u001b[0;34m\" times\"\u001b[0m\u001b[0;34m\u001b[0m\u001b[0;34m\u001b[0m\u001b[0m\n\u001b[0m",
            "\u001b[0;31mTypeError\u001b[0m: can only concatenate str (not \"int\") to str"
          ]
        }
      ]
    },
    {
      "cell_type": "code",
      "source": [
        "#To make the above code correct you need to explicitly convert\n",
        "#integer `times` to string using the `str()` function\n",
        "\n",
        "str1 = \"Thank you\";\n",
        "times = 3;\n",
        "result = str1 + \" \" + str(times) + \" times\"\n",
        "print(result)\n"
      ],
      "metadata": {
        "colab": {
          "base_uri": "https://localhost:8080/"
        },
        "id": "j1Yu6ixZ4uoA",
        "outputId": "8fa33561-55ec-4675-f006-bbc7797f12cf"
      },
      "execution_count": null,
      "outputs": [
        {
          "output_type": "stream",
          "name": "stdout",
          "text": [
            "Thank you 3 times\n"
          ]
        }
      ]
    },
    {
      "cell_type": "markdown",
      "source": [
        "##String Repetition\n",
        "\n",
        "The `*` operator, when applied to a string, is a string repetition operator."
      ],
      "metadata": {
        "id": "6wPpvr2vGOk-"
      }
    },
    {
      "cell_type": "code",
      "source": [
        "stars = \"*\" * 10\n",
        "print(stars)  # Output: \"**********\"\n"
      ],
      "metadata": {
        "colab": {
          "base_uri": "https://localhost:8080/"
        },
        "id": "aZcu5uokHAXD",
        "outputId": "d53c230b-b27c-451f-cb45-8ca433a27acd"
      },
      "execution_count": null,
      "outputs": [
        {
          "output_type": "stream",
          "name": "stdout",
          "text": [
            "**********\n"
          ]
        }
      ]
    },
    {
      "cell_type": "markdown",
      "source": [
        "## Membership test\n",
        "\n",
        "The `in` and `not in` operators check if a substring exists (or does not exist) within a string."
      ],
      "metadata": {
        "id": "VSe3rCuaHcyV"
      }
    },
    {
      "cell_type": "code",
      "source": [
        "text = \"Python is fun.\"\n",
        "if \"fun\" in text:\n",
        "    print(\"Found 'fun' in the string!\")\n"
      ],
      "metadata": {
        "colab": {
          "base_uri": "https://localhost:8080/"
        },
        "id": "lx4NB_KYHwso",
        "outputId": "ab847051-d9ce-4b46-eb11-0c4655edcad8"
      },
      "execution_count": null,
      "outputs": [
        {
          "output_type": "stream",
          "name": "stdout",
          "text": [
            "Found 'fun' in the string!\n"
          ]
        }
      ]
    },
    {
      "cell_type": "markdown",
      "source": [
        "## Insert value in to a string.\n",
        "\n",
        "-% The older stype:\n"
      ],
      "metadata": {
        "id": "lIda5gN3IGQ_"
      }
    },
    {
      "cell_type": "code",
      "source": [
        "name = \"Alice\"\n",
        "age = 30\n",
        "message = \"My name is %s and I am %d years old.\" % (name, age)\n",
        "print(message)\n"
      ],
      "metadata": {
        "colab": {
          "base_uri": "https://localhost:8080/"
        },
        "id": "okLWNsIjIUZ7",
        "outputId": "e442fc30-0747-413e-91ba-9bb494e7d4ab"
      },
      "execution_count": null,
      "outputs": [
        {
          "output_type": "stream",
          "name": "stdout",
          "text": [
            "My name is Alice and I am 30 years old.\n"
          ]
        }
      ]
    },
    {
      "cell_type": "markdown",
      "source": [
        "- .format()\n",
        "\n"
      ],
      "metadata": {
        "id": "bWOq9xI4IgQ2"
      }
    },
    {
      "cell_type": "code",
      "source": [
        "name = \"Alice\"\n",
        "age = 30\n",
        "message = \"My name is {} and I am {} years old.\".format(name, age)\n",
        "print(message)"
      ],
      "metadata": {
        "colab": {
          "base_uri": "https://localhost:8080/"
        },
        "id": "haUNVcvlIrDh",
        "outputId": "a8fee355-1009-4dc9-80c1-50c70dc40bea"
      },
      "execution_count": null,
      "outputs": [
        {
          "output_type": "stream",
          "name": "stdout",
          "text": [
            "My name is Alice and I am 30 years old.\n"
          ]
        }
      ]
    },
    {
      "cell_type": "markdown",
      "source": [
        "- f-string(most modern, from Python 3.6+)"
      ],
      "metadata": {
        "id": "Ad6fyKAvI_uC"
      }
    },
    {
      "cell_type": "code",
      "source": [
        "name = \"Alice\"\n",
        "age = 30\n",
        "message = f\"My name is {name} and I am {age} years old.\"\n",
        "print(message)"
      ],
      "metadata": {
        "colab": {
          "base_uri": "https://localhost:8080/"
        },
        "id": "3ZYVE_m4JJ_s",
        "outputId": "6a717319-7bc2-4cf1-9a58-222713a6933e"
      },
      "execution_count": null,
      "outputs": [
        {
          "output_type": "stream",
          "name": "stdout",
          "text": [
            "My name is Alice and I am 30 years old.\n"
          ]
        }
      ]
    },
    {
      "cell_type": "markdown",
      "source": [
        "## String length\n",
        "\n",
        "We can use the built-in function `len()` to find the length of a string."
      ],
      "metadata": {
        "id": "XZ4GHLSOUujy"
      }
    },
    {
      "cell_type": "code",
      "source": [
        "str = \"I love Python\"\n",
        "length = len(str)\n",
        "print(length)"
      ],
      "metadata": {
        "colab": {
          "base_uri": "https://localhost:8080/"
        },
        "id": "aGJKxfYvVrar",
        "outputId": "79f75299-0be4-4004-d0b9-1855d95b1c46"
      },
      "execution_count": null,
      "outputs": [
        {
          "output_type": "stream",
          "name": "stdout",
          "text": [
            "13\n"
          ]
        }
      ]
    },
    {
      "cell_type": "markdown",
      "source": [
        "## Exercise 3.1\n",
        "\n",
        "Convert the program below by using the `replace()` function."
      ],
      "metadata": {
        "id": "rnaP2ZHXKJSC"
      }
    },
    {
      "cell_type": "code",
      "source": [
        "text = \"This is the first apple. There is another apple here.\"\n",
        "parts = text.split(\"apple\", 1)\n",
        "new_text = parts[0] + \"banana\" + parts[1]\n",
        "\n",
        "print(new_text)\n"
      ],
      "metadata": {
        "colab": {
          "base_uri": "https://localhost:8080/"
        },
        "id": "no769HK8FzDA",
        "outputId": "86059788-b3b6-4323-9d29-4aeb42efd7bf"
      },
      "execution_count": null,
      "outputs": [
        {
          "output_type": "stream",
          "name": "stdout",
          "text": [
            "This is the first banana. There is another apple here.\n"
          ]
        }
      ]
    },
    {
      "cell_type": "code",
      "source": [
        "#Exercise 3.1\n",
        "#Your code here\n",
        "\n",
        "\n"
      ],
      "metadata": {
        "id": "bPzBdlztKqKW"
      },
      "execution_count": null,
      "outputs": []
    },
    {
      "cell_type": "markdown",
      "source": [
        "## Excercise 3.2\n",
        "\n",
        "From the following text\n",
        "```\n",
        "I love learning Python with Python tutorials using Google Colab.       \n",
        "```\n",
        "\n",
        "**Instructions:**\n",
        "\n",
        "1. Convert the entire string to uppercase.\n",
        "1. Replace the first occurrences of the word \"PYTHON\" with \"PROGRAMMING\".\n",
        "1. Check that the string has the word \"Google\" or not. Do not forget that the string is now in upper case.  \n",
        "1. Split the string into a list of words.\n",
        "1. Print each word on a new line.\n",
        "\n",
        "Simple output:\n",
        "\n",
        "```\n",
        "Converted to uppercase: I LOVE LEARNING PYTHON WITH PYTHON TUTORIALS USING GOOGLE COLAB.\n",
        "Replaced the 1st 'PYTHON' with 'PROGRAMMING': I LOVE LEARNING PROGRAMMING WITH PYTHON TUTORIALS USING GOOGLE COLAB.\n",
        "The string contains 'Google'.\n",
        "Split into words:\n",
        "I\n",
        "LOVE\n",
        "LEARNING\n",
        "PROGRAMMING\n",
        "WITH\n",
        "PYTHON\n",
        "TUTORIALS\n",
        "USING\n",
        "GOOGLE\n",
        "COLAB.\n",
        "```\n",
        "\n",
        "\n",
        "\n"
      ],
      "metadata": {
        "id": "NJPGeUhiMTSZ"
      }
    },
    {
      "cell_type": "code",
      "source": [
        "#Exercise 3.2\n",
        "#Your code here\n",
        "\n"
      ],
      "metadata": {
        "id": "VSv4w8PGNRug"
      },
      "execution_count": null,
      "outputs": []
    },
    {
      "cell_type": "markdown",
      "source": [
        "## Exercise 3.3\n",
        "\n",
        "Instructions:\n",
        "\n",
        "1. Ask the user to input their name, age, and favorite programming language.\n",
        "1. Format this information into a single string using f-strings.\n",
        "1. Ensure the string is in title case (first letter of each word capitalized).\n",
        "1. Print the final formatted string.\n",
        "\n",
        "Sample Output:\n",
        "\n",
        "```\n",
        "Enter your name: alice\n",
        "Enter your age: 21\n",
        "Enter your favorite programming language: python\n",
        "Formatted Information: My Name Is Alice, I Am 21 Years Old, And My Favorite Programming Language Is Python.\n",
        "\n",
        "```\n",
        "\n",
        "*Hint:*\n",
        "\n",
        "You should access [W3Schools:](https://www.w3schools.com/python/python_ref_string.asp) and learn what the `title()` function does and how to use it."
      ],
      "metadata": {
        "id": "4gt7ZDWrSgDo"
      }
    },
    {
      "cell_type": "code",
      "source": [
        "#Exercise 3.3\n",
        "#Your code here\n",
        "\n",
        "\n",
        "\n"
      ],
      "metadata": {
        "id": "OpIfnlwtUHzv"
      },
      "execution_count": null,
      "outputs": []
    },
    {
      "cell_type": "markdown",
      "source": [
        "##Immutable in String\n",
        "\n",
        "Consider the following code\n",
        "```\n",
        "text = \"Hello, Python!\"\n",
        "s = text\n",
        "text = text.upper()     \n",
        "```\n",
        "\n",
        "The following pictures shows what happened in memory step by step when the above code is executed.\n",
        "\n",
        "![string_immutable1.png](data:image/png;base64,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)\n",
        "\n",
        "1. Step 1: For the statement `text = \"Hello, Python!\"` a new string object storing `\"Hello, Python!\"` is created, and `text` points to it.\n",
        "\n",
        "![string_immutable2.png](data:image/png;base64,iVBORw0KGgoAAAANSUhEUgAABDEAAAEgCAYAAACtuOgUAAAAAXNSR0IArs4c6QAAAARnQU1BAACxjwv8YQUAAAAJcEhZcwAAEnQAABJ0Ad5mH3gAADJvSURBVHhe7d1P7OTWYdjxbfoHzaUoEhTowYcce7cP7cFIDrn4YgNCN3GbQ9M03RgB4jQIBAgx7E222xht4zpRoC4WtaNEwCqIVNS2LFkqnI1QuF5Zrf+tIkhJANdFZWi9kgzDRuDEgAF2Hvk4w0c+znCGw/lxZj4f40H7m+FwSM54f7/3XXJ+lwoAAACAIyBiAAAAAEdBxAAAAACOgogBAAAAHAURAwAAADgKIgYAAABwFEQMAAAA4CiIGAAAAMBREDEAAACAoyBiAAAAAEdBxAAAAACOgogBAAAAHAURAwAAADgKIgYAAABwFEQMAAAA4CiIGAAAAMBREDEAAACAoyBiAAAAAEdBxAAAAACOgogBAAAAHAURAwAAADgKIgYAAABwFEQMAAAA4CiIGAAAAMBREDEAAACAoyBiAAAAAEdBxAAAAACOgogBAAAAHAURAwAAADgKIgYAAABwFEQMAAAA4CiIGAAAAMBREDEAAACAoyBiAAAAAEdBxAAAAACOgogBAAAAHAURAwAAADgKIgYAAABwFEQMAAAA4CiIGAAAAMBREDEAAACAoyBiAGflzrVLxaXLt4p78WsAur72ta/FPwHAvIgYwLy8dqt44NKl4lJrXH8h3j/SPCLGveLW5bH72F7H9eJOvAdgLBEDTtT9Txbvf/vbi/d/6q14AxwfEQOYlxgxkgn9C9fLifoDjw9PD32xYhYRI+xjexviPg4KGfEYbXM8ALYhYuzTW8Unf+ntxdsXE8f8+GhxNy4Ju7r7O5n31u9k3llbRoy3PvX+cl0f/Uq8YY+qdb+/+OT9eAMMJGIA85KLGAvbxodZR4ysO8X1QWGiOgNDwACmJGLsU4wYv/TJxZ9gz2KU6Mawu8VHy9tbkUDE4ASIGMC89ESMe48/EC+Z6JvsV7dfunYnLrv4c3Msbi+XihHjTrLMA8Wt18q7G+L6lqN1ucZyO1vLxefZ1mr/NijP2MhtL8D+iBj7JGIwlfosn76zeTL3z+hyEhGDXYkYwLyIGOuJGMABiBj7JGIwFRGD8yRiAPMy4HKS7CUhrcl932Uj5e2L9TcjSDcgrIJIrVqmEQ/iduYeN/xSj1UAGfqYcjsuXy+utz8YdMd4ApAjYuzTsIjRnNA1P98gnMZfn9Kfju7kr3xceJ7lJQZx1M/9lY82Ht+4PVFPfFcjN+HtfgZD30SaycTXc+2lHu1lGhGj/b5K1pO8VzKhof1e6nn9c+/d/vd0dzub980hvDAPIgYwL5mIUZ9Zsbyts0z8TR2NifzaiNG+vVzfKlDkz4poPce62LJDUOhEkh5VhGktVwcVIQPYExFjn7aJGK2JXBTua0/gquXTyeUyLDSfqzkZzNyerLdeNvlAyPjZCo3bqudpTlqH7SP7Vb0OG85kaL+mjfdD8tr3BJH+91l6W3e5zFkgQXj+uC25dZdy780hwYazIWIA81JPyJPRndwnsaAVIYIxEWPQY/ccMXIhJqdv2/LhBWA3IsY+dc9sWI3VBK53QterigvNiV45ucyEhKG39y2Xbls3atTufkrEOKQqJmw6Aya+XvXrmgsEpXyI6rwv4+O7MSF9Xwx5P/ct0/vYxXN/UsRgQcQA5qUnDnQ0Lh+pLrFIJ/aDQkRtFhGj/3mbcvsaiBjAPokY+7TNmRhrJn1x8tgOIfuLGN0ospRMXFdRJrssB7PfiJFfX/t9WX2df87m+6nvPdfU+55fXqqyad84VyIGMC9DI8ZiGl/9qtFb5edKZGPCphBRa0WMfBCY9nKSzvr79Hywp4gB7JOIsU/jI0Y1uWxPPLvRoW/iOOj2nkjSHKt/fc+dXbImwDCJ6n2x4bjXr2vrcpJcxMgFivb7sn4v9o7y/bSHcNf5zI3FyJz9w3kSMYB5GRwx6on7YuKfmbz3TeqHRIzFUoM/2HOXiFGuq7VM+bh2nCiDRftDP2PsaO7DFscMYAgRY59GTuh6J517jhiZ9Q22DCD+5fyghnxORHuZNRGjChS7n4nR1Peea1obMVqqbdvx/cnJETGAedlqQr7ut4HEyf7i/nLEaDAsYgSr3xySDSUjIkb92NW6M+sPshGjUkWP1RAwgH0SMfZpZMTonajuO2IM287wvJ/MTCS3mZCyL/UZMX1RIfOa9kaMuGzrbIfO6zoknCz0vx8Wz/Op+BzlurrLvPWpT2b2J14W42wMFkQM4HiVk3yXUADsm4ixT8PiQP+kLzd5i7e1JqPjIsZCfUZFZ9mwD/W25bZn2D4ygd6zYOr3SOs9VS/figHleyEbFLrvy2rZTMgIUWK53vieSLYr3lYv0xNUsv9fGBhPOA8iBnCkBn6GBABbEzH2aWzECFbRohphYljdtteIUaonn63RnPQuJ84993NwdVjY+JrU4eCXwvutuXz+bI7e92WMCunoLtfZrvb7rbWeOlJ096fv/xucIxEDOFIiBsBURIx9EjGYXnfS3/OaiBicABEDOE49v6UDgPFEDCBYH9fgYogYAAAkRAxg6FlEcGgiBgAACREDzld6KUf+MhO4SCIGAAAJEQOAuRIxgNG+9dyTxTs/+LniW/HrY3QK+wCwLyIGAHMlYgCjnV7EuFc8/cHHind+/KXyq928VDzy3seKB5+7F798tnjne58tXq6+GqjajuU6onJbt14XwHAiBgBzJWIAozkTY4A9RgyAqYkYAMyViAGM1g0A8UyG9z5ZPP1G4/5yIh9uX923Uj+mHo0Jf/m45vLdyf1qG1b3vfzxxvo2BIp0H9rrr86qeOSl6r/1Osv73/hc8WDjtkeWJ2/Uj1n8sbVMOeJZHsk2lmO13937WsczLheky6bHdtDxT+4Lw5kecM5EDADmSsQARmtPqssJdePr8v4wMW5cnpEuEwNG4/7qMfVEuhEEgjoKtJ6zig6rGNIOCs3o0ZbuQz5idMNK7raebU7uW3n542lMyB2X9nZvOt7t6LPx+JfHsxs+VscPODciBgBzJWIAozUn1Z0J9UJ70l1qTuozk+g0AqST+bC+B5/73OL++jH9y9bK7VrzGRfpNuYjRjqp33Rb6/6eiNFRHot6uSERI7cd3eO19vgP3TbgbIgYAMyViAGM1pwkixj1ba37RQzgiIgYAMyViAGMVk+Sn84EjGDQJDrzuBAeuhPxMEGv4sXy/gET//lGjOq5qktT6lHHmfy+JNua7PtKuUzc343HP25r/fzpPgHnSMQAYK5EDGC0cpIcJsAffHIxoe5OgjdOogdEjOXyYdJeLxtuCxP15PFHFDHKANHarvK2Q0eMmpgBVEQMAOZKxABGSybJ5eQ4nQBvnEQnE/daOxKEr58sHvn4anJeT+AfacaOuUaMXGxI4kvUOhZJyInSbc1tR7r9wyNGLX8MgfMhYgAwVyIGMFp7klx+3ZiIb55EV5PmZmSo1tGcZMdlkgl7/23zjBit5ctj0Iw39f6kEaN97NrHs7NMa72bjn+4Pz1euX0DzomIAcBciRjAaLlJcnnbYiIcJsebJtGVVZCoRvcsgWqd6e3d22YaMRbqY1KOuC3JbSE8vNQ+K6Vaz/L+xe3ptlbK/WstV8stnxz/GFhWj+8eP+C8iBgAzJWIAQBAQsQAYK5EDGCUX7z6XPIv+MbpjPDaAudJxABgrkQMAAASIgYAcyViAACQEDEAmCsRAwCAhIgBwFyJGAAAJEQMAOZKxAAAICFiADBXIgYAAAkRA4C5EjEAAEjsK2I8/unPFP/vze8ZZzYApiRiAACQEDGMMQNgSiIGAAAJEcMYMwCmJGIAAJAQMYwxA2BKIgYAAAkRwxgzAKYkYgAAkBAxjDEDYEoiBgAACRHDGDMApiRiAACQEDGMMQNgSiIGAAAJEcMYMwCmJGJwNj772c8ahmHMYsDciRjGmAEwJREDAICEiGGMGQBTEjEAAEjML2J8vXj43ZeKS5fq8Z7i4bu55TaNuJ6Hns/ct+V49mpje/a0zjefLx5srnPn/bzYATAlEQMAgMSFRIx2FLh0tfhE73IziBjLsa91TrFtFzOYqz8tPnb5cvGxu/FLOFIiBgAAiUNHjE88FKJFK0zcfbR4V25Cf6oRI+zvkZ550R7MlYjBaRAxAABIHDRibBslTjVijNqveQ0u2N2PFZcvX16NX3uuuL/433O/1rgtjP/yp4uFq9s/8Jk/Xd1f3g7zJWIAAJA4XMTYIQCsnezH9TUuS3nw2e7977r59eJLN9/TWC5z6Ur5PM119VzecpCIsdrudLu6y6f7tRjvfrT4UvO+xdefqJcJ95VngIRlW/u3vL27nk2DC/TGc8UHLn+geO6N+HUZKT5WVFkidyZGHTeaj4F5EzEAAEiIGIshYogYx0jE4AyIGAAAJA4XMarfxlFOzrP3Z0bvZD/+Zo9mTIgT/tX6G5FjuVwmQoQJfBIl4jLZifyYiNH+bSSt0d7G8vZVbCg/S6S5TYv9TY9lekyWgSN8XUaK9xTvendYX+t1yBzjznOtGVygMmL0fe5Ff8T4wGfux69h/kQMAAASB4sY8V/7VxPv1qQ+FwZ6IkY1Qe+eLZFOvnuCQ7nOvjMtqtG3/nERozF69qsa+YjSv02r0dz/avn4HMmxb0aM6rnSGFIv37d96eBi3f/MB1afe7EYq0AhYnAaRAwAABJzOBOjnHxvETHWL19P9HuCQ2aCXq6vjinLccERY+NzxOXa251EjLgPMWJUl9s0X4dWSGqN9PKc/GBGyg/5rC8VETE4DSIGAACJOXwmxkEjRmudVcBIn2MWZ2KsfY46YKTbWO7LDhEjF5aGDi7Q3Y+lQSL5jIxcsBAxOD4iBgAAicNFjP44sG3EWLueDZeTpI8dskxzzCVi5OPD9hFj/P5wkaqzLZqXkyRnXjR//WryK1ZFDI6HiAGcnXuPP7D4Ie5S8cDj9xZf3SmuL/586dIDxa3XqvuncudaeJ7VuP5CvKNl6HLnpnrdri9esYtTvTZr3isvXK9et2thK+8Vty57DTlOh4wYq8sX0kCwbcSoJ+XJY8plm5dAZCbo8XHNyX8aPurJf3cbqzGXiNFdptyPsN1bRYzF1/G47Xo2BsP98qP/vbj6xP8ovv7Gt+MtwCYiBpyy124VDyx+CDn8BKoKA1UkmJ80YtQTzQNOjoe+Lhf2+l2Eze+Z+USMNduQRIwB0QNm6rARoxrLCXdjrOJDHToyI5nYt5frRoH1z1OP1npCBCgn9quIsQob7dEXIjaM0RFjMeqQU4/F8uV2bhsxwoghIxmNsLNuMNzPPvJUcenyvy3HP/7A7wkaMICIAYf26u3iiSeeWIzbxSvxpsmIGHlxolkdl3zEKCefl28t7m1JHrujI48Y7TNFqjF2on4iESO+ZvV+iBgcq4uIGMbpDLYTwsXf/9n/WPyt9/67JGg8+vxXBQ3IEDHgYF4pbod4cfuV4pXbIsaFaoWIXLAQMfr1Hq9Rr/lxRIyN29CKGHPYZtiFiGGMGQz3/Mv/twwVf/g/Xy7+4b/+aPF3//mHlyGj/rOgASkRAw7ifvGFp54obr9afTV1xKgnlH2jOymuJpCrZVqTrjgx23R7NWFrricds40aGVtHjHj7csTLCbL2GTGWr0E9pp8w549N64yWeDxyr3n1/tz+PbMKAun7te991f7/QWe58thVZ0kky+Ze90iU4FyIGMaYcUpCOKhHCA7tEeLCuhHOsugbP371sTJSNMff/OnF98/WbWH80E9Vt//Iz/1W3DI4XyIGHISIEYaIEQ2JE8GQ5ZavQT2mn2Dnj42IAadExDDGjFMiYsD8iBhwAWZ1OUlcpjnBa04ylzqT0nUfiLn50oC5y0/UFzIRo5rYNj/3IE6y+0LGkNcl2LBcHQCa91ev3bSfwdB3bNL3TXx/dJbrOzab3zPN4LHc5/L1aO9vfI7mc8djmTxvfdtirJ53/WsnYnAuRAxjzJizOkY0A0P4cM2f+PXHyvFjv/i7ZSwYOsLy60a93r7xj/7Nfy7+zj/7zey6+wacOxEDLsCcIkZ+QpqfUDYn692Je9PmCekwdSjpGbnIsCfDI0bPvmYn19FeIkbfMV4/Cd+H/LHpRovse6T3uGx+z9QRIz0e3cf1hYbO9uTCxkLva7/Qt244NSKGMWZctDpU1JEixIIQFJohoBkZQsSol63PoKjPtGieiTGlP/z8y8Xf+xf/ofgbjW1sjnAmRvjwz7BNcO5EDLgA84kYfRPHOCHtTITTqNA/4dw8IZ276qyC/rE8pn2T8nXHfh8RoxNTVtZNwvcht/7qeLWOQ9z+5vugf9uGRox2QGg/ru8MkIX28ew5vuuOn4jBuRAxjDHj0EJgaAaLeuJfR4r6vjpKzE34UM9msMiNsB9ARcSACzCbiBHvb0/QlyP3r/n1Y9ZOkk8kYuT2sRUPqklt45i1RvbYb3pdauuWW3OmRxUUpptoV+tvjZ73Q3ocq/dFfr/3HDHWvHeXy/Yc340RY+17H06DiGGMGYdQh4s6WoRgUZ9RMfezFdrb3hw/8i9/q/jb8Vet1r+dZPv9qb431t8z6+/bG3/u2En6D1z5n02GLHPK1vxsMqk1/7CzkLwv4s+3h9/G3YgYcAHmfyZGn/hN8dr1+N++v+i2XW+f9je91phwMtk7kW2fAbEmJvQ6RMS4iGOT09zO8s99cWXze2ZfEWN5PEUM6CViGGPGVHLhInw9x7MrmsL2hRARtrWOFfW2/4N/9ZHin37kvy4vY6nvDyPs5277lk5e639wWX2/q753dn++GPnz25CfiXb5uWkK5XYsjlEydt+u9T8bzTNiVO+LuM/xZyIRA+h1sIix8ZvRdn+pln9Bx0lk9xti00X9Zb0/vd+M4je9TRPhtYY+Zu1yfa/tmte8/oY9chK+VcSI74WwPeXjet8Tm98zwyJG33KZ23eIGHAuRAxjzNi3XLg4trMtmpe25MJEuK0ZMMbtXzp5TSarpep7Z/fni00/N25wdBEj3Y71P9uut/5nh4v6uTh9H7Ql74v4M9HOr/2BiRhwAQ4XMeJfXpkJ3VKc2G76S6v7F/v6dZd/mc/hm9SOer8ZxePV/Aa39b7uJWK0vvlE1bbkX5P6Ndz1G3Rt/TfqrtXzrj9Gm45jtZ72vuV+4KpuS35YyH1z3jpi1O/5431fw1AihjFm7EuY8IfJ/zGEizpahFGHiG22+23v+53yMbuffdHUmrx2JuwiRn474nHbITas/9lo9/WO03oftKQ/R4587Q9MxIADqcJFz7g9Zc6IE7rG6HzTipO55jLJX+xx4t75S3D5uNykuZ7wrcax/MUY9H4ziseifQybgWA5ksd3X4fVaB6/octVOs/b+w00WK37kBFj+T7Z+Jj175nhESMY/r5v3y5igIhhjBtjtePFXOXOtqg/l2Mb9WUkh9vX6ntk92eB3PfU9vfmNd8D9xAxOj/XTDXx79mO1c8A8eeIzPN3lukZq+NYHcPwdbJ/mZ81Nu1/+dzhtvpn83L0H8+tf2Y7EiIGwBkpv5lt+gFj32Is6IYGYK5EDGPM2NUxxIu+z7YYe5bI+LMvtjE0YmSixroIMTJiVD+jZP5hZ4pJeHY7YrCJ4WDdP54M/weQoBGCllEi7lsjUgzZ/2qZ5m1x3T3PvX67jpeIAXBGqm9+IgawnohhjBm7EjEOJT8Rr28XMaotEDHmS8QAOBflN+zDx4T8DwHAnIkYxpixrTnHi/qSkXCZSB0u6g/oPF5xctwz6p8Tyu/fnQlwNWnO/iwxJmL0XOI5aJ27yKy3CgSN2zL/CNP3M82giNEIFkHymIH7n3uedT9nlcu3nvcUiBgAJ2/1w0r3X10mVn7zvYDnBUYRMYwxY6hw9sIc40Xusy7C1+GzK05D/myC+vZ60l5N6ntGbmI8JDj0LVPenpuI923rSPHnk2RkIkQaDfoDTi4urAyIGAP3P/c8IgYA7EH1DXXxjbPxjRc4HiLG6Y/wweK52/cxNgmRoA4Ec4kX7TMu6nAx9jKRedoiYvROzDOOLmJs2NaguVx5tsSaWCBiHIyIAQBAQsQ4/XFRESOEgfqSjMN+DkReHS9OP1w0DYsY6ybHWUPCQN8yM7icJG919kU4HrmzMILREWOiy0lOlYgBAEBCxDj9ceiIEWLBXC4dqcNF2JY6XpzOpSJDDIsY9df9k/OWMRGjnugnk/H4/JkzCZZnfO56lsEWcWT5XGuWr5bpu39AxBi4/9tFjPj4EwwcIgYAAAkR4/THISNGfaZDuFTjIoV40b5c5DxVk9vNESOoJ8LN0Zys5+6PYzn5HrJMpZykN+7vO/OhihBhmWEhomOLiLHc/g3BpH/bh0SMyqb9FzEqIgYAAAkR4/THISJG84M7L/ISjeZZFyFinNdZF6cqd+bCVKoY0I0+XBQRAwCAhIhx+mPKiNH8nImLPNuhGS/Cn8N2cSLimRi9Z2rsTf4sCi6WiAEAQELEOP0xVcT4o8//eRkNLvLsizqghG24yIjCFFaXpkx6ZkT8oM3ysg4BY3ZEDAAAEiLG6Q8Rg+MkYiBiAADQImKc/th3xLjzZ98sfuX3/3h56cZFCJ91EcKFeAGnTcQAACAhYpz+2GfEqM++eNv7Hi7/fGj1r2+9yIACHI6IAQBAQsQ4/bGPiNE8+yL8t779kOpLRy7617cChyNiwEB//YO/jn8CgNMmYuww7j5avOvSpeJdN7+ev39v4/niwXCd/kPPZ+4bPsZGjPbZF837DiF83kZ4/ov87A3gYogYMNBX798tvvHdb8SvAOB0iRg7jBOMGI/+ycvFOx76veKHfup68aM/95Hi529Ur2fu7IvmmFp99oVLR+A8iRgw0Iuv/y8hY++qT5ie/nd8d925tvgB8PKt4vDPDDB/IsYO48QiRggYIRS0xw//zIezZ180x1TCZ1/8xK8/5uwLOHMiBgwUIkY9dg0Zr9x+ovyhYTluvxLvOVciBsAciRhbjhgwyl/H2BxJaIjxoTEefHa1ji/dfE91+7sfLb60fEwYXy8efndY/j3Fw3e768g/ZvPYFDHCGRi5iBFGCBy5x9RjCuE3j4TnDhEDOG8iBmfl1bde3Xk0I0YY4ayMbT4nowwYzWjxzS8UT519yBAxAOZIxNhhrDsT49mrZWxI7sssX4eM5m2feCiEihAw4uMOdCZGuISkHS/q8at/cDv7mHrsW/jQzvC8Lh8BAhGDs9IOEWPHtiGjrToz43YxWcZ47VbxQPhBZzmuF3fiXRfp3uMPNLapO7pR415x63JzmQeKW6/Fu6IySmQem9zeOR6tIWoAlESMHUZvxIhnUmSiQxUorhaf6NwWz9KI8aN5xsahIkb4DIx2vKjHtSc/n31MPfbF5SNAjojBWcmFiDFDxNiNiAEwbyLGDkPEWI59ETGAHBGDs5ILEWNHCBlvfu/N+AzbmTRixAl7MqkPt12bQ8aoDbmcpFrmUmO7qwjSDhl16GiEmheulz/85dbvchKAfiLGDqMvYsTb0xARRxkpmpeKhFF/BkY1ulHkMBEj/CaSXMAIl5m8+Bf3s4+pxz6EgBHihc/AANpEDM5KLkKMHbv/tpL7xReeeqJ44qkvLP40gXIC3z1jYTcxJPSNncPI5ohRBYv2GSQxWHSetxk8uvGjScQA6Cdi7DD6IkY8m6J/tCNGGDFUZD+w8zARI4yfvPZ4J2D89jNfzC7bHGOFsy7C8wkYQI6IwVnJRYgxY9czMIL7Lz5V/gDx1IuTJIzGpRP7ChlT2BQx+mLFmggRz76oRv/lMyIGQD8RY4exy5kY2ZGeidGNFYeLGLuOMerfQuJDPIE+IgZn5Tvf/+7OoxkvwiUk4bZd1QFj+t9M0j6DYh6fibGyKWK0t781eiJE/TkY11+IN2SIGAD9RIxdRhUXxl7+0fycjPq3laQBpP8zNrYZc4wYdcAI/wXoI2LAQM2AMebDPItXb1cBY6rLSPosz1DYJWRsiAmTXU7SfyZGn/rzMq5fy31uxoqIAdBPxNhlxLiQuwSkvqQke1bF6oM9c9GiihrpJSe5DwTddswtYoQzL0LA8AGewCYiBgwUAsarb70av9rRRQWM2l4/J2MfNkeKrWJD8mGmMbz0PDb/WRsABCLGriOedVGPJFq07oujPnOjDhi9Z3IkIaN1yUn2szPWjzlFjJ995CkBAxhMxICBdv8Az+jAASNM0tuXU1SXWcxr4l5t05qwUn+2x8azMTLRYs1vJ1l7H8CZEzFOf8wlYggYwLZEDDiI+JtIQsTIjYk+G6MKBI0xy8sn6l+NuhrdsJC/nGUVaVbryIebfKyozsZorNPlJQAlEeP0R/j5I3f7PsZQAgawCxEDAICEiHH646IjhoAB7ErEAAAgIWKc/rjIiCFgAGOIGAAAJESM0x8iBnCsRAwAABIixumPi4oYfpUqMJaIAQBAQsQ4/XEREePR578qYACjiRgAACREjNMfh44YIVwIGMA+iBgAACREjNMfh4wYdcAIZ2IAjCViAACQEDFOf4SIse3IrSc3muqAET4LA2AfRAwAABIihjFm1L7+xrfLgBF+GwnAvogYAAAkRAxjzAjqgPETv/5Y+TXAvogYAAAkRIzTH9tcHrLtCAEjxAsBA5iCiAEAQELEOP0xZcQQMIApiRgAACREjNMfIgZwrEQMAAASIsbpj6kixj/5wO8XP/aLvxvfAQD7J2IAAJAQMU5/TBExQsB42/seLn+tKsBURAwAABIixumPfUeMy//pv5W/jeSPPv/n8dUHmIaIAQP95aM3458A4LSJGKc/9hkxPvLp/70MGOFrgCmJGDDQ/R9/R/HWT7+7+MG91+MtwDTuFbcuXyoeePxe/HrlzrVLxaVrd+JXwFREjNMf+4oYIVw0A0YYAFMSMWCgEDGOLmS8dqt44NKl4voL8euDuVNcXzxvbhI6F+Vk+PKtxXT5sO49/kBx6dL1xRGiT/na9B2j+J6e83sLToGIcfpjHxGjDhjhTIzm7QBTEjE4K3/17Kd3HnXEqEPGtpeX3H/xqfIHhmTcfiXeOxERo5eIMU/V8XmguPVavCHnheuLZS7ifQ3nQ8Q4/TE2Ytz5s2+WAeNXfv+PO/cBTEnE4Kw0Q8Q+xqjPyfjmF4qnpg4ZIkYvEWOOhr9v1p6tAYwmYpz+GBMx6oARfhtJ7n6AKYkYnJVciBg7xoSMV24/UTzx1BeK+/HrfakmeP2jGzWqyeNqmdbkMMaQTbdXE/TmetJx4VFjub09IxM12vvU3ofl/a3PaUhvbx/f9thtMp4NMZlwVS4XtqO1/+33wdDlKtXnVtTLZM+eKM+YqG5P35P5/d0q8MRtnHMog2MmYpz+GBMxQrzoCxhhAExJxOCs5CLE2CFirG4XMVZEjAURA46WiHH6Q8QAjpWIwVnJRYixI3w+xve/8sX4DNuZKmIsZSa0HZnJYDXhbE0m4+cQrJarJ7G5SefwywIuSjYAtHSOQ8/EuVquMYmvI0ArbARbTdQ3yO5D5jWvti/dxmo70vAwdLnFklWUaexfdrn4ninHctn4vukc+3h75pjl9a0H2AcR4/THkIjx6J+8XLzjod8rfuinrhc/+nMfKX7+xmfKePG29z2cXb4eAFMSMTgruQgxZoSAsbNXb5c/QNx+NX49hQERIzsR7okQzYlqfnJb21fEaP9rf2uMmMDm97uh59hV+92OEM0J9frJdf7xu9kuYuRDRPM1Grrc2mPQjBCd8FXJPn7Ae7Vtn8cSSIkYpz82RYwQMMLnXrTHD//Mh7PLNwfAlEQMzsp3PvwbO492wPj2L/9CXOsWYriox1MvTnYORmXjxLAvNmQmpKU0KvRHin1FjOlsihi9E+TGJRKJeKyrY9MXd/Y78d4qYnT2tfsaD1uu772ReXyMGIPCRN9xXWeXxwCDiBgzHXcfLd61/F5TjXfd/Hp+2Q1jU8QIZ2DkIkYYIXDkHlMPgCmJGDBQM2CM+q0kS/eLLzwVYsbtYrLfT7IpYiQT78zITFSXj1kTABbT2aOPGOX9zWORjPzEuQoU6/f7+CNG9dp2j0kczceLGHC0RIwZjhgwkmjx7NXy79kHn20sN3BsihjhEpJcwAjjV//gdvYx9QCYkogBA9UBY9fPv8iKv2Z1sktKNkWMrWNDnMBeux7/2zcV31fEiBPo8Fy5sSZCbLIpYmwdG+oJ++LYlP/tOeanfCZGh4gBR0vEmN/40s33LP7Oe0/x8N3WfXcfLR6eIGKEz8DIBYwwrj35+exj6gEwJREDBhrzAZ69po4YG2PCFhPShXKSGyfg9VkH+Qnqduu9CBtjwlYT5DrulEem2ve+dW+x3up4979+ueiQe12ycWJo7BgcRTK2iRgbg1vXPoMQkBIxZjjiWReXLl0tPpG7f8uxKWKED/HMBYxwhsaLf3E/+5h6AExJxIAL80pxe/EDxKS/nWTThDqIE81NZ010J8fr111NwGf8r+Qb93vAsStllosT8mzEWXdfIoaRMHqCQfWarI5x/Rqlr1MuOsRtbq136HKD92GbiFE/1+Dw1bNtwF6IGDMdy5DRGA89n192w9gUMcL4yWuPL/6eTQPGbz/zxeyyzQEwJREDDqT8daohWjTGpL+ZZKkxGY6jM6msJ6XJaASIOBntncxmJ/r15H41xl9esl/NSX85MhPiKsa0RmOiXd/f3rflunOT8vp4Lse6ELT+uCXbV25/9Xp3Ika9TD0y2zV0uUr3fRVG8t7aKmLUx2xTNIrie2/ouoHtiBjHMT7xUPV37y4f7jkkYuw6AKYkYgCcuDJODDhjYehy02lelrPexW8rnDYRY37jSzcfzVxG8nzxYPh7c4ezMUQM4FiJGAAnTsQAtiVizG+IGAAVEQPgxB1PxFhdhrP2MpEtL1MBtidizG9kfzvJhL9idcwAmJKIAXDijiliBOV29H0obPwsjLl9vgqcGhFjnqP+DIzVyPzK1YFDxACOlYgBcOKOLWLUHwqbCxXlNg643AQYR8Q4/SFiAMdKxAAAICFinP4QMYBjJWIAAJAQMU5/iBjAsRIxAABIiBinP0QM4FiJGJyNz372s4ZhGLMYMHcixukPEQM4ViIGAAAJEeP0h4gBHCsRAwCAhIhx+kPEAI6ViAEAQELEOP0hYgDHSsQAACAhYpz+EDGAYyViAACQEDFOf4SIse3IrSc3AKYkYgAAkBAxjDEDYEoiBgAACRHDGDMApiRiAACQEDGMMQNgSiIGAAAJEcMYMwCmJGIAAJAQMYwxA2BKIgYAAAkRwxgzAKYkYgAAkBAxjDEDYEoiBgAAiX1FDADYNxEDAICEiAHAXIkYAAAkRAwA5krEAAAgIWIAMFciBgAACREDgLkSMQAASIgYAMyViAEAQELEAGCuRAxgdr713JPFO9/7bPFy/HpqL3/8sYM+38G88bniwfc+VjzyUvwaYCARA4C5EjGAPbtXPP3BEAX6x6ZJdSdixMn4Oz++euDW4SGu48Hn7sUbVoav66XikbAdH/xc8a14y6yJGMCORAwA5krEAPYsRowRE30RY09EDGBHIgYAcyViAHs2QcTIuJiIcWREDGBHIgYAcyViAHsmYsyGiAHsSMQAYK5EDGDPto0Y8RKNxnjwg/nLSeoAUUWH9niyePqN8u6u+PjOY+LlKauI0dqWzj7E+xuXtQTd7dkiiLz0bOux3dDSWX/r+Wud5RbHMR8xusdc6ACaRAwA5krEAPZsi4hRx4VsFOiPGEFnmU0y66itJv/N9eWCRfe27nYM3//qse34sniO5WNz64rbkNwWl2sfjxhIkkARb0uOw5pjA5wnEQOAuRIxgD2rJ9T9o55Ul5P4zGS/74M9p40Y3XV1L2tpR4xc6Ki8/NyGiJELDC3V82fOMGnvS7mu/uVWzxFfm9z2bns8gZMmYgAwVyIGsGdDz0ToDwDzihjNONDe5lWwya13nW4g6Sq3K3sc0+3oPRbtiNGJGg19IQQ4SyIGAHMlYgB7NjBirIkKxxMxgtyZJ5tjwObtX3ccm/etWa4dLeLZH/1DxAAqIgYAcyViAHs2MGLEIHD8EaMlPs+mbdv7mRhDIkb7a4AeIgYAcyViAHs2NGL0LzckYgyJAKn+aLJ7xHipeLo3wmw4q2HNZ2LUn6fRu57W8di03Oo5BkQYgAURA4C5EjGAPRsaMRZyE/nlJQ/rI8a6CJDXv11jIkY3Cgzf/+p50/iQnlUR15VsW3zOZP257Yi3LUb2+HZCRlh+mygEnDIRA4C5EjGAPasn3v0jHy3iWEyuq3iwIWIsVMvVj91w5kNpNbGvnyvYPWIsxG1bbUfr/g3SfQijux3V9jVGdv2tfQvr6ZyJUWsvW43cWSrAeRIxAJgrEQPYMxFDxACOnYgBwFyJGAAAJEQMAOZKxAD25jdvfL7zr/vGcY1/f/NOfDWBcyZiADBXIgYAAAkRA4C5EjEAAEiIGADMlYgBAEBCxABgrkQMAAASIgYAcyViAACQEDEAmCsRAwCAhIgBwFyJGAAAJEQMAOZKxAAAICFiADBXIgYAAAkRA4C5EjEAAEiIGADMlYgBAEBCxABgrkQMAAASIgYAczW7iPGN734j/gkAgIsgYgAwV7OLGC++/r+Kr96/G78CAODQRAwA5mqWEaMOGX/9g7+OtwIAcCgiBgBzNUnE+M73v7vzqCNGHTLe/N6bca19vlzcuHKluPHl+NXNK8WVm/GLA3r96avFlQ89U7wev57UvWeKq1euFs/ci1+zFwd9DQFgxkQMAOZqkojRDBFjRwgZ6z8n49AR4/XimQ9dKa4+nU51x0+A0/1Ya68RY4vnnasv3yiuXLmx2JNxRAwAqIgYAMzV7CNGPfpDxqEn4TOIGHslYtREDACoiBgAzJWIsTURY3ZEDADYKxEDgLk6mojR/xtL0kl4ejlJHRyeKZe5Ekdnwl5enrG6vx0omsr1N5atJ731BPiZ5v3JZS3VtiSPbW1n/r5U+TzlMqvLSbqT726YWD2uuf7hz1vqPU5xPck2xNua6ytjw+rxndehdX+9/rX719qmMFbrbe1fso6gWk/zsd1lAOD8iBgAzNVRRIwQMMKHfuZtjhjNf6WvJvONf7WPk+DlxLf9dUe1zuyZGNusp3N/Nzz0Kh+7RcTonKmwuH+5/MDn3Xic0uPS+WySchsan+Ox6euwXfHx2+9f0I4om77OPQ8AnCcRA4C5miRivPrWqzuPdsAIt62XTmjzZ2I0pqW5ANCYyAZhHe1IsZJZ50J3ApxfbqV9/8CYEOwUMZqBoGnY8w46TjFsXP1QNwZ0j2m1/9Xzrj9Ww/avFTHKbWndFpar15O5v/s8AHCeRAwA5mqSiDFGM2B87dv/J966zriIUS6/eHxntCbsK/kJ96CIUU620+dZ3T9hxFho7+fqvmHPO/g4rTsrIvP4av8niBiZY12NuFzmMSIGAFREDADmarYR483vvRlv2WQPEaM3WOTsGDHKSXPzbIj2eqaNGE3l8ssJ/BYRY9Nxitt14+aGY9Gx/v7dI0brtiYRAwB6iRgAzNXsIsb6z7/IGRcxqq9bk/jFBLd/wt1+jsqmiNG5Pz7v6nk2TfQb2vvQmpBXkWK1T+Hr9v6tlh/4vBuPU/N1qNaZHKPyOZsRp7VdnfsX66sfv2H/OsejlNmGsM7la1Btb3v7RQwAEDEAmK/ZRYztAkbQnDwvvto2YgRxgr665KA9IW5pLh8nvZ1I0XnuOKlePu7GYkLd2rZysh7vb0WSRGcf0nXXv40lneSv7u/s31bPm1tPOwgEMQo019d8nnJkzoRo3N937Dr7t1C+7vH+1e2tY74Y3fdCfd+N4pnOawgA50nEAGCuZhcxGKATMQAA9kfEAGCuRIxj1Lq8AgBgn0QMAOZKxDhGIgYAMCERA4C5EjGOSPMzI5qfBwEAsE8iBgBzJWIAAJAQMQCYKxEDAICEiAHAXIkYAAAkRAwA5krEAAAgIWIAMFezixh/+ejN+CcAAC6CiAHAXM0uYtz/8XcUb/30u+NXAAAcmogBwFzNMmLUIeMH916PtwIAcCgiBgBzNUnE+P5XvrjzqCNGHTL+6tlPx7XO3evFMx+6Ulx9ugovrz99tbjyoWcWtwIAHBcRA4C5EjH2RsQAAE6DiAHAXE0SMZohYuwIIeNiP+wzjRP9Dh8xziGUiEEAcHgiBgBzNfuIUY+LCxm7RYxDEDEAgCmIGADM1dFEjP7fWPLl4saVK8WNp58pri7+e6UcV4tn7sW7oy/frO8L48biUdGXb5S33VjesFDeVq0jfdxi9E6o15+JUX/9THN9N5tPGlTr2PxcC3G7V6Oxz637kn3r0/uY6vim21rd1gw2vcc3Su+vtzW+do2Fk+O2bh/vNV/vw8YjADh1IgYAc3UUESMEjPB5GXlxkt2Y8JcT5i2+ribLceJdTo6bEWS3MzGyEWOxncsJe5yErybwMWAsY0H76672c5Ta29/Zn4xy/xvLtL9OYkP3eOxyvKt1bYgYma9L7WPXOZYAwBgiBgBzNUnE+PYv/8LOox0wwm3rdSfCSZQo729N4stJb3q2QDXRvpqZDO8xYiST8dZ6M9tU7kd7At+Qm+CX+9EKH7nbmsL96f5V29Y9povjs7i9e1bGmuNb/rkvouwWMcrbMvu4+TUCAIYQMQCYq0kixhjNgPGdD/9GvHWdDREj/iv96pKEerQn1n2x4kARo9zm3Ha2wkZDboK/fcSotiP33O19zj3fxuM7QcQo96fzfIuxJtQAAMOJGADM1WwjxvBfrTokYvRNoleqif6N7rriJP8wEaM/WOT0TvB3iBgb9y9u3432ujYd36kihmABAJMRMQCYq9lFjPWff5GzIWKEL8OktxMQVvcnE+Xysemke9ikeWTEiF+nz7PYt9YEPpELH+1oMCTiZPY5bO/ymCbrqI53M3psOr6d+xfPV627fQyqdbeXze9j9zXfGGIAgEFEDADmanYRY7uAEWyOGEE5kQ4T5HrEWFDGhday1W3tEBAf1xsVxkaMIIaMxnaun5g3l29sb7n/q3Ukx6ZP6zHLY5ILBvG25rb1Hd9Ke7/6tvVG8UzPceo8rvmatO8DAEYRMQCYq9lFDAAALpaIAcBciRgAACREDADmSsQAACAhYgAwVyIGAAAJEQOAuRIxAABIiBgAzJWIAQBAQsQAYK5EDAAAEiIGAHMlYgAAkBAxAJgrEQMAgISIAcBciRgAACREDADmSsQAACAhYgAwVyIGAAAJEQOAuRIxAABIiBgAzJWIAQBAQsQAYK5EDAAAEiIGAHMlYgAAkBAxAJgrEQMAAAA4AkXx/wGRI0gmoFesCgAAAABJRU5ErkJggg==)\n",
        "\n",
        "2. Step 2: The statement `s = text` causes `s` to point to the string object created in the previous step.\n",
        "\n",
        "\n",
        "3. Step 3: For the statement `text = text.upper()`, the `text.upper()` creates a new string object by making all the string values in `text` uppercase letters, and then `text` points to this new string object.  \n",
        "\n",
        "![image.png](data:image/png;base64,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)\n",
        "\n",
        "**If Python's string is not immutable, the third statement will also change the value of s which is not what we want.**\n"
      ],
      "metadata": {
        "id": "tvfsnLLzLZUM"
      }
    },
    {
      "cell_type": "code",
      "source": [
        "str = \"Hello\"\n",
        "str[1] = 'a'"
      ],
      "metadata": {
        "colab": {
          "base_uri": "https://localhost:8080/",
          "height": 159
        },
        "id": "Dof0p0rqR2Fm",
        "outputId": "a9884e3c-239e-48d1-dbdf-764329475c10"
      },
      "execution_count": null,
      "outputs": [
        {
          "output_type": "error",
          "ename": "TypeError",
          "evalue": "'str' object does not support item assignment",
          "traceback": [
            "\u001b[0;31m---------------------------------------------------------------------------\u001b[0m",
            "\u001b[0;31mTypeError\u001b[0m                                 Traceback (most recent call last)",
            "\u001b[0;32m<ipython-input-1-4997ed2ff8da>\u001b[0m in \u001b[0;36m<cell line: 2>\u001b[0;34m()\u001b[0m\n\u001b[1;32m      1\u001b[0m \u001b[0mstr\u001b[0m \u001b[0;34m=\u001b[0m \u001b[0;34m\"Hello\"\u001b[0m\u001b[0;34m\u001b[0m\u001b[0;34m\u001b[0m\u001b[0m\n\u001b[0;32m----> 2\u001b[0;31m \u001b[0mstr\u001b[0m\u001b[0;34m[\u001b[0m\u001b[0;36m1\u001b[0m\u001b[0;34m]\u001b[0m \u001b[0;34m=\u001b[0m \u001b[0;34m'a'\u001b[0m\u001b[0;34m\u001b[0m\u001b[0;34m\u001b[0m\u001b[0m\n\u001b[0m",
            "\u001b[0;31mTypeError\u001b[0m: 'str' object does not support item assignment"
          ]
        }
      ]
    },
    {
      "cell_type": "markdown",
      "source": [
        "The above code is incorrect because of Python's string's immutable feature. We cannot change the value and store it back in the same string object."
      ],
      "metadata": {
        "id": "awYG-APPSLHi"
      }
    }
  ]
}