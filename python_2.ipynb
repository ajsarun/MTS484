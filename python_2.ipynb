{
  "nbformat": 4,
  "nbformat_minor": 0,
  "metadata": {
    "colab": {
      "provenance": [],
      "toc_visible": true,
      "authorship_tag": "ABX9TyNWO3VMpnTGmgYyQPbD8ofw"
    },
    "kernelspec": {
      "name": "python3",
      "display_name": "Python 3"
    },
    "language_info": {
      "name": "python"
    }
  },
  "cells": [
    {
      "cell_type": "markdown",
      "source": [
        "# Chapter 2\n",
        "# Flow Control statements and functions"
      ],
      "metadata": {
        "id": "tcWstfJbzysQ"
      }
    },
    {
      "cell_type": "markdown",
      "source": [
        "## Flow Control\n",
        "\n",
        " Flow control refers to the order in which statements are executed within a program. By default, statements are executed sequentially, from top to bottom. However, Python offers various mechanisms to alter this flow, allowing for more dynamic and flexible program behavior.\n",
        "\n",
        " *Note:*\n",
        "\n",
        " Order of evaluation in an expression is also considered a control flow.\n",
        "\n",
        " ## Key Elements of Flow Control\n",
        "\n",
        "1. Conditional Statements: These statements use boolean expressions (evaluating to True or False) to determine which block of code to execute. The most common ones are:\n",
        "\n",
        "- `if`: Executes a block of code if a condition is True.\n",
        "- `elif`: (Short for \"else if\") Checks another condition if the previous one(s) were False.\n",
        "- `else`: Executes a block of code if all previous conditions were False.\n",
        "\n",
        "2. Loops: These statements repeatedly execute a block of code as long as a condition is True. Python has two main types:\n",
        "\n",
        "- `for`: Iterates over a sequence (like a list, string, or tuple), executing the code block for each item.\n",
        "- `while`: Executes the code block as long as a condition remains True.\n",
        "\n",
        "3. Functions: These are reusable blocks of code that perform a specific task. They can be called from anywhere in the program, altering the flow of execution temporarily.\n",
        "\n",
        "## How Flow Control Works\n",
        "\n",
        "- Decision Making: Conditional statements let your program choose different paths based on varying circumstances. This allows for tailored responses to user input, data validation, error handling, and more.\n",
        "\n",
        "- Repetition: Loops help automate tasks by repeatedly executing code blocks. This is useful for processing large datasets, performing calculations, or generating output.\n",
        "\n",
        "- Modularity: Functions break down complex problems into smaller, manageable parts, making your code cleaner and easier to maintain."
      ],
      "metadata": {
        "id": "JpjUU37j5BoI"
      }
    },
    {
      "cell_type": "markdown",
      "source": [
        "### if statement\n",
        "\n",
        "At its heart, the if statement is a decision-making tool. It evaluates a condition, and if that condition is True, it executes a specific block of code. If the condition is False, that code block is skipped.\n",
        "\n",
        "```\n",
        "if condition:\n",
        "    # Code to execute if the condition is True (indented)\n",
        "```\n",
        "\n",
        "- if: The keyword that marks the beginning of the statement.\n",
        "- condition: A boolean expression that evaluates to either True or False. This is where you put your logic.\n",
        "- Indented block: The code that runs only if the condition is True. Indentation (usually four spaces) is crucial in Python to define code blocks.\n",
        "\n"
      ],
      "metadata": {
        "id": "JCzSz4jODr52"
      }
    },
    {
      "cell_type": "code",
      "source": [
        "x = 10\n",
        "if x > 5:\n",
        "    print(\"x is greater than 5\")\n"
      ],
      "metadata": {
        "id": "CDg47LDQDeU9",
        "colab": {
          "base_uri": "https://localhost:8080/"
        },
        "outputId": "be95c189-ca9f-4295-a4a0-473242e81691"
      },
      "execution_count": null,
      "outputs": [
        {
          "output_type": "stream",
          "name": "stdout",
          "text": [
            "x is greater than 5\n"
          ]
        }
      ]
    },
    {
      "cell_type": "markdown",
      "source": [
        "Since x is 10 (which is greater than 5), this will print \"x is greater than 5\"."
      ],
      "metadata": {
        "id": "t2k0wm3yQ71u"
      }
    },
    {
      "cell_type": "code",
      "source": [
        "name = \"Alice\"\n",
        "if name == \"Alice\":\n",
        "    print(\"Hello, Alice!\")\n"
      ],
      "metadata": {
        "colab": {
          "base_uri": "https://localhost:8080/"
        },
        "id": "VEZtX5eLQabU",
        "outputId": "893f1bfe-b2af-4e0c-a361-c8662954c7cc"
      },
      "execution_count": null,
      "outputs": [
        {
          "output_type": "stream",
          "name": "stdout",
          "text": [
            "Hello, Alice!\n"
          ]
        }
      ]
    },
    {
      "cell_type": "markdown",
      "source": [
        "Here, the == operator checks for equality. Since name is indeed \"Alice\", it prints the greeting."
      ],
      "metadata": {
        "id": "Y5uooUmuQ91I"
      }
    },
    {
      "cell_type": "code",
      "source": [
        "temperature = 25\n",
        "is_sunny = True\n",
        "\n",
        "if temperature > 20 and is_sunny:\n",
        "    print(\"It's a beautiful day!\")\n"
      ],
      "metadata": {
        "colab": {
          "base_uri": "https://localhost:8080/"
        },
        "id": "LKrf3sUAQsOp",
        "outputId": "4f5ee999-fbe4-428f-97b1-ceabf667eb0e"
      },
      "execution_count": null,
      "outputs": [
        {
          "output_type": "stream",
          "name": "stdout",
          "text": [
            "It's a beautiful day!\n"
          ]
        }
      ]
    },
    {
      "cell_type": "markdown",
      "source": [
        "This checks if both conditions are met: temperature above 20 degrees and sunny weather."
      ],
      "metadata": {
        "id": "xMWbg35tRCFm"
      }
    },
    {
      "cell_type": "markdown",
      "source": [
        "##### Combining with `else` and `elif`\n",
        "\n",
        "`else`: Provides a default code block to execute if the if condition is False.\n",
        "\n",
        "`elif`: (else if): Allows you to chain multiple conditions. If the first if is False, it checks the next elif, and so on.\n",
        "\n"
      ],
      "metadata": {
        "id": "Do-Oi5hCI0p4"
      }
    },
    {
      "cell_type": "code",
      "source": [
        "x = 5\n",
        "if x > 5:\n",
        "    print(\"x is greater than 5\")\n",
        "else:\n",
        "    print(\"x is not greater than 5\")"
      ],
      "metadata": {
        "colab": {
          "base_uri": "https://localhost:8080/"
        },
        "id": "Am9a3mu_LCrc",
        "outputId": "a40c2718-431b-4169-94fc-eb4ed0f95921"
      },
      "execution_count": null,
      "outputs": [
        {
          "output_type": "stream",
          "name": "stdout",
          "text": [
            "x is not greater than 5\n"
          ]
        }
      ]
    },
    {
      "cell_type": "code",
      "source": [
        "x = 6\n",
        "if x > 10:\n",
        "    print(\"x is greater than 10\")\n",
        "elif x > 5:\n",
        "    print(\"x is greater than 5 but not greater than 10\")\n",
        "else:\n",
        "    print(\"x is 5 or less\")\n"
      ],
      "metadata": {
        "colab": {
          "base_uri": "https://localhost:8080/"
        },
        "id": "fecNrrfaLZpA",
        "outputId": "496507dd-49fa-46dd-be87-47b08d0a5bac"
      },
      "execution_count": null,
      "outputs": [
        {
          "output_type": "stream",
          "name": "stdout",
          "text": [
            "x is greater than 5 but not greater than 10\n"
          ]
        }
      ]
    },
    {
      "cell_type": "markdown",
      "source": [
        "#### Key Points\n",
        "\n",
        "- The if statement is the cornerstone of decision making in Python.\n",
        "- You can use various operators (`<`, `>`, `==`, `!=`, `<=`, `>=`, `and`, `or`, `not`) to construct complex conditions.\n",
        "- Indentation defines the code blocks belonging to the if, elif, and else parts."
      ],
      "metadata": {
        "id": "Ow6BXpwWL_bf"
      }
    },
    {
      "cell_type": "markdown",
      "source": [
        "#### Caution\n",
        "\n",
        "Directly comparing floating-point numbers for equality can be unreliable due to the way they are represented in binary. Small rounding errors can lead to unexpected results.\n"
      ],
      "metadata": {
        "id": "fwJbKwQ9Wx05"
      }
    },
    {
      "cell_type": "code",
      "source": [
        "x = 0.1 + 0.2\n",
        "\n",
        "if x == 0.3:\n",
        "  print(\"OK\")\n",
        "else:\n",
        "  print(\"Not OK\")"
      ],
      "metadata": {
        "colab": {
          "base_uri": "https://localhost:8080/"
        },
        "id": "TMXVdfnFW7Xv",
        "outputId": "9dda9dda-5c8a-483c-a7a1-5034ed2f6d5f"
      },
      "execution_count": null,
      "outputs": [
        {
          "output_type": "stream",
          "name": "stdout",
          "text": [
            "Not OK\n"
          ]
        }
      ]
    },
    {
      "cell_type": "markdown",
      "source": [
        "You might expect the result to be \"OK,\" but due to the way floating-point representation in a computer `x` is not exactly `0.3`. If you want to know how the computer represents floating-point, you can consult [this link](https://learn.microsoft.com/en-us/cpp/build/ieee-floating-point-representation?view=msvc-170)."
      ],
      "metadata": {
        "id": "ST2Woxp6u9GK"
      }
    },
    {
      "cell_type": "code",
      "source": [
        "#one solution to the above problem is to set the tolerance level\n",
        "\n",
        "tolerance =1e-6 #the tolerance value (or epsilon) that we use is 0.0000001\n",
        "x = 0.1 + 0.2\n",
        "if abs(x-0.3) <= tolerance:\n",
        "  print(\"OK\")\n",
        "else:\n",
        "  print(\"Not OK\")"
      ],
      "metadata": {
        "colab": {
          "base_uri": "https://localhost:8080/"
        },
        "id": "f93qw59sYIwF",
        "outputId": "b86d76a0-2b0f-4e28-e467-0e32255b8775"
      },
      "execution_count": null,
      "outputs": [
        {
          "output_type": "stream",
          "name": "stdout",
          "text": [
            "OK\n"
          ]
        }
      ]
    },
    {
      "cell_type": "code",
      "source": [
        "#Or using the isclose() function define in math library\n",
        "from math import isclose\n",
        "x = 0.1 + 0.2\n",
        "if isclose(x, 0.3):\n",
        "  print(\"OK\")\n",
        "else:\n",
        "  print(\"Not OK\")"
      ],
      "metadata": {
        "colab": {
          "base_uri": "https://localhost:8080/"
        },
        "id": "HoXbjvqLVs2D",
        "outputId": "b059f5af-aaa8-4472-e23c-06c261332f53"
      },
      "execution_count": null,
      "outputs": [
        {
          "output_type": "stream",
          "name": "stdout",
          "text": [
            "OK\n"
          ]
        }
      ]
    },
    {
      "cell_type": "markdown",
      "source": [
        "### The match-case Statement (Python 3.10+)\n",
        "\n",
        "This is the newest addition to Python's flow control tools and provides a more structured way to handle multiple cases:\n"
      ],
      "metadata": {
        "id": "ZxrK2YyGQPC5"
      }
    },
    {
      "cell_type": "code",
      "source": [
        "x = 5\n",
        "\n",
        "match x:\n",
        "    case 1:\n",
        "        result = x + 1\n",
        "    case 2:\n",
        "        result = x * 2\n",
        "    case 3:\n",
        "        result = x ** 2\n",
        "    case _:  # Wildcard pattern for the default case\n",
        "        result = x - 1\n",
        "print(f\"result = {result}\")"
      ],
      "metadata": {
        "colab": {
          "base_uri": "https://localhost:8080/"
        },
        "id": "KtUl52pATME0",
        "outputId": "769aec27-437d-4f07-fc57-82e13931ae61"
      },
      "execution_count": null,
      "outputs": [
        {
          "output_type": "stream",
          "name": "stdout",
          "text": [
            "result = 4\n"
          ]
        }
      ]
    },
    {
      "cell_type": "markdown",
      "source": [
        "The `match-case` structure is similar to switch-case statements in other languages. It compares the value of `x` to the patterns in each case and executes the matching block. The underscore (`_`) acts as a wildcard, catching any value that doesn't match the explicit cases."
      ],
      "metadata": {
        "id": "e4eRF_pQTX0Y"
      }
    },
    {
      "cell_type": "markdown",
      "source": [
        "## Exercise 2.1\n",
        "Write a python program to ask a user to enter an integer which is a score of a student in a class. The program then calcluates the grade for the student based on the following conditions:\n",
        "\n",
        "- score >= 90 grage A\n",
        "- score >= 80 grade B+\n",
        "- score >= 70 grade B\n",
        "- score >= 60 grade C+\n",
        "- score >= 50 grade C\n",
        "- score >= 40 grade D+\n",
        "- score >= 30 grade D\n",
        "- score < 30 grade F\n",
        "\n",
        "The example output of the program is as follows:\n",
        "\n",
        "```\n",
        "Enter score 65\n",
        "Grade = C+\n",
        "```\n",
        "\n",
        "*Note*\n",
        "\n",
        "Try by yourself first. If you cannot make it, the solution is provided in the cell after the next cell. Please be reminded that this solution is just only a guideline since there is always more than one way to solve the same problem.\n"
      ],
      "metadata": {
        "id": "WjXxgL3WMfXT"
      }
    },
    {
      "cell_type": "code",
      "source": [
        "#exeercise 2.1\n",
        "#Your code here\n",
        "\n",
        "\n",
        "\n",
        "\n",
        "\n",
        "\n",
        "\n",
        "\n"
      ],
      "metadata": {
        "id": "a7U8eADhNjnE"
      },
      "execution_count": null,
      "outputs": []
    },
    {
      "cell_type": "markdown",
      "source": [
        "## for loop\n",
        "\n",
        "The `for` loop in Python is designed to iterate over a sequence (like a list, tuple, string, or other iterable objects). In simpler terms, it goes through each item in the sequence one by one, allowing you to perform actions on each item.\n",
        "\n",
        "*Note:*\n",
        "We will discuss the iterable objects later.\n",
        "\n",
        "The basic syntax for the `for` loop is as follows:\n",
        "\n",
        "```\n",
        "for item in sequence:\n",
        "    # Code block to be executed for each item\n",
        "\n",
        "```\n",
        "\n",
        "Actually, the `for` loop in Python is a kind of counter-controlled loop, where we know the number of rounds that the loop will be executed.\n",
        "\n",
        "In Python we specify the number of round using `range` function. The function returns an iterable object that generates a sequence of integers based on the provided arguments.\n",
        "\n",
        "```\n",
        "range(stop)\n",
        "range(start, stop[, step])\n",
        "```\n",
        "Where\n",
        "\n",
        "- `stop` (required): An integer specifying the end point of the sequence (exclusive). Must be greater than or equal to 0.\n",
        "- `start` (optional, defaults to 0): An integer specifying the starting point of the sequence (inclusive).\n",
        "- `step` (optional, defaults to 1): An integer specifying the increment (or decrement) between each number in the sequence.\n",
        "\n",
        "The following examples show various ways to use the `range` function with the `for` loop."
      ],
      "metadata": {
        "id": "fQrHyaUwx_af"
      }
    },
    {
      "cell_type": "code",
      "source": [
        "for i in range(5):\n",
        "    print(i)\n"
      ],
      "metadata": {
        "colab": {
          "base_uri": "https://localhost:8080/"
        },
        "id": "Ap0vXD6QDXse",
        "outputId": "02838e87-eea0-452b-95c1-a20654eb1ee8"
      },
      "execution_count": null,
      "outputs": [
        {
          "output_type": "stream",
          "name": "stdout",
          "text": [
            "0\n",
            "1\n",
            "2\n",
            "3\n",
            "4\n"
          ]
        }
      ]
    },
    {
      "cell_type": "code",
      "source": [
        "for i in range(1, 5):\n",
        "    print(i)"
      ],
      "metadata": {
        "colab": {
          "base_uri": "https://localhost:8080/"
        },
        "id": "APLgJl7iGUcS",
        "outputId": "6e3bb19d-2a28-4092-c889-f78cd59ea0d8"
      },
      "execution_count": null,
      "outputs": [
        {
          "output_type": "stream",
          "name": "stdout",
          "text": [
            "1\n",
            "2\n",
            "3\n",
            "4\n"
          ]
        }
      ]
    },
    {
      "cell_type": "code",
      "source": [
        "for i in range(1, 5, 2):\n",
        "    print(i)"
      ],
      "metadata": {
        "colab": {
          "base_uri": "https://localhost:8080/"
        },
        "id": "jb_C7DZsGabx",
        "outputId": "b39cd221-d83e-410c-a6ae-24032af82ee9"
      },
      "execution_count": null,
      "outputs": [
        {
          "output_type": "stream",
          "name": "stdout",
          "text": [
            "1\n",
            "3\n"
          ]
        }
      ]
    },
    {
      "cell_type": "code",
      "source": [
        "for i in range(5, 1, -1):\n",
        "    print(i)"
      ],
      "metadata": {
        "colab": {
          "base_uri": "https://localhost:8080/"
        },
        "id": "ZcPPe-f4Gp3f",
        "outputId": "3e27275a-65f7-4a9b-e79b-fa178b8231ee"
      },
      "execution_count": null,
      "outputs": [
        {
          "output_type": "stream",
          "name": "stdout",
          "text": [
            "5\n",
            "4\n",
            "3\n",
            "2\n"
          ]
        }
      ]
    },
    {
      "cell_type": "markdown",
      "source": [
        "##`while` loop\n",
        "\n",
        "The `while` loop is a sentinel-controlled loop, which keeps repeating a block of code as long as a certain condition remains True. This loop is used when we do not know in advance how many times it will be executed.\n",
        "\n",
        "The basic syntax for the `while` loop is as follows:\n",
        "\n",
        "```\n",
        "while condition:\n",
        "    # Code block to be executed repeatedly as long as the condition is True\n",
        "\n",
        "```\n"
      ],
      "metadata": {
        "id": "V5R-CtWTDgWW"
      }
    },
    {
      "cell_type": "code",
      "source": [
        "number = int(input(\"Enter a number end with -99 \" ))\n",
        "while(number != -99):\n",
        "  print(f\"You entered {number}\")\n",
        "  number = int(input(\"Enter a number end with -99 \" ))\n",
        "print(\"Goodbye\")"
      ],
      "metadata": {
        "colab": {
          "base_uri": "https://localhost:8080/"
        },
        "id": "-f4F1p6wKmU8",
        "outputId": "9f9ad62d-09b6-4f7b-8d84-04310eec040f"
      },
      "execution_count": null,
      "outputs": [
        {
          "output_type": "stream",
          "name": "stdout",
          "text": [
            "Enter a number end with -99 1\n",
            "You entered 1\n",
            "Enter a number end with -99 6\n",
            "You entered 6\n",
            "Enter a number end with -99 45\n",
            "You entered 45\n",
            "Enter a number end with -99 -99\n",
            "Goodbye\n"
          ]
        }
      ]
    },
    {
      "cell_type": "markdown",
      "source": [
        "The above example shows the simple example of using the `while` loop. In this case, a user can enter any number except -99, which is used to terminate the loop. We allow the user to enter as many numbers as he/she wishes; we do not know how many rounds the loop needs repeated."
      ],
      "metadata": {
        "id": "3halCyJYLR4R"
      }
    },
    {
      "cell_type": "markdown",
      "source": [
        "###`break` and `continue` statements\n",
        "\n",
        "- `break` statement: Immediately exits the loop, even if the condition is still True.\n",
        "- `continue` statement: Skips the rest of the current iteration and goes back to the top of the loop to re-evaluate the condition.\n",
        "\n"
      ],
      "metadata": {
        "id": "b0DKB2enMOB8"
      }
    },
    {
      "cell_type": "code",
      "source": [
        "#example: using break\n",
        "while True: # This creates an infinite loop\n",
        "  number = int(input(\"Enter a number end with -99 \" ))\n",
        "  if number == -99:\n",
        "    break\n",
        "  print(f\"You entered {number}\")\n",
        "print(\"Goodbye\")"
      ],
      "metadata": {
        "colab": {
          "base_uri": "https://localhost:8080/"
        },
        "id": "DS8MW7DJRHHc",
        "outputId": "e4266c88-c589-4b98-d12f-0233f917d592"
      },
      "execution_count": null,
      "outputs": [
        {
          "output_type": "stream",
          "name": "stdout",
          "text": [
            "Enter a number end with -99 1\n",
            "You entered 1\n",
            "Enter a number end with -99 9\n",
            "You entered 9\n",
            "Enter a number end with -99 -99\n",
            "Goodbye\n"
          ]
        }
      ]
    },
    {
      "cell_type": "markdown",
      "source": [
        "The above code has the same purpose as the code in the previous cell. In this code, we use the `break` statement to terminate the loop when a user enters -99. Be careful when you write a loop like the one above. Since there is a chance that it will become a forever loop, make sure you have a condition to stop the loop in the body of the loop using the `break` statement.\n"
      ],
      "metadata": {
        "id": "KGWxM5SDR2rX"
      }
    },
    {
      "cell_type": "code",
      "source": [
        "#example: using continue\n",
        "\n",
        "for i in range(1, 11):\n",
        "    if i % 2 == 0:  # Check if i is even\n",
        "        continue     # Skip to the next iteration if even\n",
        "    print(i)        # Print odd numbers\n"
      ],
      "metadata": {
        "colab": {
          "base_uri": "https://localhost:8080/"
        },
        "id": "PowkTfo-UDCZ",
        "outputId": "b343a67a-8c36-44a8-fa83-64477a6dac0b"
      },
      "execution_count": null,
      "outputs": [
        {
          "output_type": "stream",
          "name": "stdout",
          "text": [
            "1\n",
            "3\n",
            "5\n",
            "7\n",
            "9\n"
          ]
        }
      ]
    },
    {
      "cell_type": "markdown",
      "source": [
        "In this example, the `continue` statement is used within a `for` loop to skip the printing of even numbers. If the remainder after dividing i by 2 is 0 (indicating an even number), the `continue` statement is triggered, causing the loop to immediately jump to the next iteration without executing the `print(i)` statement."
      ],
      "metadata": {
        "id": "vWyq-CqmUTzJ"
      }
    },
    {
      "cell_type": "markdown",
      "source": [
        "##Nested Loop\n",
        "\n",
        "A nested loop is simply a loop placed inside another loop. The inner loop completes all its iterations for each single iteration of the outer loop. This allows you to work with multi-dimensional data structures or perform repetitive actions in a structured way."
      ],
      "metadata": {
        "id": "OiN7UzM3U1ST"
      }
    },
    {
      "cell_type": "code",
      "source": [
        "#Nested loop example, printing a pattern\n",
        "\n",
        "for i in range(5): # Outer loop\n",
        "    for j in range(i + 1): # Inner loop\n",
        "        print(\"*\", end=\"\")\n",
        "    print() # Newline after each row\n"
      ],
      "metadata": {
        "colab": {
          "base_uri": "https://localhost:8080/"
        },
        "id": "_xkopO0oY6No",
        "outputId": "e065bb29-0c09-49ae-8638-53fac6783ef5"
      },
      "execution_count": null,
      "outputs": [
        {
          "output_type": "stream",
          "name": "stdout",
          "text": [
            "*\n",
            "**\n",
            "***\n",
            "****\n",
            "*****\n"
          ]
        }
      ]
    },
    {
      "cell_type": "markdown",
      "source": [
        "####Key Points\n",
        "\n",
        "- You can nest any type of loop inside another (`for` within `for`, `while` within `for`, etc.).\n",
        "- The number of levels of nesting depends on the complexity of your task.\n",
        "- Use meaningful variable names to keep track of the loop counters at each level.\n",
        "- Be mindful of the order of nesting to achieve the desired iteration pattern."
      ],
      "metadata": {
        "id": "EyoyBTXBNi11"
      }
    },
    {
      "cell_type": "code",
      "source": [
        "outer_counter = 0\n",
        "\n",
        "while outer_counter < 3:  # Outer while loop\n",
        "    print(f\"Outer loop iteration: {outer_counter + 1}\")\n",
        "\n",
        "    for inner_counter in range(2):  # Inner for loop\n",
        "        print(f\"  Inner loop iteration: {inner_counter + 1}\")\n",
        "\n",
        "    outer_counter += 1\n",
        "    print(\"------------------\")  # Separator between outer loop iterations\n"
      ],
      "metadata": {
        "colab": {
          "base_uri": "https://localhost:8080/"
        },
        "id": "YKqTGnvnO7UZ",
        "outputId": "938454f4-064c-4544-eeba-7a38653949a3"
      },
      "execution_count": null,
      "outputs": [
        {
          "output_type": "stream",
          "name": "stdout",
          "text": [
            "Outer loop iteration: 1\n",
            "  Inner loop iteration: 1\n",
            "  Inner loop iteration: 2\n",
            "------------------\n",
            "Outer loop iteration: 2\n",
            "  Inner loop iteration: 1\n",
            "  Inner loop iteration: 2\n",
            "------------------\n",
            "Outer loop iteration: 3\n",
            "  Inner loop iteration: 1\n",
            "  Inner loop iteration: 2\n",
            "------------------\n"
          ]
        }
      ]
    },
    {
      "cell_type": "markdown",
      "source": [
        "In nested loops, break only terminates the innermost loop in which it appears."
      ],
      "metadata": {
        "id": "Fd80u9MBRvUH"
      }
    },
    {
      "cell_type": "code",
      "source": [
        "for i in range(1, 5):  # Outer loop\n",
        "    for j in range(1, 5):  # Inner loop\n",
        "        if i * j > 10:\n",
        "            break  # Exit inner loop if product exceeds 10\n",
        "        print(i * j, end=\" \")\n",
        "    print()  # Move to the next line after each outer loop iteration"
      ],
      "metadata": {
        "colab": {
          "base_uri": "https://localhost:8080/"
        },
        "id": "pQjrKlK8Rulx",
        "outputId": "c1273ff7-0068-4388-9fbe-c039036ac32c"
      },
      "execution_count": null,
      "outputs": [
        {
          "output_type": "stream",
          "name": "stdout",
          "text": [
            "1 2 3 4 \n",
            "2 4 6 8 \n",
            "3 6 9 \n",
            "4 8 \n"
          ]
        }
      ]
    },
    {
      "cell_type": "markdown",
      "source": [
        "To exit multiple nested loops, you can set a flag variable and checking it in outer loops."
      ],
      "metadata": {
        "id": "l5spCBJQSRWW"
      }
    },
    {
      "cell_type": "code",
      "source": [
        "flag = False #flag variable\n",
        "for i in range(1, 5):  # Outer loop\n",
        "    for j in range(1, 5):  # Inner loop\n",
        "        if i * j > 10:\n",
        "            flag = True #set flag to True to exit the outer loop as well\n",
        "            break  # Exit inner loop if product exceeds 10\n",
        "        print(i * j, end=\" \")\n",
        "    if flag:  #check if flag == True:\n",
        "      break\n",
        "    print()  # Move to the next line after each outer loop iteration"
      ],
      "metadata": {
        "colab": {
          "base_uri": "https://localhost:8080/"
        },
        "id": "dvSV_CkCTByC",
        "outputId": "9875eb6e-1678-4bb8-c19b-1983b3b7d5a7"
      },
      "execution_count": null,
      "outputs": [
        {
          "output_type": "stream",
          "name": "stdout",
          "text": [
            "1 2 3 4 \n",
            "2 4 6 8 \n",
            "3 6 9 "
          ]
        }
      ]
    },
    {
      "cell_type": "code",
      "source": [
        "a = 0\n",
        "sum = 0\n",
        "while a < 5:\n",
        "  for i in range(5):\n",
        "    if sum > 5:\n",
        "      continue\n",
        "    sum += i\n",
        "  a += 1\n",
        "print(sum)"
      ],
      "metadata": {
        "colab": {
          "base_uri": "https://localhost:8080/"
        },
        "id": "diAYbhW3fmSd",
        "outputId": "82707664-4d12-420b-af0d-c0f827607541"
      },
      "execution_count": null,
      "outputs": [
        {
          "output_type": "stream",
          "name": "stdout",
          "text": [
            "6\n"
          ]
        }
      ]
    },
    {
      "cell_type": "markdown",
      "source": [
        "## Exercise 2.2\n",
        "\n",
        "Write a program that asks a user to enter the ID and score of each student, where ID is a string and score is an integer. The program then calculates that student's grade and prints the ID, score, and grade.\n",
        "\n",
        "The grade criteria are as follows:\n",
        "\n",
        "- score >= 90 grade A\n",
        "- score >= 80 grade B+\n",
        "- score >= 70 grade B\n",
        "- score >= 60 grade C+\n",
        "- score >= 50 grade C\n",
        "- score >= 40 grade D+\n",
        "- score >= 30 grade D\n",
        "- score < 30 grade F\n",
        "The program allows the user to keep entering the information till the user enters \"quit\" for ID.\n",
        "\n",
        "The example output of the program is as follows:\n",
        "```\n",
        "Enter a student ID ends with quit 12345\n",
        "Enter a student score 68\n",
        "ID = 12345, score = 68, grade = C+\n",
        "Enter a student ID ends with quit 12346\n",
        "Enter a student score 89\n",
        "ID = 12346, score = 89, grade = B+\n",
        "Enter a student ID ends with quit 12347\n",
        "Enter a student score 54\n",
        "ID = 12347, score = 54, grade = C\n",
        "Enter a student ID ends with quit quit\n",
        "Goodbye\n",
        "```\n",
        "\n",
        "*Note*\n",
        "\n",
        "Try by yourself first. If you cannot make it, the solution is provided in the cell after the next cell. Please be reminded that this solution is just only a guideline since there is always more than one way to solve the same problem.\n",
        "\n",
        "\n",
        "\n"
      ],
      "metadata": {
        "id": "YunMgQiB4VPZ"
      }
    },
    {
      "cell_type": "code",
      "source": [
        "#exeercise 2.2\n",
        "#your code here\n",
        "\n",
        "\n",
        "\n",
        "\n"
      ],
      "metadata": {
        "id": "xy9DzQMW6Sad"
      },
      "execution_count": null,
      "outputs": []
    },
    {
      "cell_type": "markdown",
      "source": [
        "##Exercise 2.3\n",
        "\n",
        "Write a program that asks a user to enter 5 integer numbers (one number at a time). The program prints the maximum and minimum numbers from the list the user entered.\n",
        "\n",
        "The example outout of the program is as follows:\n",
        "\n",
        "```\n",
        "Enter an integer number 1\n",
        "Enter an integer number -5\n",
        "Enter an integer number -2\n",
        "Enter an integer number 5\n",
        "Enter an integer number -8\n",
        "max = 5, min = -8\n",
        "```\n",
        "\n",
        "*Note*\n",
        "\n",
        "Try by yourself first. If you cannot make it, the solution is provided in the cell after the next cell. Please be reminded that this solution is just only a guideline since there is always more than one way to solve the same problem.\n"
      ],
      "metadata": {
        "id": "juOutlGZViar"
      }
    },
    {
      "cell_type": "code",
      "source": [
        "#exeercise 2.3\n",
        "#your code here\n",
        "\n",
        "\n",
        "\n"
      ],
      "metadata": {
        "id": "0mXB-LtAkvW0"
      },
      "execution_count": null,
      "outputs": []
    },
    {
      "cell_type": "code",
      "source": [
        "#solution to exercise 2.3\n",
        "\n",
        "for i in range(5):\n",
        "  number = int(input(\"Enter an integer number \"))\n",
        "  if i == 0:\n",
        "    max = min = number\n",
        "  else:\n",
        "    if number > max:\n",
        "      max = number\n",
        "    elif number < min:\n",
        "      min = number\n",
        "print(f\"max = {max}, min = {min}\")"
      ],
      "metadata": {
        "colab": {
          "base_uri": "https://localhost:8080/"
        },
        "id": "j8ZsE0DUkv1d",
        "outputId": "12b51ab4-b517-4b9f-d08d-04d8fd3b80c9"
      },
      "execution_count": null,
      "outputs": [
        {
          "output_type": "stream",
          "name": "stdout",
          "text": [
            "Enter an integer number 1\n",
            "Enter an integer number -5\n",
            "Enter an integer number -2\n",
            "Enter an integer number 5\n",
            "Enter an integer number -8\n",
            "max = 5, min = -8\n"
          ]
        }
      ]
    },
    {
      "cell_type": "markdown",
      "source": [
        "#Function\n",
        "\n",
        "- Definition: A function is a block of organized, reusable code that is used to perform a single, related action.\n",
        "- Benefits: Code reusability, modularity, and readability.\n",
        "- Syntax:\n",
        "\n",
        "```\n",
        "def function_name(parameter1, parameter2, ...):\n",
        "    # code block\n",
        "    return result  # Optional\n",
        "```\n",
        "\n",
        "##Parameters vs. Arguments\n",
        "\n",
        "- Parameters: Variables listed in the function definition.\n",
        "- Arguments: Actual values passed to the function when it's called.\n",
        "\n",
        "- Examples\n"
      ],
      "metadata": {
        "id": "FE4qzyoFxH-0"
      }
    },
    {
      "cell_type": "code",
      "source": [
        "def multiply(x, y):  # x and y are parameters\n",
        "    return x * y\n",
        "\n",
        "result = multiply(5, 3)  # 5 and 3 are arguments\n",
        "print(result)"
      ],
      "metadata": {
        "colab": {
          "base_uri": "https://localhost:8080/"
        },
        "id": "I23NAZUKx9li",
        "outputId": "fbcf010e-b621-49b4-f48c-a4c39ed296ba"
      },
      "execution_count": null,
      "outputs": [
        {
          "output_type": "stream",
          "name": "stdout",
          "text": [
            "15\n"
          ]
        }
      ]
    },
    {
      "cell_type": "markdown",
      "source": [
        "- In the above example, when the `multiply` function is called, `5` is passed to the parameter `x`, and `3` is passed to the parameter `y`.\n",
        "\n",
        "- The arguments are assigned to the function's parameters based on the order provided during the call.  \n",
        "- This is called **Positional Arguments**\n",
        "- Most programming languages support this type of argument passing.\n"
      ],
      "metadata": {
        "id": "LbwZY9PC3zW3"
      }
    },
    {
      "cell_type": "markdown",
      "source": [
        "###Keyword Arguments\n",
        "\n",
        "- When calling a function, keyword arguments allow you to specify the name of the parameter alongside its value.\n",
        "- This means you don't have to strictly follow the order of parameters defined in the function's signature.\n",
        "- Example:\n"
      ],
      "metadata": {
        "id": "AhqMJ8i1yHxC"
      }
    },
    {
      "cell_type": "code",
      "source": [
        "def calculate_interest(principal, rate, time):\n",
        "    return (principal * rate * time) / 100\n",
        "\n",
        "interest1 = calculate_interest(principal=10000, rate=5, time=3)  # Keyword arguments\n",
        "interest2 = calculate_interest(rate=5, time=3, principal=10000)  # Different order\n",
        "print(interest1)\n",
        "print(interest2)"
      ],
      "metadata": {
        "colab": {
          "base_uri": "https://localhost:8080/"
        },
        "id": "i0Ku7PvQ0ZPZ",
        "outputId": "2b9ed4da-d50a-439b-82cb-8dbcb048528d"
      },
      "execution_count": null,
      "outputs": [
        {
          "output_type": "stream",
          "name": "stdout",
          "text": [
            "1500.0\n",
            "1500.0\n"
          ]
        }
      ]
    },
    {
      "cell_type": "markdown",
      "source": [
        "- Advantages of keyword arguments\n",
        "  - Readability: Keyword arguments make your code more self-explanatory. It's clearer what each argument represents.\n",
        "  - Flexibility: You can change the order of arguments, making the code less error-prone when functions have many parameters.\n",
        "\n",
        "- **positional argument is not allowed after keyword argument**"
      ],
      "metadata": {
        "id": "2ZZNySrn0rGJ"
      }
    },
    {
      "cell_type": "code",
      "source": [
        "#using the same calculate_interest() function defined above\n",
        "\n",
        "interest3 = calculate_interest(principal=10000, 5, time=3) #try to use positional argument after keyword argument"
      ],
      "metadata": {
        "colab": {
          "base_uri": "https://localhost:8080/",
          "height": 106
        },
        "id": "RcSjKDJC6v4T",
        "outputId": "eb68215a-c6cc-4431-e4f0-49544ad891ba"
      },
      "execution_count": null,
      "outputs": [
        {
          "output_type": "error",
          "ename": "SyntaxError",
          "evalue": "positional argument follows keyword argument (<ipython-input-13-580e90337ef9>, line 1)",
          "traceback": [
            "\u001b[0;36m  File \u001b[0;32m\"<ipython-input-13-580e90337ef9>\"\u001b[0;36m, line \u001b[0;32m1\u001b[0m\n\u001b[0;31m    interest3 = calculate_interest(principal=10000, 5, time=3)\u001b[0m\n\u001b[0m                                                             ^\u001b[0m\n\u001b[0;31mSyntaxError\u001b[0m\u001b[0;31m:\u001b[0m positional argument follows keyword argument\n"
          ]
        }
      ]
    },
    {
      "cell_type": "markdown",
      "source": [
        "###Default Arguments\n",
        "\n",
        "- Default arguments are values assigned to parameters in the function definition.\n",
        "- If you don't explicitly provide a value for a parameter when calling the function, the default value will be used.\n",
        "- Example\n"
      ],
      "metadata": {
        "id": "AYIIdmEU1F6M"
      }
    },
    {
      "cell_type": "code",
      "source": [
        "def greet(name=\"Guest\"):  # \"Guest\" is the default value\n",
        "    print(f\"Hello, {name}!\")\n",
        "\n",
        "greet()        # Output: Hello, Guest!\n",
        "greet(\"Alice\")  # Output: Hello, Alice!"
      ],
      "metadata": {
        "colab": {
          "base_uri": "https://localhost:8080/"
        },
        "id": "aJJtnHgn7JXd",
        "outputId": "c8db3cff-a966-4050-9f27-f81b8d28e9d6"
      },
      "execution_count": null,
      "outputs": [
        {
          "output_type": "stream",
          "name": "stdout",
          "text": [
            "Hello, Guest!\n",
            "Hello, Alice!\n"
          ]
        }
      ]
    },
    {
      "cell_type": "markdown",
      "source": [
        "- Advantages\n",
        "  - Convenience: Simplifies function calls when some arguments are frequently used with the same value.\n",
        "  - Backward Compatibility: You can add new parameters to a function with default values without breaking existing code that uses the older version of the function."
      ],
      "metadata": {
        "id": "oCfdumMY7Yup"
      }
    },
    {
      "cell_type": "code",
      "source": [
        "#Combining Keyword and Default Arguments\n",
        "def describe_pet(pet_name, pet_type=\"dog\", pet_age=1):\n",
        "    print(f\"I have a {pet_type} named {pet_name} who is {pet_age} years old.\")\n",
        "\n",
        "describe_pet(\"Buddy\")                         # Default type and age\n",
        "describe_pet(\"Whiskers\", pet_type=\"cat\")      # Keyword argument for type\n",
        "describe_pet(\"Max\", pet_age=5, pet_type=\"dog\") # Keyword arguments for age and type\n",
        "describe_pet(pet_age=3, pet_type=\"dog\", pet_name=\"Luka\") ##All Keyword arguments"
      ],
      "metadata": {
        "colab": {
          "base_uri": "https://localhost:8080/"
        },
        "id": "YVH1ubLp7-vP",
        "outputId": "511e2711-0f84-4f4a-c836-a400977705fc"
      },
      "execution_count": null,
      "outputs": [
        {
          "output_type": "stream",
          "name": "stdout",
          "text": [
            "I have a dog named Buddy who is 1 years old.\n",
            "I have a cat named Whiskers who is 1 years old.\n",
            "I have a dog named Max who is 5 years old.\n",
            "I have a dog named Luka who is 3 years old.\n"
          ]
        }
      ]
    },
    {
      "cell_type": "markdown",
      "source": [
        "- **In the function definition, non-default parameter cannot follow the parameter with default argument**"
      ],
      "metadata": {
        "id": "3GMOKzH38gZ8"
      }
    },
    {
      "cell_type": "code",
      "source": [
        "def describe_pet(pet_type=\"dog\", pet_name, pet_age=1):\n",
        "    print(f\"I have a {pet_type} named {pet_name} who is {pet_age} years old.\")\n"
      ],
      "metadata": {
        "colab": {
          "base_uri": "https://localhost:8080/",
          "height": 106
        },
        "id": "NpSysWPG8R8V",
        "outputId": "f269b5e5-a0dd-4c81-f161-cbef7a9502bc"
      },
      "execution_count": null,
      "outputs": [
        {
          "output_type": "error",
          "ename": "SyntaxError",
          "evalue": "non-default argument follows default argument (<ipython-input-18-aba9ecbf1293>, line 1)",
          "traceback": [
            "\u001b[0;36m  File \u001b[0;32m\"<ipython-input-18-aba9ecbf1293>\"\u001b[0;36m, line \u001b[0;32m1\u001b[0m\n\u001b[0;31m    def describe_pet(pet_type=\"dog\", pet_name, pet_age=1):\u001b[0m\n\u001b[0m                                     ^\u001b[0m\n\u001b[0;31mSyntaxError\u001b[0m\u001b[0;31m:\u001b[0m non-default argument follows default argument\n"
          ]
        }
      ]
    },
    {
      "cell_type": "markdown",
      "source": [
        "##Variable-length parameters\n",
        "\n",
        "Variable-length parameters allow you to create functions that can accept an arbitrary number of arguments. This is incredibly useful when you don't know in advance how many arguments will be passed to your function.\n",
        "\n",
        "###Types of Variable-Length Parameters\n",
        "\n",
        "There are two main types:\n",
        "\n",
        "- `*args` (Arbitrary Positional Arguments):\n",
        "\n",
        "  - Captures any number of positional arguments passed to the function.\n",
        "  - The arguments are packed into a tuple named args.\n",
        "  - Syntax: `def function_name(*args)`:\n",
        "\n",
        "- `**kwargs` (Arbitrary Keyword Arguments):\n",
        "\n",
        "  - Captures any number of keyword arguments (arguments with names) passed to the function.\n",
        "  - The arguments are packed into a dictionary named kwargs.\n",
        "  - Syntax: `def function_name(**kwargs)`:\n",
        "\n",
        "*Note:*\n",
        "\n",
        "Tuple and dictionary will be discussed later\n",
        "\n",
        "- Example `*args`"
      ],
      "metadata": {
        "id": "mogOOtvM7vez"
      }
    },
    {
      "cell_type": "code",
      "source": [
        "def calculate_average(*numbers):\n",
        "    total = sum(numbers)\n",
        "    return total / len(numbers)\n",
        "\n",
        "average1 = calculate_average(5, 10, 15)\n",
        "average2 = calculate_average(1, 2, 3, 4, 5)\n",
        "\n",
        "print(average1)  # Output: 10.0\n",
        "print(average2)  # Output: 3.0\n"
      ],
      "metadata": {
        "colab": {
          "base_uri": "https://localhost:8080/"
        },
        "id": "ih9xA8ia6kNZ",
        "outputId": "d722f410-ecc6-40a2-a803-414c571ca4bf"
      },
      "execution_count": null,
      "outputs": [
        {
          "output_type": "stream",
          "name": "stdout",
          "text": [
            "10.0\n",
            "3.0\n"
          ]
        }
      ]
    },
    {
      "cell_type": "markdown",
      "source": [
        "*Note:*\n",
        "\n",
        "- The `len()` function is a built-in Python function that determines the number of items in a container (like a string, list, tuple, dictionary, or set). It returns an integer representing the length of the given object.\n",
        "- The `sum()` function is also a built-in Python function. This function efficiently adds numeric values within an iterable (like a list, tuple, or set). It's a convenient way to calculate totals without writing manual loops.\n",
        "\n",
        "Python's built in functions will be discussed later.\n",
        "\n",
        "- Example `**kwargs`"
      ],
      "metadata": {
        "id": "Zcuuba9V7Mup"
      }
    },
    {
      "cell_type": "code",
      "source": [
        "def print_info(**person_details):\n",
        "    for key, value in person_details.items():\n",
        "        print(f\"{key}: {value}\")\n",
        "\n",
        "print_info(name=\"Alice\", age=30, city=\"New York\")\n"
      ],
      "metadata": {
        "colab": {
          "base_uri": "https://localhost:8080/"
        },
        "id": "AF0tXcbB7wHq",
        "outputId": "9616b638-368a-43bf-f33f-07b943a90fc5"
      },
      "execution_count": null,
      "outputs": [
        {
          "output_type": "stream",
          "name": "stdout",
          "text": [
            "name: Alice\n",
            "age: 30\n",
            "city: New York\n"
          ]
        }
      ]
    },
    {
      "cell_type": "markdown",
      "source": [
        "## Combining Positional, Keyword, and Variable-Length Arguments\n",
        "\n",
        "You can combine all these types of arguments, but be sure to follow this order:\n",
        "\n",
        "1. Standard positional arguments\n",
        "1. *args\n",
        "1. Keyword arguments\n",
        "1. **kwargs"
      ],
      "metadata": {
        "id": "7mm8srH791OA"
      }
    },
    {
      "cell_type": "code",
      "source": [
        "def test(*args, x, **kwargs):\n",
        "  print(args)\n",
        "  print(kwargs)\n",
        "  print(x)\n",
        "\n",
        "test(12,3,4,5,x = 5, name=\"sarun\")\n"
      ],
      "metadata": {
        "colab": {
          "base_uri": "https://localhost:8080/"
        },
        "id": "9Wg6Y1kK8LYD",
        "outputId": "a4cd802e-1a19-49ba-91d2-3b496c624599"
      },
      "execution_count": null,
      "outputs": [
        {
          "output_type": "stream",
          "name": "stdout",
          "text": [
            "(12, 3, 4, 5)\n",
            "{'name': 'sarun'}\n",
            "5\n"
          ]
        }
      ]
    },
    {
      "cell_type": "code",
      "source": [
        "test(12,3,4,5,5, name=\"sarun\")"
      ],
      "metadata": {
        "colab": {
          "base_uri": "https://localhost:8080/",
          "height": 141
        },
        "id": "I2woV0dB2AxC",
        "outputId": "893a66b1-0052-4ee4-f3e4-61a444ca5381"
      },
      "execution_count": null,
      "outputs": [
        {
          "output_type": "error",
          "ename": "TypeError",
          "evalue": "test() missing 1 required keyword-only argument: 'x'",
          "traceback": [
            "\u001b[0;31m---------------------------------------------------------------------------\u001b[0m",
            "\u001b[0;31mTypeError\u001b[0m                                 Traceback (most recent call last)",
            "\u001b[0;32m<ipython-input-7-66f69a974f8b>\u001b[0m in \u001b[0;36m<cell line: 1>\u001b[0;34m()\u001b[0m\n\u001b[0;32m----> 1\u001b[0;31m \u001b[0mtest\u001b[0m\u001b[0;34m(\u001b[0m\u001b[0;36m12\u001b[0m\u001b[0;34m,\u001b[0m\u001b[0;36m3\u001b[0m\u001b[0;34m,\u001b[0m\u001b[0;36m4\u001b[0m\u001b[0;34m,\u001b[0m\u001b[0;36m5\u001b[0m\u001b[0;34m,\u001b[0m\u001b[0;36m5\u001b[0m\u001b[0;34m,\u001b[0m \u001b[0mname\u001b[0m\u001b[0;34m=\u001b[0m\u001b[0;34m\"sarun\"\u001b[0m\u001b[0;34m)\u001b[0m\u001b[0;34m\u001b[0m\u001b[0;34m\u001b[0m\u001b[0m\n\u001b[0m",
            "\u001b[0;31mTypeError\u001b[0m: test() missing 1 required keyword-only argument: 'x'"
          ]
        }
      ]
    },
    {
      "cell_type": "markdown",
      "source": [
        "From the above `test()` function, the parameter `x` is after the `*args`. Then, the argument that will be passed to `x` must be a keyword argument. Even though this program can be run as shown in the first call to `test() `. This is not a good programming practice. The function `test()` should be rewritten as the function `test1()` below"
      ],
      "metadata": {
        "id": "kir__bTa16d2"
      }
    },
    {
      "cell_type": "code",
      "source": [
        "def test1(x, *args, **kwargs):\n",
        "  print(args)\n",
        "  print(kwargs)\n",
        "  print(x)\n",
        "\n",
        "test1(5,12,3,4,5,name=\"sarun\")"
      ],
      "metadata": {
        "colab": {
          "base_uri": "https://localhost:8080/"
        },
        "id": "4dO2vt_X9Fiq",
        "outputId": "64d7505d-a5b2-44d8-831c-0fc95db37dd9"
      },
      "execution_count": null,
      "outputs": [
        {
          "output_type": "stream",
          "name": "stdout",
          "text": [
            "(12, 3, 4, 5)\n",
            "{'name': 'sarun'}\n",
            "5\n"
          ]
        }
      ]
    },
    {
      "cell_type": "markdown",
      "source": [
        "Now the first `5` is passed to `x` using positional argument."
      ],
      "metadata": {
        "id": "UWArwedm4t-y"
      }
    },
    {
      "cell_type": "code",
      "source": [
        "def test2(*args, **kwargs, x):\n",
        "  print(args)\n",
        "  print(kwargs)\n",
        "  print(x)\n",
        "\n",
        "test1(12,3,4,5,name=\"sarun\")"
      ],
      "metadata": {
        "id": "wetOJ25z9Tas",
        "colab": {
          "base_uri": "https://localhost:8080/",
          "height": 106
        },
        "outputId": "517c14b4-e76a-41d0-9169-f306785d8a98"
      },
      "execution_count": null,
      "outputs": [
        {
          "output_type": "error",
          "ename": "SyntaxError",
          "evalue": "invalid syntax (<ipython-input-10-51b1a548ebdc>, line 1)",
          "traceback": [
            "\u001b[0;36m  File \u001b[0;32m\"<ipython-input-10-51b1a548ebdc>\"\u001b[0;36m, line \u001b[0;32m1\u001b[0m\n\u001b[0;31m    def test2(*args, **kwargs, x):\u001b[0m\n\u001b[0m                               ^\u001b[0m\n\u001b[0;31mSyntaxError\u001b[0m\u001b[0;31m:\u001b[0m invalid syntax\n"
          ]
        }
      ]
    },
    {
      "cell_type": "code",
      "source": [
        "def test2(*args, **kwargs, x):\n",
        "  print(args)\n",
        "  print(kwargs)\n",
        "  print(x)"
      ],
      "metadata": {
        "id": "VxctjBoh52nf"
      },
      "execution_count": null,
      "outputs": []
    },
    {
      "cell_type": "markdown",
      "source": [
        "The `**kwargs` (if any) must be the last parameter."
      ],
      "metadata": {
        "id": "FDImjGVj5Kje"
      }
    },
    {
      "cell_type": "markdown",
      "source": [
        "*Note:*\n",
        "\n",
        "`def print(*objects, sep=' ', end='\\n', file=sys.stdout, flush=False)`\n",
        "\n",
        "The `print()` function is an example of a Python function with variable length and default parameters. If we need to pass arguments to any of these default parameters, we need to use a keyword argument by specifying the parameter's name.\n"
      ],
      "metadata": {
        "id": "hV7m18kR8l20"
      }
    },
    {
      "cell_type": "markdown",
      "source": [
        "##Function return values\n",
        "\n",
        "Function return values in Python are the results a function produces after completing its task. They allow functions to communicate and pass data back to the part of your code that called them.\n",
        "\n",
        "- How Return Values Work:\n",
        "\n",
        "  1. The `return` Statement:  The `return` statement is the key to returning values from a function. When Python encounters a `return` statement, it immediately exits the function and sends the specified value back to the caller.\n",
        "\n",
        "  1. Types of Return Values: You can return virtually any type of data from a Python function.  If a function doesn't have an explicit return statement, it implicitly returns None.\n",
        "\n",
        "  - Single Return Value: Functions can return a single value.\n",
        "  - Multiple Return Values: Functions can return multiple values as a tuple."
      ],
      "metadata": {
        "id": "b_7yK5tcGnsH"
      }
    },
    {
      "cell_type": "code",
      "source": [
        "#single return value fuunction\n",
        "def calculate_area(length, width):\n",
        "  area = length * width\n",
        "  return area\n",
        "\n",
        "rectangle_area = calculate_area(5, 10)\n",
        "print(rectangle_area)  # Output: 50\n"
      ],
      "metadata": {
        "colab": {
          "base_uri": "https://localhost:8080/"
        },
        "id": "EUAen8cqIpQ4",
        "outputId": "31ae9c79-80fe-4706-b0f8-129adc4e2205"
      },
      "execution_count": null,
      "outputs": [
        {
          "output_type": "stream",
          "name": "stdout",
          "text": [
            "50\n"
          ]
        }
      ]
    },
    {
      "cell_type": "markdown",
      "source": [
        "In this example:\n",
        "\n",
        "1. calculate_area takes length and width as inputs.\n",
        "1. It calculates the area.\n",
        "1.The return statement sends the area back to the caller.\n",
        "1. The value is assigned to rectangle_area and printed."
      ],
      "metadata": {
        "id": "RKzHUlI2I5A8"
      }
    },
    {
      "cell_type": "code",
      "source": [
        "def get_name_and_age():\n",
        "  name = \"Alice\"\n",
        "  age = 30\n",
        "  return name, age\n",
        "\n",
        "person_name, person_age = get_name_and_age()\n",
        "print(person_name, person_age)  # Output: Alice 30\n"
      ],
      "metadata": {
        "colab": {
          "base_uri": "https://localhost:8080/"
        },
        "id": "lXeYGjnDJCVE",
        "outputId": "c3d23b34-6dd1-4da5-bdfd-86d2d115e0ea"
      },
      "execution_count": null,
      "outputs": [
        {
          "output_type": "stream",
          "name": "stdout",
          "text": [
            "Alice 30\n"
          ]
        }
      ]
    },
    {
      "cell_type": "markdown",
      "source": [
        "The `get_name_and_age()` function return two values `name` and `age`, These values are packed into a `tuple` (will be discussed in more detailed later). The caller statement use two variables to unpack each from the `tuple`."
      ],
      "metadata": {
        "id": "vjnjUDYOJJH-"
      }
    },
    {
      "cell_type": "markdown",
      "source": [
        "You can also get the returned result as a single `tuple` variable and use the index to access each `tuple` element, as shown in the following function call statement."
      ],
      "metadata": {
        "id": "CCXDUwiuPX-1"
      }
    },
    {
      "cell_type": "code",
      "source": [
        "person = get_name_and_age()\n",
        "print(person[0], person[1])  # Output: Alice 30\n"
      ],
      "metadata": {
        "colab": {
          "base_uri": "https://localhost:8080/"
        },
        "id": "X9f5OLhEPGcy",
        "outputId": "b132e395-1fac-4803-8d64-52c290c44ef0"
      },
      "execution_count": null,
      "outputs": [
        {
          "output_type": "stream",
          "name": "stdout",
          "text": [
            "Alice 30\n"
          ]
        }
      ]
    },
    {
      "cell_type": "markdown",
      "source": [
        "## Exercise 2.4\n",
        "\n",
        "Write the `max_min()` function in Python. This function can receive any number as its parameter. The function returns the maximum number, and the minimum number from the list of the numbers passed from the function call statement. You need to test the function by calling it using a list of numbers of your choice and printing the maximum and minimum values returned from the function.    "
      ],
      "metadata": {
        "id": "EB8V6s-u7Vco"
      }
    },
    {
      "cell_type": "code",
      "source": [
        "# exercise 2.4\n",
        "#Your code here\n",
        "\n",
        "\n",
        "\n"
      ],
      "metadata": {
        "id": "G95EiulMM0WN"
      },
      "execution_count": null,
      "outputs": []
    },
    {
      "cell_type": "markdown",
      "source": [
        "## Variable scope and lifetime\n",
        "\n",
        "**Scope**\n",
        "\n",
        "The scope of a variable determines where in your code you can access and use it. Python has the following types of scopes:\n",
        "\n",
        "1. Global Scope: A variable declared outside of any function or class has global scope. It's accessible throughout the entire module (file) where it's defined.\n",
        "\n",
        "1. Local Scope: Variables defined within a function or class have local scope. They are only accessible within that specific function or class, and their existence is limited to the time that the function is executing.\n",
        "\n",
        "1. Enclosing (Nonlocal) Scope: In nested functions, a variable defined in an outer function can be accessed by an inner function. This is called enclosing (or nonlocal) scope. You can use the nonlocal keyword to indicate that a variable belongs to an enclosing scope.\n",
        "\n",
        "**Lifetime**\n",
        "\n",
        "The lifetime of a variable refers to the period during which it exists in memory.\n",
        "\n",
        "1. Global variables: They exist for the duration of the program's execution.\n",
        "1. Local variables: They are created when the function is called, exist as long as the function is running, and are destroyed when the function returns.\n",
        "\n"
      ],
      "metadata": {
        "id": "Tu3M08b9lzjJ"
      }
    },
    {
      "cell_type": "code",
      "source": [
        "x = 10 #1\n",
        "\n",
        "def modify():\n",
        "    x = 5  #2\n",
        "    print(\"Inside function:\", x)\n",
        "\n",
        "modify()\n",
        "print(\"Outside function:\", x)\n"
      ],
      "metadata": {
        "colab": {
          "base_uri": "https://localhost:8080/"
        },
        "id": "GaG9t-2AmEtH",
        "outputId": "ab36c0e1-46f1-402b-93b9-04cdb58262da"
      },
      "execution_count": null,
      "outputs": [
        {
          "output_type": "stream",
          "name": "stdout",
          "text": [
            "Inside function: 5\n",
            "Outside function: 10\n"
          ]
        }
      ]
    },
    {
      "cell_type": "markdown",
      "source": [
        "From the above program, `x` at #1 is a global variable, and `x` at 2 is a local variable inside the function `modify()`. The two `x` are not the same variable. Changing `x` in the function `modify()` does not change the `x` outside the function.  "
      ],
      "metadata": {
        "id": "nlClYCdjmb_v"
      }
    },
    {
      "cell_type": "code",
      "source": [
        "x = 10\n",
        "\n",
        "def modify():\n",
        "    global x\n",
        "    x = 5\n",
        "    print(\"Inside function:\", x)\n",
        "\n",
        "modify()\n",
        "print(\"Outside function:\", x)\n"
      ],
      "metadata": {
        "colab": {
          "base_uri": "https://localhost:8080/"
        },
        "id": "sleJuhKqmMTd",
        "outputId": "05f38cff-a3fd-4ccb-826f-cdaf438a3a89"
      },
      "execution_count": null,
      "outputs": [
        {
          "output_type": "stream",
          "name": "stdout",
          "text": [
            "Inside function: 5\n",
            "Outside function: 5\n"
          ]
        }
      ]
    },
    {
      "cell_type": "markdown",
      "source": [
        "If the global variable' x' needs to be used inside the function, the keyword `global` must be used. In the above example, the function `modfy()` states that it needs to use the global variable `x`. Changing `x` inside the function changes the value of the global variable `x`."
      ],
      "metadata": {
        "id": "xTUyfXcip9W-"
      }
    },
    {
      "cell_type": "code",
      "source": [
        "global_var = \"I'm global\"\n",
        "\n",
        "def my_function():\n",
        "    local_var = \"I'm local\"\n",
        "    print(global_var)  # Accessing global variable\n",
        "    print(local_var)   # Accessing local variable\n",
        "\n",
        "my_function()\n",
        "print(global_var)  # Accessing global variable\n",
        "#print(local_var)   # This will raise an error (local_var is not defined here), uncomment this line if you want to see the error\n"
      ],
      "metadata": {
        "colab": {
          "base_uri": "https://localhost:8080/"
        },
        "id": "5wtV6MpTrFjx",
        "outputId": "83f28435-c374-41ac-a432-e9dad68324b0"
      },
      "execution_count": null,
      "outputs": [
        {
          "output_type": "stream",
          "name": "stdout",
          "text": [
            "I'm global\n",
            "I'm local\n",
            "I'm global\n"
          ]
        }
      ]
    },
    {
      "cell_type": "code",
      "source": [
        "#Enclosing scope example\n",
        "\n",
        "def outer_function():\n",
        "    x = 10\n",
        "\n",
        "    def inner_function():\n",
        "        nonlocal x  # Declare x as a nonlocal variable\n",
        "        x = 20  # Modify the outer function's x\n",
        "        print(\"x inside inner_function:\", x)\n",
        "\n",
        "    inner_function()\n",
        "    print(\"x inside outer_function:\", x)\n",
        "\n",
        "outer_function()\n"
      ],
      "metadata": {
        "colab": {
          "base_uri": "https://localhost:8080/"
        },
        "id": "ai8hdXOYrhuS",
        "outputId": "6fe642da-d7d2-4900-ae7f-748caff5e093"
      },
      "execution_count": null,
      "outputs": [
        {
          "output_type": "stream",
          "name": "stdout",
          "text": [
            "x inside inner_function: 20\n",
            "x inside outer_function: 20\n"
          ]
        }
      ]
    },
    {
      "cell_type": "code",
      "source": [
        "def outer_function():\n",
        "    x = 10\n",
        "\n",
        "    def inner_function():\n",
        "        x = 20  # x is not declared as a nonlocal variable, it is local inside this nested function\n",
        "        print(\"x inside inner_function:\", x)\n",
        "\n",
        "    inner_function()\n",
        "    print(\"x inside outer_function:\", x)\n",
        "\n",
        "outer_function()\n"
      ],
      "metadata": {
        "colab": {
          "base_uri": "https://localhost:8080/"
        },
        "id": "A1SffZOarpoa",
        "outputId": "adcbccaf-729d-4e91-f896-d0f0e3b1cc41"
      },
      "execution_count": null,
      "outputs": [
        {
          "output_type": "stream",
          "name": "stdout",
          "text": [
            "x inside inner_function: 20\n",
            "x inside outer_function: 10\n"
          ]
        }
      ]
    },
    {
      "cell_type": "markdown",
      "source": [
        "##Built-in Python Functions\n",
        "\n",
        "In Python, **a built-in function is a function that is available as part of the Python standard library without needing to import any additional modules**. These functions are always accessible and can be used directly in your code. Built-in functions provide a wide range of functionalities, from basic operations like printing output to more complex tasks like sorting data or performing mathematical computations.\n",
        "\n",
        "We already used some built-in Python functions:\n",
        "- `print()`\n",
        "- `input()`\n",
        "- `type()`\n",
        "- `int()`\n",
        "- `float()`\n",
        "- `range()`\n",
        "- `len()`\n",
        "- `sum()`\n",
        "\n",
        "The above functions are the basic functions we will use the most in our program.\n",
        "\n",
        "There are still many built-in functions, and we will discuss them later as the course progresses since some of them are written to use with the iterable object (discussed later). Some are for Functional programming, and some are for Object-Oriented Programming.\n",
        "\n",
        "\n",
        "However, I would like to add some mathematical functions you should know.\n",
        "\n",
        "- `abs()`: Returns the absolute value of a number.\n",
        "- `round()`: Rounds a number to a specified number of decimal places.\n",
        "- `min()`, `max()`: Returns the smallest or largest item in an iterable or two or more arguments.\n",
        "\n",
        "\n"
      ],
      "metadata": {
        "id": "Tobl1gxRTr6_"
      }
    },
    {
      "cell_type": "code",
      "source": [
        "# Example of abs()\n",
        "negative_number = -10\n",
        "absolute_value = abs(negative_number)\n",
        "print(f\"The absolute value of {negative_number} is {absolute_value}\")\n"
      ],
      "metadata": {
        "colab": {
          "base_uri": "https://localhost:8080/"
        },
        "id": "Dzlrsn0HbZfm",
        "outputId": "859969f3-fe68-4afc-8a21-ec79ae447156"
      },
      "execution_count": null,
      "outputs": [
        {
          "output_type": "stream",
          "name": "stdout",
          "text": [
            "The absolute value of -10 is 10\n"
          ]
        }
      ]
    },
    {
      "cell_type": "code",
      "source": [
        "# Example of round()\n",
        "floating_number = 5.6789\n",
        "rounded_value = round(floating_number, 2)  # Rounds to 2 decimal places\n",
        "print(f\"The number {floating_number} rounded to 2 decimal places is {rounded_value}\")\n"
      ],
      "metadata": {
        "colab": {
          "base_uri": "https://localhost:8080/"
        },
        "id": "UkRiNhsEbdXG",
        "outputId": "a00ab106-69cf-4195-99b4-ca51f39e1568"
      },
      "execution_count": null,
      "outputs": [
        {
          "output_type": "stream",
          "name": "stdout",
          "text": [
            "The number 5.6789 rounded to 2 decimal places is 5.68\n"
          ]
        }
      ]
    },
    {
      "cell_type": "code",
      "source": [
        "# Example of min()\n",
        "number1 = 3\n",
        "number2 = 7\n",
        "number3 = 1\n",
        "minimum_value = min(number1, number2, number3)\n",
        "print(f\"The minimum value among {number1} {number2} and {number3} is {minimum_value}\")\n"
      ],
      "metadata": {
        "colab": {
          "base_uri": "https://localhost:8080/"
        },
        "id": "3mAXCiZKbp7n",
        "outputId": "cee17065-4563-4839-8fcb-b98f4eb17d6d"
      },
      "execution_count": null,
      "outputs": [
        {
          "output_type": "stream",
          "name": "stdout",
          "text": [
            "The minimum value among 3 7 and 1 is 1\n"
          ]
        }
      ]
    },
    {
      "cell_type": "code",
      "source": [
        "# Example of max()\n",
        "number1 = 3\n",
        "number2 = 7\n",
        "number3 = 1\n",
        "maximum_value = max(number1, number2, number3)\n",
        "print(f\"The maximum value among {number1} {number2} and {number3} is {maximum_value}\")\n"
      ],
      "metadata": {
        "colab": {
          "base_uri": "https://localhost:8080/"
        },
        "id": "DMZfzzNwb0ST",
        "outputId": "1353fe57-620b-4760-9318-ef33cc8a3f9a"
      },
      "execution_count": null,
      "outputs": [
        {
          "output_type": "stream",
          "name": "stdout",
          "text": [
            "The maximum value among 3 7 and 1 is 7\n"
          ]
        }
      ]
    },
    {
      "cell_type": "markdown",
      "source": [
        "## Exercise 2.5\n",
        "\n",
        "You must define a function named calculator() that functions as follows:\n",
        "\n",
        "- Get two numbers and an operator (+, -, *, /) from the user.\n",
        "- Use conditional statements (if, elif, else) to perform the appropriate calculation.\n",
        "- Handle division by zero errors gracefully (e.g., print an error message).\n",
        "\n",
        "Then test the function.\n",
        "\n",
        "The example output of the program is as follows:\n",
        "\n",
        "```\n",
        "Enter the first number: 5\n",
        "Enter the second number: 0\n",
        "Enter an operator (+, -, *, /): /\n",
        "Error: Division by zero is not allowed.\n",
        "```\n",
        "\n",
        "```\n",
        "Enter the first number: 5\n",
        "Enter the second number: 6\n",
        "Enter an operator (+, -, *, /): *\n",
        "Result: 5.0 * 6.0 = 30.0\n",
        "```\n"
      ],
      "metadata": {
        "id": "TiZ_uHsTeoj_"
      }
    },
    {
      "cell_type": "code",
      "source": [
        "# exercise 2.5\n",
        "#Your code here\n",
        "\n",
        "\n",
        "\n"
      ],
      "metadata": {
        "id": "RxS6vpStfQmT"
      },
      "execution_count": null,
      "outputs": []
    },
    {
      "cell_type": "markdown",
      "source": [
        "## Exercise 2.6\n",
        "\n",
        "You must define a function named tip_calculator() that functions as follows:\n",
        "\n",
        "- Get the bill amount and desired tip percentage from the user.\n",
        "- Calculate the tip amount and the total bill using mathematical operators and built-in functions.\n",
        "- The function must handle the situation where the user enters a negative number for the bill amount or tip percentage by asking the user to enter a valid number.\n",
        "- The tip percentage must be rounded. For example, 10.4 will be rounded to 10.\n",
        "\n",
        "\n",
        "Then test the function.\n",
        "- The display results must be nicely formatted.\n",
        "\n",
        "The example output of the program is as follows:\n",
        "\n",
        "```\n",
        "Enter the bill amount: $120\n",
        "Enter tip percentage (e.g., 15 for 15%): 15\n",
        "\n",
        "--- Tip Calculation ---\n",
        "Bill Amount: $120.00\n",
        "Tip Percentage: 15%\n",
        "Tip Amount: $18.00\n",
        "Total Bill: $138.00\n",
        "```\n",
        "\n",
        "```\n",
        "Enter the bill amount: $-100\n",
        "Invalid input. Please enter a positive number.\n",
        "Enter the bill amount: $100\n",
        "Enter tip percentage (e.g., 15 for 15%): -8\n",
        "Invalid input. Please enter a non-negative number.\n",
        "Enter tip percentage (e.g., 15 for 15%): 10\n",
        "\n",
        "--- Tip Calculation ---\n",
        "Bill Amount: $100.00\n",
        "Tip Percentage: 10%\n",
        "Tip Amount: $10.00\n",
        "Total Bill: $110.00\n",
        "```\n"
      ],
      "metadata": {
        "id": "J__2-hwGg1qR"
      }
    },
    {
      "cell_type": "code",
      "source": [
        "# exercise 2.5\n",
        "#Your code here\n",
        "\n"
      ],
      "metadata": {
        "id": "egVraIVMloYi"
      },
      "execution_count": null,
      "outputs": []
    }
  ]
}